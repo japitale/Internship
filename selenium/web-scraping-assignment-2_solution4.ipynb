{
 "cells": [
  {
   "cell_type": "code",
   "execution_count": 1,
   "metadata": {},
   "outputs": [],
   "source": [
    "import selenium\n",
    "import pandas as pd\n",
    "from selenium import webdriver \n",
    "import time"
   ]
  },
  {
   "cell_type": "code",
   "execution_count": 2,
   "metadata": {},
   "outputs": [],
   "source": [
    "driver = webdriver.Chrome(r\"C://chromedriver.exe\")"
   ]
  },
  {
   "cell_type": "code",
   "execution_count": 3,
   "metadata": {},
   "outputs": [],
   "source": [
    "driver.get('https://www.glassdoor.co.in/index.htm')\n",
    "#main_page = driver.current_window_handle"
   ]
  },
  {
   "cell_type": "code",
   "execution_count": 4,
   "metadata": {},
   "outputs": [],
   "source": [
    "signin_button = driver.find_element_by_xpath(\"//div[@class='locked-home-sign-in']/a\")\n",
    "signin_button.click()\n",
    "\n",
    "time.sleep(5)\n"
   ]
  },
  {
   "cell_type": "code",
   "execution_count": 5,
   "metadata": {},
   "outputs": [],
   "source": [
    "emailid = driver.find_element_by_xpath(\"//input[@id='userEmail']\")\n",
    "emailid.send_keys(\"jd.pitale@gmail.com\")\n",
    "\n",
    "passwd = driver.find_element_by_xpath(\"//input[@id='userPassword']\")\n",
    "passwd.send_keys(\"AAAAAAAA\")\n",
    "\n",
    "login_button = driver.find_element_by_xpath(\"//button[@class='gd-ui-button minWidthBtn css-8i7bc2']\")\n",
    "login_button.click()\n",
    "\n",
    "time.sleep(5)"
   ]
  },
  {
   "cell_type": "code",
   "execution_count": 6,
   "metadata": {},
   "outputs": [],
   "source": [
    "search_job = driver.find_element_by_xpath(\"//input[@id='sc.keyword']\")\n",
    "search_job.clear()\n",
    "search_job.send_keys(\"Data Scientist\")\n",
    "\n",
    "search_loc = driver.find_element_by_xpath(\"//input[@id='sc.location']\")\n",
    "search_loc.clear()\n",
    "search_loc.send_keys(\"Noida\")\n",
    "\n",
    "search_button = driver.find_element_by_xpath(\"//button[@class='gd-ui-button ml-std col-auto SearchStyles__newSearchButton css-iixdfr']\")\n",
    "search_button.click()"
   ]
  },
  {
   "cell_type": "code",
   "execution_count": 7,
   "metadata": {},
   "outputs": [],
   "source": [
    "company = []\n",
    "no_of_days = []\n",
    "rating = []"
   ]
  },
  {
   "cell_type": "code",
   "execution_count": 8,
   "metadata": {},
   "outputs": [
    {
     "data": {
      "text/plain": [
       "[<selenium.webdriver.remote.webelement.WebElement (session=\"4027e692bbcd230b0294567b7950cf67\", element=\"ba5c4b66-e00f-407d-bd9b-f0f65c688cb1\")>,\n",
       " <selenium.webdriver.remote.webelement.WebElement (session=\"4027e692bbcd230b0294567b7950cf67\", element=\"7ca76391-2297-4332-8e87-8a13f9b39ed6\")>,\n",
       " <selenium.webdriver.remote.webelement.WebElement (session=\"4027e692bbcd230b0294567b7950cf67\", element=\"76a329a8-b625-4c46-85ec-d43d842687cc\")>,\n",
       " <selenium.webdriver.remote.webelement.WebElement (session=\"4027e692bbcd230b0294567b7950cf67\", element=\"fca41ee3-98a8-4a52-b5e3-78d33b39db2d\")>,\n",
       " <selenium.webdriver.remote.webelement.WebElement (session=\"4027e692bbcd230b0294567b7950cf67\", element=\"e76e2268-ab52-4b67-8c62-4481380554ea\")>,\n",
       " <selenium.webdriver.remote.webelement.WebElement (session=\"4027e692bbcd230b0294567b7950cf67\", element=\"4a0adde1-0693-4694-a30a-1ff719758dae\")>,\n",
       " <selenium.webdriver.remote.webelement.WebElement (session=\"4027e692bbcd230b0294567b7950cf67\", element=\"e4e8211f-3ece-4bc7-a448-f7fe309c1597\")>,\n",
       " <selenium.webdriver.remote.webelement.WebElement (session=\"4027e692bbcd230b0294567b7950cf67\", element=\"6aabf31d-8c4e-4d8c-91ff-84557ec33a19\")>,\n",
       " <selenium.webdriver.remote.webelement.WebElement (session=\"4027e692bbcd230b0294567b7950cf67\", element=\"618f6e84-f9ce-4450-8600-c3f58f3414b2\")>,\n",
       " <selenium.webdriver.remote.webelement.WebElement (session=\"4027e692bbcd230b0294567b7950cf67\", element=\"173140eb-bb06-43ee-b0c8-92509f15feec\")>,\n",
       " <selenium.webdriver.remote.webelement.WebElement (session=\"4027e692bbcd230b0294567b7950cf67\", element=\"e079b84f-3f83-4279-b511-dd337f86d071\")>]"
      ]
     },
     "execution_count": 8,
     "metadata": {},
     "output_type": "execute_result"
    }
   ],
   "source": [
    "company_tag = driver.find_elements_by_xpath(\"//a[@class=' css-l2wjgv e1n63ojh0 jobLink']/span\")\n",
    "company_tag[0:11]"
   ]
  },
  {
   "cell_type": "code",
   "execution_count": 9,
   "metadata": {},
   "outputs": [
    {
     "data": {
      "text/plain": [
       "['Colgate-Palmolive',\n",
       " 'Morgan Stanley',\n",
       " 'Unnati',\n",
       " 'Tata Insights and Quants',\n",
       " 'BookMyShow',\n",
       " 'Hookfish',\n",
       " 'Ingredion',\n",
       " 'XPO Logistics',\n",
       " 'RGF Professional Recruitment',\n",
       " 'TEQNirvana']"
      ]
     },
     "execution_count": 9,
     "metadata": {},
     "output_type": "execute_result"
    }
   ],
   "source": [
    "for i in company_tag:\n",
    "    titles = i.text\n",
    "    company.append(titles)\n",
    "\n",
    "company[0:10]"
   ]
  },
  {
   "cell_type": "code",
   "execution_count": 10,
   "metadata": {},
   "outputs": [
    {
     "data": {
      "text/plain": [
       "[<selenium.webdriver.remote.webelement.WebElement (session=\"4027e692bbcd230b0294567b7950cf67\", element=\"73d62591-c908-49d4-9594-35ba2e1adfa7\")>,\n",
       " <selenium.webdriver.remote.webelement.WebElement (session=\"4027e692bbcd230b0294567b7950cf67\", element=\"ea3aca6d-bb4b-4e40-8e55-168e8a8582c6\")>,\n",
       " <selenium.webdriver.remote.webelement.WebElement (session=\"4027e692bbcd230b0294567b7950cf67\", element=\"1d9fa42d-6635-45c3-86c0-a6ab94926ad6\")>,\n",
       " <selenium.webdriver.remote.webelement.WebElement (session=\"4027e692bbcd230b0294567b7950cf67\", element=\"2fd4ae0d-8921-4e5f-a2db-748da099ec7d\")>,\n",
       " <selenium.webdriver.remote.webelement.WebElement (session=\"4027e692bbcd230b0294567b7950cf67\", element=\"cd1cc6f6-36c0-47e7-82f8-6cbe4c67b81b\")>,\n",
       " <selenium.webdriver.remote.webelement.WebElement (session=\"4027e692bbcd230b0294567b7950cf67\", element=\"984b9cf2-9d48-4e6b-bb0c-49534ea4907c\")>,\n",
       " <selenium.webdriver.remote.webelement.WebElement (session=\"4027e692bbcd230b0294567b7950cf67\", element=\"52e585d0-b152-49a0-be61-8845db6d17f5\")>,\n",
       " <selenium.webdriver.remote.webelement.WebElement (session=\"4027e692bbcd230b0294567b7950cf67\", element=\"c08e3da2-1d12-461b-a056-c4fd1a10f754\")>,\n",
       " <selenium.webdriver.remote.webelement.WebElement (session=\"4027e692bbcd230b0294567b7950cf67\", element=\"22dc2b37-df88-43c0-9e5d-9aafe2f0bcee\")>,\n",
       " <selenium.webdriver.remote.webelement.WebElement (session=\"4027e692bbcd230b0294567b7950cf67\", element=\"f3322f1e-2dad-467c-9418-0fa23533de21\")>,\n",
       " <selenium.webdriver.remote.webelement.WebElement (session=\"4027e692bbcd230b0294567b7950cf67\", element=\"c6b79b23-3409-419e-942c-cabf793beea7\")>]"
      ]
     },
     "execution_count": 10,
     "metadata": {},
     "output_type": "execute_result"
    }
   ],
   "source": [
    "days_tag = driver.find_elements_by_xpath(\"//div[@class='d-flex align-items-end pl-std css-mi55ob']\")\n",
    "days_tag[0:11]"
   ]
  },
  {
   "cell_type": "code",
   "execution_count": 11,
   "metadata": {},
   "outputs": [
    {
     "data": {
      "text/plain": [
       "['12d', '10d', '5d', '3d', '24d', '3d', '24d', '11d', '8d', '3d']"
      ]
     },
     "execution_count": 11,
     "metadata": {},
     "output_type": "execute_result"
    }
   ],
   "source": [
    "for i in days_tag:\n",
    "    time = i.text\n",
    "    no_of_days.append(time)\n",
    "\n",
    "no_of_days[0:10]"
   ]
  },
  {
   "cell_type": "code",
   "execution_count": 12,
   "metadata": {},
   "outputs": [
    {
     "data": {
      "text/plain": [
       "[<selenium.webdriver.remote.webelement.WebElement (session=\"4027e692bbcd230b0294567b7950cf67\", element=\"58360433-7953-4753-9e87-27d4a7fdd1b2\")>,\n",
       " <selenium.webdriver.remote.webelement.WebElement (session=\"4027e692bbcd230b0294567b7950cf67\", element=\"f9c598b2-1a60-4eb7-b006-051d15e8921a\")>,\n",
       " <selenium.webdriver.remote.webelement.WebElement (session=\"4027e692bbcd230b0294567b7950cf67\", element=\"a95051aa-f38c-4ff7-aa63-5187a4988626\")>,\n",
       " <selenium.webdriver.remote.webelement.WebElement (session=\"4027e692bbcd230b0294567b7950cf67\", element=\"30f6360e-61c8-4104-954a-399d52e60ddb\")>,\n",
       " <selenium.webdriver.remote.webelement.WebElement (session=\"4027e692bbcd230b0294567b7950cf67\", element=\"502514e6-bcea-4a19-8677-d018555dd1b0\")>,\n",
       " <selenium.webdriver.remote.webelement.WebElement (session=\"4027e692bbcd230b0294567b7950cf67\", element=\"cbcc85cb-5f6d-4ec7-90ab-4f2c12569b0b\")>,\n",
       " <selenium.webdriver.remote.webelement.WebElement (session=\"4027e692bbcd230b0294567b7950cf67\", element=\"54df3e9e-669f-497b-a649-b0432372979b\")>,\n",
       " <selenium.webdriver.remote.webelement.WebElement (session=\"4027e692bbcd230b0294567b7950cf67\", element=\"cf215e39-6d06-424c-abfd-b7f8a52b21a3\")>,\n",
       " <selenium.webdriver.remote.webelement.WebElement (session=\"4027e692bbcd230b0294567b7950cf67\", element=\"9dc3b81f-5565-461c-94b4-11f5bea54a96\")>,\n",
       " <selenium.webdriver.remote.webelement.WebElement (session=\"4027e692bbcd230b0294567b7950cf67\", element=\"e9deb15a-316e-4d16-8629-21e69f2f542d\")>,\n",
       " <selenium.webdriver.remote.webelement.WebElement (session=\"4027e692bbcd230b0294567b7950cf67\", element=\"5bc2b5c3-82fa-4834-b12d-41fcfb33d6b8\")>]"
      ]
     },
     "execution_count": 12,
     "metadata": {},
     "output_type": "execute_result"
    }
   ],
   "source": [
    "rating_tag = driver.find_elements_by_xpath(\"//span[@class='css-19pjha7 e1cjmv6j1']\")\n",
    "rating_tag[0:11]"
   ]
  },
  {
   "cell_type": "code",
   "execution_count": 13,
   "metadata": {},
   "outputs": [
    {
     "data": {
      "text/plain": [
       "['4.2', '4.0', '4.9', '3.8', '', '3.8', '3.7', '3.5', '4.1', '4.5']"
      ]
     },
     "execution_count": 13,
     "metadata": {},
     "output_type": "execute_result"
    }
   ],
   "source": [
    "for i in rating_tag:\n",
    "    rate = i.text\n",
    "    rating.append(rate)\n",
    "\n",
    "rating[0:10]"
   ]
  },
  {
   "cell_type": "code",
   "execution_count": 14,
   "metadata": {},
   "outputs": [],
   "source": [
    "jobs= pd.DataFrame({})\n",
    "jobs['Company']=company[0:10]\n",
    "jobs['No of Days old']=no_of_days[0:10]\n",
    "jobs['Rating']=rating[0:10]"
   ]
  },
  {
   "cell_type": "code",
   "execution_count": 15,
   "metadata": {},
   "outputs": [
    {
     "data": {
      "text/html": [
       "<div>\n",
       "<style scoped>\n",
       "    .dataframe tbody tr th:only-of-type {\n",
       "        vertical-align: middle;\n",
       "    }\n",
       "\n",
       "    .dataframe tbody tr th {\n",
       "        vertical-align: top;\n",
       "    }\n",
       "\n",
       "    .dataframe thead th {\n",
       "        text-align: right;\n",
       "    }\n",
       "</style>\n",
       "<table border=\"1\" class=\"dataframe\">\n",
       "  <thead>\n",
       "    <tr style=\"text-align: right;\">\n",
       "      <th></th>\n",
       "      <th>Company</th>\n",
       "      <th>No of Days old</th>\n",
       "      <th>Rating</th>\n",
       "    </tr>\n",
       "  </thead>\n",
       "  <tbody>\n",
       "    <tr>\n",
       "      <th>0</th>\n",
       "      <td>Colgate-Palmolive</td>\n",
       "      <td>12d</td>\n",
       "      <td>4.2</td>\n",
       "    </tr>\n",
       "    <tr>\n",
       "      <th>1</th>\n",
       "      <td>Morgan Stanley</td>\n",
       "      <td>10d</td>\n",
       "      <td>4.0</td>\n",
       "    </tr>\n",
       "    <tr>\n",
       "      <th>2</th>\n",
       "      <td>Unnati</td>\n",
       "      <td>5d</td>\n",
       "      <td>4.9</td>\n",
       "    </tr>\n",
       "    <tr>\n",
       "      <th>3</th>\n",
       "      <td>Tata Insights and Quants</td>\n",
       "      <td>3d</td>\n",
       "      <td>3.8</td>\n",
       "    </tr>\n",
       "    <tr>\n",
       "      <th>4</th>\n",
       "      <td>BookMyShow</td>\n",
       "      <td>24d</td>\n",
       "      <td></td>\n",
       "    </tr>\n",
       "    <tr>\n",
       "      <th>5</th>\n",
       "      <td>Hookfish</td>\n",
       "      <td>3d</td>\n",
       "      <td>3.8</td>\n",
       "    </tr>\n",
       "    <tr>\n",
       "      <th>6</th>\n",
       "      <td>Ingredion</td>\n",
       "      <td>24d</td>\n",
       "      <td>3.7</td>\n",
       "    </tr>\n",
       "    <tr>\n",
       "      <th>7</th>\n",
       "      <td>XPO Logistics</td>\n",
       "      <td>11d</td>\n",
       "      <td>3.5</td>\n",
       "    </tr>\n",
       "    <tr>\n",
       "      <th>8</th>\n",
       "      <td>RGF Professional Recruitment</td>\n",
       "      <td>8d</td>\n",
       "      <td>4.1</td>\n",
       "    </tr>\n",
       "    <tr>\n",
       "      <th>9</th>\n",
       "      <td>TEQNirvana</td>\n",
       "      <td>3d</td>\n",
       "      <td>4.5</td>\n",
       "    </tr>\n",
       "  </tbody>\n",
       "</table>\n",
       "</div>"
      ],
      "text/plain": [
       "                        Company No of Days old Rating\n",
       "0             Colgate-Palmolive            12d    4.2\n",
       "1                Morgan Stanley            10d    4.0\n",
       "2                        Unnati             5d    4.9\n",
       "3      Tata Insights and Quants             3d    3.8\n",
       "4                    BookMyShow            24d       \n",
       "5                      Hookfish             3d    3.8\n",
       "6                     Ingredion            24d    3.7\n",
       "7                 XPO Logistics            11d    3.5\n",
       "8  RGF Professional Recruitment             8d    4.1\n",
       "9                    TEQNirvana             3d    4.5"
      ]
     },
     "execution_count": 15,
     "metadata": {},
     "output_type": "execute_result"
    }
   ],
   "source": [
    "jobs"
   ]
  },
  {
   "cell_type": "code",
   "execution_count": 16,
   "metadata": {},
   "outputs": [],
   "source": [
    "driver.quit()"
   ]
  },
  {
   "cell_type": "code",
   "execution_count": null,
   "metadata": {},
   "outputs": [],
   "source": []
  }
 ],
 "metadata": {
  "kernelspec": {
   "display_name": "Python 3",
   "language": "python",
   "name": "python3"
  },
  "language_info": {
   "codemirror_mode": {
    "name": "ipython",
    "version": 3
   },
   "file_extension": ".py",
   "mimetype": "text/x-python",
   "name": "python",
   "nbconvert_exporter": "python",
   "pygments_lexer": "ipython3",
   "version": "3.8.5"
  }
 },
 "nbformat": 4,
 "nbformat_minor": 4
}
