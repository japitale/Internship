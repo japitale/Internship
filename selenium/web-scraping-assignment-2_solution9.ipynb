{
 "cells": [
  {
   "cell_type": "code",
   "execution_count": 106,
   "metadata": {},
   "outputs": [],
   "source": [
    "import selenium\n",
    "import pandas as pd\n",
    "from selenium import webdriver \n",
    "import time\n",
    "from selenium.common.exceptions import NoSuchElementException\n",
    "from selenium.webdriver.support.ui import WebDriverWait\n",
    "from selenium.webdriver.support import expected_conditions as EC\n",
    "from selenium.webdriver.common.by import By"
   ]
  },
  {
   "cell_type": "code",
   "execution_count": 107,
   "metadata": {},
   "outputs": [],
   "source": [
    "brand = []\n",
    "description = []\n",
    "price = []"
   ]
  },
  {
   "cell_type": "code",
   "execution_count": 108,
   "metadata": {},
   "outputs": [],
   "source": [
    "driver = webdriver.Chrome(r\"C://chromedriver.exe\")\n",
    "driver.get('https://www.myntra.com/shoes')"
   ]
  },
  {
   "cell_type": "code",
   "execution_count": 109,
   "metadata": {},
   "outputs": [
    {
     "data": {
      "text/plain": [
       "<selenium.webdriver.remote.webelement.WebElement (session=\"eb6f022352453337bb1807d5c6c5cf5a\", element=\"3ef26b4b-9f4f-4d7e-b7ab-8eccef2ac339\")>"
      ]
     },
     "execution_count": 109,
     "metadata": {},
     "output_type": "execute_result"
    }
   ],
   "source": [
    "#driver = webdriver.Chrome(r\"C://chromedriver.exe\")\n",
    "#driver.get('https://www.myntra.com/shoes')\n",
    "delay = 5\n",
    "WebDriverWait(driver, delay).until(EC.presence_of_element_located((By.CLASS_NAME,'price-list')))"
   ]
  },
  {
   "cell_type": "code",
   "execution_count": 110,
   "metadata": {},
   "outputs": [],
   "source": [
    "price_button = driver.find_element_by_xpath(\"//ul[@class='price-list']/li[2]/label/div\")\n",
    "price_button.click()"
   ]
  },
  {
   "cell_type": "code",
   "execution_count": 111,
   "metadata": {},
   "outputs": [
    {
     "data": {
      "text/plain": [
       "<selenium.webdriver.remote.webelement.WebElement (session=\"eb6f022352453337bb1807d5c6c5cf5a\", element=\"31366365-a99a-4fb2-8c77-0ef6fb637c8e\")>"
      ]
     },
     "execution_count": 111,
     "metadata": {},
     "output_type": "execute_result"
    }
   ],
   "source": [
    "WebDriverWait(driver, delay).until(EC.presence_of_element_located((By.CLASS_NAME,'colour-listItem')))"
   ]
  },
  {
   "cell_type": "code",
   "execution_count": 112,
   "metadata": {},
   "outputs": [],
   "source": [
    "color_button = driver.find_elements_by_xpath(\"//li[@class='colour-listItem']/label/span[1]\")\n",
    "for i in color_button:\n",
    "    x = i.get_attribute(\"data-colorhex\")\n",
    "    if x == 'black':\n",
    "        i.click()\n",
    "        break"
   ]
  },
  {
   "cell_type": "code",
   "execution_count": 113,
   "metadata": {},
   "outputs": [
    {
     "data": {
      "text/plain": [
       "['https://www.myntra.com/shoes?f=Color%3ABlack_36454f&plaEnabled=false',\n",
       " 'https://www.myntra.com/shoes?f=Color%3ABlack_36454f&plaEnabled=false&p=2']"
      ]
     },
     "execution_count": 113,
     "metadata": {},
     "output_type": "execute_result"
    }
   ],
   "source": [
    "final_link=[]\n",
    "link_url = driver.find_elements_by_xpath(\"//li[@class='pagination-active' or @class ='pagination-number']/a\")[0:2]\n",
    "\n",
    "for i in link_url:\n",
    "    links = i.get_attribute('href')\n",
    "    final_link.append(links)\n",
    "\n",
    "final_link"
   ]
  },
  {
   "cell_type": "code",
   "execution_count": 114,
   "metadata": {},
   "outputs": [],
   "source": [
    "time.sleep(3)"
   ]
  },
  {
   "cell_type": "code",
   "execution_count": 115,
   "metadata": {},
   "outputs": [],
   "source": [
    "for page in final_link:\n",
    "    \n",
    "    brand_tag = driver.find_elements_by_xpath(\"//h3[@class='product-brand']\")\n",
    "    for i in brand_tag:\n",
    "        bb=i.text\n",
    "        brand.append(bb)\n",
    "        \n",
    "    desc_tag = driver.find_elements_by_xpath(\"//h4[@class='product-product']\")\n",
    "    for i in desc_tag:\n",
    "        des=i.text\n",
    "        description.append(des)\n",
    "        \n",
    "    price_tag = driver.find_elements_by_xpath(\"//div[@class='product-price']\")\n",
    "    for i in price_tag: \n",
    "#    try:\n",
    "        if (i.find_element_by_xpath(\"//span[@class='product-discountedPrice']\")):\n",
    "           # costs = i.find_element_by_xpath(\"//span[@class='product-discountedPrice']\")\n",
    "           # for j in costs:\n",
    "            cost = i.find_element_by_xpath(\"//span[@class='product-discountedPrice']\").text\n",
    "          \n",
    "            price.append(cost)\n",
    "        else:\n",
    "        #cost = i.find_element_by_xpath(\"//div[@class='product-price']/span\").text\n",
    "            cost = i.text\n",
    "            #for j in costs:\n",
    "            #    cost = j.text\n",
    "     \n",
    "            price.append(cost) "
   ]
  },
  {
   "cell_type": "code",
   "execution_count": 116,
   "metadata": {},
   "outputs": [],
   "source": [
    "shoes= pd.DataFrame({})\n",
    "shoes['Brand']=brand[0:100]\n",
    "shoes['Description']=description[0:100]\n",
    "shoes['Price']=price[0:100]"
   ]
  },
  {
   "cell_type": "code",
   "execution_count": 117,
   "metadata": {},
   "outputs": [
    {
     "data": {
      "text/html": [
       "<div>\n",
       "<style scoped>\n",
       "    .dataframe tbody tr th:only-of-type {\n",
       "        vertical-align: middle;\n",
       "    }\n",
       "\n",
       "    .dataframe tbody tr th {\n",
       "        vertical-align: top;\n",
       "    }\n",
       "\n",
       "    .dataframe thead th {\n",
       "        text-align: right;\n",
       "    }\n",
       "</style>\n",
       "<table border=\"1\" class=\"dataframe\">\n",
       "  <thead>\n",
       "    <tr style=\"text-align: right;\">\n",
       "      <th></th>\n",
       "      <th>Brand</th>\n",
       "      <th>Description</th>\n",
       "      <th>Price</th>\n",
       "    </tr>\n",
       "  </thead>\n",
       "  <tbody>\n",
       "    <tr>\n",
       "      <th>0</th>\n",
       "      <td>Red Tape</td>\n",
       "      <td>Men Walking Shoes</td>\n",
       "      <td>Rs. 1224</td>\n",
       "    </tr>\n",
       "    <tr>\n",
       "      <th>1</th>\n",
       "      <td>MENGLER</td>\n",
       "      <td>Men Walking Shoes</td>\n",
       "      <td>Rs. 1224</td>\n",
       "    </tr>\n",
       "    <tr>\n",
       "      <th>2</th>\n",
       "      <td>Puma</td>\n",
       "      <td>Anzarun Cage Running Shoes</td>\n",
       "      <td>Rs. 1224</td>\n",
       "    </tr>\n",
       "    <tr>\n",
       "      <th>3</th>\n",
       "      <td>ASICS</td>\n",
       "      <td>Kids Solid Running Shoes</td>\n",
       "      <td>Rs. 1224</td>\n",
       "    </tr>\n",
       "    <tr>\n",
       "      <th>4</th>\n",
       "      <td>Provogue</td>\n",
       "      <td>Men Solid Horsebit Loafers</td>\n",
       "      <td>Rs. 1224</td>\n",
       "    </tr>\n",
       "    <tr>\n",
       "      <th>...</th>\n",
       "      <td>...</td>\n",
       "      <td>...</td>\n",
       "      <td>...</td>\n",
       "    </tr>\n",
       "    <tr>\n",
       "      <th>93</th>\n",
       "      <td>UNDER ARMOUR</td>\n",
       "      <td>Men Surge 2 Running Shoes</td>\n",
       "      <td>Rs. 1224</td>\n",
       "    </tr>\n",
       "    <tr>\n",
       "      <th>94</th>\n",
       "      <td>HRX by Hrithik Roshan</td>\n",
       "      <td>Women Walk Lite Running shoe</td>\n",
       "      <td>Rs. 1224</td>\n",
       "    </tr>\n",
       "    <tr>\n",
       "      <th>95</th>\n",
       "      <td>M7 by Metronaut</td>\n",
       "      <td>Men Woven Design Sneakers</td>\n",
       "      <td>Rs. 1224</td>\n",
       "    </tr>\n",
       "    <tr>\n",
       "      <th>96</th>\n",
       "      <td>AfroJack</td>\n",
       "      <td>Men Running Shoes</td>\n",
       "      <td>Rs. 1224</td>\n",
       "    </tr>\n",
       "    <tr>\n",
       "      <th>97</th>\n",
       "      <td>Levis</td>\n",
       "      <td>Men BONN Sneakers</td>\n",
       "      <td>Rs. 1224</td>\n",
       "    </tr>\n",
       "  </tbody>\n",
       "</table>\n",
       "<p>98 rows × 3 columns</p>\n",
       "</div>"
      ],
      "text/plain": [
       "                    Brand                   Description     Price\n",
       "0                Red Tape             Men Walking Shoes  Rs. 1224\n",
       "1                 MENGLER             Men Walking Shoes  Rs. 1224\n",
       "2                    Puma    Anzarun Cage Running Shoes  Rs. 1224\n",
       "3                   ASICS      Kids Solid Running Shoes  Rs. 1224\n",
       "4                Provogue    Men Solid Horsebit Loafers  Rs. 1224\n",
       "..                    ...                           ...       ...\n",
       "93           UNDER ARMOUR     Men Surge 2 Running Shoes  Rs. 1224\n",
       "94  HRX by Hrithik Roshan  Women Walk Lite Running shoe  Rs. 1224\n",
       "95        M7 by Metronaut     Men Woven Design Sneakers  Rs. 1224\n",
       "96               AfroJack             Men Running Shoes  Rs. 1224\n",
       "97                  Levis             Men BONN Sneakers  Rs. 1224\n",
       "\n",
       "[98 rows x 3 columns]"
      ]
     },
     "execution_count": 117,
     "metadata": {},
     "output_type": "execute_result"
    }
   ],
   "source": [
    "shoes"
   ]
  },
  {
   "cell_type": "code",
   "execution_count": 118,
   "metadata": {},
   "outputs": [],
   "source": [
    "driver.quit()"
   ]
  }
 ],
 "metadata": {
  "kernelspec": {
   "display_name": "Python 3",
   "language": "python",
   "name": "python3"
  },
  "language_info": {
   "codemirror_mode": {
    "name": "ipython",
    "version": 3
   },
   "file_extension": ".py",
   "mimetype": "text/x-python",
   "name": "python",
   "nbconvert_exporter": "python",
   "pygments_lexer": "ipython3",
   "version": "3.8.5"
  }
 },
 "nbformat": 4,
 "nbformat_minor": 4
}
