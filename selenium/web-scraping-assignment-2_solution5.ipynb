{
 "cells": [
  {
   "cell_type": "code",
   "execution_count": 1,
   "metadata": {},
   "outputs": [],
   "source": [
    "import selenium\n",
    "import pandas as pd\n",
    "from selenium import webdriver \n",
    "import time"
   ]
  },
  {
   "cell_type": "code",
   "execution_count": 2,
   "metadata": {},
   "outputs": [],
   "source": [
    "driver = webdriver.Chrome(r\"C://chromedriver.exe\")"
   ]
  },
  {
   "cell_type": "code",
   "execution_count": 3,
   "metadata": {},
   "outputs": [],
   "source": [
    "driver.get('https://www.glassdoor.co.in/Salaries/index.htm')"
   ]
  },
  {
   "cell_type": "code",
   "execution_count": 4,
   "metadata": {},
   "outputs": [],
   "source": [
    "search_job = driver.find_element_by_xpath(\"//input[@name='sc.keyword']\")\n",
    "search_job.clear()\n",
    "search_job.send_keys(\"Data Scientist\")\n",
    "\n",
    "search_loc = driver.find_element_by_xpath(\"//input[@id='LocationSearch']\")\n",
    "search_loc.clear()\n",
    "search_loc.send_keys(\"Noida\")\n",
    "\n",
    "search_button = driver.find_element_by_xpath(\"//button[@id='HeroSearchButton']\")\n",
    "search_button.click()\n",
    "\n",
    "time.sleep(5)"
   ]
  },
  {
   "cell_type": "code",
   "execution_count": 5,
   "metadata": {},
   "outputs": [],
   "source": [
    "company = []\n",
    "no_of_salaries = []\n",
    "avg_sal = []\n",
    "min_sal = []\n",
    "max_sal= []"
   ]
  },
  {
   "cell_type": "code",
   "execution_count": 6,
   "metadata": {},
   "outputs": [
    {
     "data": {
      "text/plain": [
       "['Tata Consultancy Services',\n",
       " 'Accenture',\n",
       " 'Delhivery',\n",
       " 'IBM',\n",
       " 'Ericsson-Worldwide',\n",
       " 'UnitedHealth Group',\n",
       " 'Valiance Solutions',\n",
       " 'Innovaccer',\n",
       " 'ZS Associates',\n",
       " 'EXL Service']"
      ]
     },
     "execution_count": 6,
     "metadata": {},
     "output_type": "execute_result"
    }
   ],
   "source": [
    "company_tag = driver.find_elements_by_xpath(\"//p[2][@class='m-0 ']\")\n",
    "#company_tag[0:11]\n",
    "for i in company_tag:\n",
    "    titles = i.text\n",
    "    company.append(titles)\n",
    "\n",
    "company[0:10]"
   ]
  },
  {
   "cell_type": "code",
   "execution_count": 7,
   "metadata": {},
   "outputs": [
    {
     "data": {
      "text/plain": [
       "['14 salaries',\n",
       " '14 salaries',\n",
       " '14 salaries',\n",
       " '13 salaries',\n",
       " '12 salaries',\n",
       " '10 salaries',\n",
       " '9 salaries',\n",
       " '8 salaries',\n",
       " '7 salaries',\n",
       " '7 salaries']"
      ]
     },
     "execution_count": 7,
     "metadata": {},
     "output_type": "execute_result"
    }
   ],
   "source": [
    "sal_num_tag = driver.find_elements_by_xpath(\"//p[@class='css-1uyte9r css-1kuy7z7 m-0 ']\")\n",
    "#company_tag[0:11]\n",
    "for i in sal_num_tag:\n",
    "    sal_num = i.text\n",
    "    no_of_salaries.append(sal_num)\n",
    "\n",
    "no_of_salaries[0:10]"
   ]
  },
  {
   "cell_type": "code",
   "execution_count": 8,
   "metadata": {},
   "outputs": [
    {
     "data": {
      "text/plain": [
       "['₹ 5,97,967',\n",
       " '₹ 11,12,243',\n",
       " '₹ 12,12,741',\n",
       " '₹ 7,37,972',\n",
       " '₹ 7,15,984',\n",
       " '₹ 13,41,900',\n",
       " '₹ 7,90,812',\n",
       " '₹ 11,81,047',\n",
       " '₹ 9,89,924',\n",
       " '₹ 11,73,127']"
      ]
     },
     "execution_count": 8,
     "metadata": {},
     "output_type": "execute_result"
    }
   ],
   "source": [
    "sal_avg_tag = driver.find_elements_by_xpath(\"//div[@class='col-2 d-none d-md-flex flex-row justify-content-end']/strong\")\n",
    "#company_tag[0:11]\n",
    "for i in sal_avg_tag:\n",
    "    sal_avg = i.text\n",
    "    avg_sal.append(sal_avg)\n",
    "\n",
    "avg_sal[0:10]"
   ]
  },
  {
   "cell_type": "code",
   "execution_count": 9,
   "metadata": {},
   "outputs": [
    {
     "data": {
      "text/plain": [
       "['₹333K',\n",
       " '₹560K',\n",
       " '₹436K',\n",
       " '₹569K',\n",
       " '₹350K',\n",
       " '₹1,037K',\n",
       " '₹487K',\n",
       " '₹602K',\n",
       " '₹196K',\n",
       " '₹558K']"
      ]
     },
     "execution_count": 9,
     "metadata": {},
     "output_type": "execute_result"
    }
   ],
   "source": [
    "sal_min_tag = driver.find_elements_by_xpath(\"//div[@class='common__RangeBarStyle__values d-flex justify-content-between ']/span[1]\")\n",
    "#company_tag[0:11]\n",
    "for i in sal_min_tag:\n",
    "    sal_min = i.text\n",
    "    min_sal.append(sal_min)\n",
    "\n",
    "min_sal[0:10]"
   ]
  },
  {
   "cell_type": "code",
   "execution_count": 10,
   "metadata": {},
   "outputs": [
    {
     "data": {
      "text/plain": [
       "['₹1,080K',\n",
       " '₹2,147K',\n",
       " '₹11,274K',\n",
       " '₹2,648K',\n",
       " '₹1,565K',\n",
       " '₹1,500K',\n",
       " '₹1,421K',\n",
       " '₹1,644K',\n",
       " '₹1,755K',\n",
       " '₹1,500K']"
      ]
     },
     "execution_count": 10,
     "metadata": {},
     "output_type": "execute_result"
    }
   ],
   "source": [
    "sal_max_tag = driver.find_elements_by_xpath(\"//div[@class='common__RangeBarStyle__values d-flex justify-content-between ']/span[2]\")\n",
    "#company_tag[0:11]\n",
    "for i in sal_max_tag:\n",
    "    sal_max = i.text\n",
    "    max_sal.append(sal_max)\n",
    "\n",
    "max_sal[0:10]"
   ]
  },
  {
   "cell_type": "code",
   "execution_count": 11,
   "metadata": {},
   "outputs": [
    {
     "data": {
      "text/html": [
       "<div>\n",
       "<style scoped>\n",
       "    .dataframe tbody tr th:only-of-type {\n",
       "        vertical-align: middle;\n",
       "    }\n",
       "\n",
       "    .dataframe tbody tr th {\n",
       "        vertical-align: top;\n",
       "    }\n",
       "\n",
       "    .dataframe thead th {\n",
       "        text-align: right;\n",
       "    }\n",
       "</style>\n",
       "<table border=\"1\" class=\"dataframe\">\n",
       "  <thead>\n",
       "    <tr style=\"text-align: right;\">\n",
       "      <th></th>\n",
       "      <th>Company</th>\n",
       "      <th>No of Salaries</th>\n",
       "      <th>Average Salary</th>\n",
       "      <th>Minimum Salary</th>\n",
       "      <th>Maximum Salary</th>\n",
       "    </tr>\n",
       "  </thead>\n",
       "  <tbody>\n",
       "    <tr>\n",
       "      <th>0</th>\n",
       "      <td>Tata Consultancy Services</td>\n",
       "      <td>14 salaries</td>\n",
       "      <td>₹ 5,97,967</td>\n",
       "      <td>₹333K</td>\n",
       "      <td>₹1,080K</td>\n",
       "    </tr>\n",
       "    <tr>\n",
       "      <th>1</th>\n",
       "      <td>Accenture</td>\n",
       "      <td>14 salaries</td>\n",
       "      <td>₹ 11,12,243</td>\n",
       "      <td>₹560K</td>\n",
       "      <td>₹2,147K</td>\n",
       "    </tr>\n",
       "    <tr>\n",
       "      <th>2</th>\n",
       "      <td>Delhivery</td>\n",
       "      <td>14 salaries</td>\n",
       "      <td>₹ 12,12,741</td>\n",
       "      <td>₹436K</td>\n",
       "      <td>₹11,274K</td>\n",
       "    </tr>\n",
       "    <tr>\n",
       "      <th>3</th>\n",
       "      <td>IBM</td>\n",
       "      <td>13 salaries</td>\n",
       "      <td>₹ 7,37,972</td>\n",
       "      <td>₹569K</td>\n",
       "      <td>₹2,648K</td>\n",
       "    </tr>\n",
       "    <tr>\n",
       "      <th>4</th>\n",
       "      <td>Ericsson-Worldwide</td>\n",
       "      <td>12 salaries</td>\n",
       "      <td>₹ 7,15,984</td>\n",
       "      <td>₹350K</td>\n",
       "      <td>₹1,565K</td>\n",
       "    </tr>\n",
       "    <tr>\n",
       "      <th>5</th>\n",
       "      <td>UnitedHealth Group</td>\n",
       "      <td>10 salaries</td>\n",
       "      <td>₹ 13,41,900</td>\n",
       "      <td>₹1,037K</td>\n",
       "      <td>₹1,500K</td>\n",
       "    </tr>\n",
       "    <tr>\n",
       "      <th>6</th>\n",
       "      <td>Valiance Solutions</td>\n",
       "      <td>9 salaries</td>\n",
       "      <td>₹ 7,90,812</td>\n",
       "      <td>₹487K</td>\n",
       "      <td>₹1,421K</td>\n",
       "    </tr>\n",
       "    <tr>\n",
       "      <th>7</th>\n",
       "      <td>Innovaccer</td>\n",
       "      <td>8 salaries</td>\n",
       "      <td>₹ 11,81,047</td>\n",
       "      <td>₹602K</td>\n",
       "      <td>₹1,644K</td>\n",
       "    </tr>\n",
       "    <tr>\n",
       "      <th>8</th>\n",
       "      <td>ZS Associates</td>\n",
       "      <td>7 salaries</td>\n",
       "      <td>₹ 9,89,924</td>\n",
       "      <td>₹196K</td>\n",
       "      <td>₹1,755K</td>\n",
       "    </tr>\n",
       "    <tr>\n",
       "      <th>9</th>\n",
       "      <td>EXL Service</td>\n",
       "      <td>7 salaries</td>\n",
       "      <td>₹ 11,73,127</td>\n",
       "      <td>₹558K</td>\n",
       "      <td>₹1,500K</td>\n",
       "    </tr>\n",
       "  </tbody>\n",
       "</table>\n",
       "</div>"
      ],
      "text/plain": [
       "                     Company No of Salaries Average Salary Minimum Salary  \\\n",
       "0  Tata Consultancy Services    14 salaries     ₹ 5,97,967          ₹333K   \n",
       "1                  Accenture    14 salaries    ₹ 11,12,243          ₹560K   \n",
       "2                  Delhivery    14 salaries    ₹ 12,12,741          ₹436K   \n",
       "3                        IBM    13 salaries     ₹ 7,37,972          ₹569K   \n",
       "4         Ericsson-Worldwide    12 salaries     ₹ 7,15,984          ₹350K   \n",
       "5         UnitedHealth Group    10 salaries    ₹ 13,41,900        ₹1,037K   \n",
       "6         Valiance Solutions     9 salaries     ₹ 7,90,812          ₹487K   \n",
       "7                 Innovaccer     8 salaries    ₹ 11,81,047          ₹602K   \n",
       "8              ZS Associates     7 salaries     ₹ 9,89,924          ₹196K   \n",
       "9                EXL Service     7 salaries    ₹ 11,73,127          ₹558K   \n",
       "\n",
       "  Maximum Salary  \n",
       "0        ₹1,080K  \n",
       "1        ₹2,147K  \n",
       "2       ₹11,274K  \n",
       "3        ₹2,648K  \n",
       "4        ₹1,565K  \n",
       "5        ₹1,500K  \n",
       "6        ₹1,421K  \n",
       "7        ₹1,644K  \n",
       "8        ₹1,755K  \n",
       "9        ₹1,500K  "
      ]
     },
     "execution_count": 11,
     "metadata": {},
     "output_type": "execute_result"
    }
   ],
   "source": [
    "jobs= pd.DataFrame({})\n",
    "jobs['Company']=company[0:10]\n",
    "jobs['No of Salaries']=no_of_salaries[0:10]\n",
    "jobs['Average Salary']=avg_sal[0:10]\n",
    "jobs['Minimum Salary']=min_sal[0:10]\n",
    "jobs['Maximum Salary']=max_sal[0:10]\n",
    "\n",
    "jobs"
   ]
  },
  {
   "cell_type": "code",
   "execution_count": 12,
   "metadata": {},
   "outputs": [],
   "source": [
    "driver.quit()"
   ]
  }
 ],
 "metadata": {
  "kernelspec": {
   "display_name": "Python 3",
   "language": "python",
   "name": "python3"
  },
  "language_info": {
   "codemirror_mode": {
    "name": "ipython",
    "version": 3
   },
   "file_extension": ".py",
   "mimetype": "text/x-python",
   "name": "python",
   "nbconvert_exporter": "python",
   "pygments_lexer": "ipython3",
   "version": "3.8.5"
  }
 },
 "nbformat": 4,
 "nbformat_minor": 4
}
