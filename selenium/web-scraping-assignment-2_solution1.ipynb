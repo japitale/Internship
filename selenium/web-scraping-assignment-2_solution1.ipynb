{
 "cells": [
  {
   "cell_type": "code",
   "execution_count": 1,
   "metadata": {},
   "outputs": [],
   "source": [
    "#! pip install selenium"
   ]
  },
  {
   "cell_type": "code",
   "execution_count": 2,
   "metadata": {},
   "outputs": [],
   "source": [
    "import selenium\n",
    "import pandas as pd\n",
    "from selenium import webdriver "
   ]
  },
  {
   "cell_type": "code",
   "execution_count": 3,
   "metadata": {},
   "outputs": [],
   "source": [
    "driver = webdriver.Chrome(r\"C://chromedriver.exe\")"
   ]
  },
  {
   "cell_type": "code",
   "execution_count": 4,
   "metadata": {},
   "outputs": [],
   "source": [
    "#driver.close()"
   ]
  },
  {
   "cell_type": "code",
   "execution_count": 5,
   "metadata": {},
   "outputs": [],
   "source": [
    "driver.get('https://www.naukri.com/')"
   ]
  },
  {
   "cell_type": "code",
   "execution_count": 6,
   "metadata": {},
   "outputs": [],
   "source": [
    "search_job = driver.find_element_by_id('qsb-keyword-sugg')\n",
    "search_job.send_keys(\"Data Analyst\")\n",
    "search_loc = driver.find_element_by_id('qsb-location-sugg')\n",
    "search_loc.send_keys(\"Bangalore\")\n",
    "\n",
    "search_button = driver.find_element_by_xpath(\"//div[@class='search-btn']/button\")\n",
    "search_button.click()"
   ]
  },
  {
   "cell_type": "code",
   "execution_count": 7,
   "metadata": {},
   "outputs": [],
   "source": [
    "url = 'https://www.naukri.com/data-analyst-jobs-in-bangalore?k=data%20analyst&l=bangalore'"
   ]
  },
  {
   "cell_type": "code",
   "execution_count": 8,
   "metadata": {},
   "outputs": [],
   "source": [
    "driver.get(url)"
   ]
  },
  {
   "cell_type": "code",
   "execution_count": 9,
   "metadata": {},
   "outputs": [],
   "source": [
    "job_title = []\n",
    "job_loc = []\n",
    "company = []\n",
    "experience = []"
   ]
  },
  {
   "cell_type": "code",
   "execution_count": 10,
   "metadata": {},
   "outputs": [
    {
     "data": {
      "text/plain": [
       "[<selenium.webdriver.remote.webelement.WebElement (session=\"02d038be2cb11ac64c80ee1300d0c5a7\", element=\"d24829f8-2fc2-4e23-b6b4-7c06bd39dde0\")>,\n",
       " <selenium.webdriver.remote.webelement.WebElement (session=\"02d038be2cb11ac64c80ee1300d0c5a7\", element=\"f4bd72d9-bf35-4c53-9a6d-c1aee593076e\")>,\n",
       " <selenium.webdriver.remote.webelement.WebElement (session=\"02d038be2cb11ac64c80ee1300d0c5a7\", element=\"6345b9d0-0fcf-43b0-976a-2aecd4e661fa\")>,\n",
       " <selenium.webdriver.remote.webelement.WebElement (session=\"02d038be2cb11ac64c80ee1300d0c5a7\", element=\"de9228cd-cd00-49ed-a50a-f976cb59d165\")>,\n",
       " <selenium.webdriver.remote.webelement.WebElement (session=\"02d038be2cb11ac64c80ee1300d0c5a7\", element=\"6c82559d-834d-4510-97de-b57d8961f715\")>,\n",
       " <selenium.webdriver.remote.webelement.WebElement (session=\"02d038be2cb11ac64c80ee1300d0c5a7\", element=\"ea9b85b7-b198-4805-9426-ad138be6a681\")>,\n",
       " <selenium.webdriver.remote.webelement.WebElement (session=\"02d038be2cb11ac64c80ee1300d0c5a7\", element=\"e11ce770-f039-40fd-b4b7-5cb762707751\")>,\n",
       " <selenium.webdriver.remote.webelement.WebElement (session=\"02d038be2cb11ac64c80ee1300d0c5a7\", element=\"2cb4d1e7-024d-484e-be39-9670d833731a\")>,\n",
       " <selenium.webdriver.remote.webelement.WebElement (session=\"02d038be2cb11ac64c80ee1300d0c5a7\", element=\"7b266a52-8f02-43dd-9d14-d78b1e9af67f\")>,\n",
       " <selenium.webdriver.remote.webelement.WebElement (session=\"02d038be2cb11ac64c80ee1300d0c5a7\", element=\"ffd61a53-25fa-493f-8d18-ed25fe2d8e9f\")>,\n",
       " <selenium.webdriver.remote.webelement.WebElement (session=\"02d038be2cb11ac64c80ee1300d0c5a7\", element=\"513ba01c-c3b8-4038-acfa-a62b8f16ec38\")>]"
      ]
     },
     "execution_count": 10,
     "metadata": {},
     "output_type": "execute_result"
    }
   ],
   "source": [
    "title_tags = driver.find_elements_by_xpath(\"//a[@class='title fw500 ellipsis']\")\n",
    "title_tags[0:11]"
   ]
  },
  {
   "cell_type": "code",
   "execution_count": 11,
   "metadata": {},
   "outputs": [
    {
     "data": {
      "text/plain": [
       "['Data Engineer/Data Analyst- Chennai',\n",
       " 'Azure Data Analyst',\n",
       " 'Data Analyst',\n",
       " 'Executive - Data Analyst',\n",
       " 'Data Analyst',\n",
       " 'Data Analyst - Alteryx, Tableau and SQL',\n",
       " 'Data Analyst',\n",
       " 'Data Analyst',\n",
       " 'Data Analyst',\n",
       " 'Data Analyst']"
      ]
     },
     "execution_count": 11,
     "metadata": {},
     "output_type": "execute_result"
    }
   ],
   "source": [
    "for i in title_tags:\n",
    "    titles = i.text\n",
    "    job_title.append(titles)\n",
    "\n",
    "job_title[0:10]"
   ]
  },
  {
   "cell_type": "code",
   "execution_count": 12,
   "metadata": {},
   "outputs": [
    {
     "data": {
      "text/plain": [
       "[<selenium.webdriver.remote.webelement.WebElement (session=\"02d038be2cb11ac64c80ee1300d0c5a7\", element=\"9b012a08-0051-4745-b69c-b157766d78d8\")>,\n",
       " <selenium.webdriver.remote.webelement.WebElement (session=\"02d038be2cb11ac64c80ee1300d0c5a7\", element=\"a09aa578-974b-4d7a-8927-c5acadca29fd\")>,\n",
       " <selenium.webdriver.remote.webelement.WebElement (session=\"02d038be2cb11ac64c80ee1300d0c5a7\", element=\"a3e04002-6da8-4391-8e79-655418fa121b\")>,\n",
       " <selenium.webdriver.remote.webelement.WebElement (session=\"02d038be2cb11ac64c80ee1300d0c5a7\", element=\"8659f117-ddc7-4bfd-92cc-35a62751d02d\")>,\n",
       " <selenium.webdriver.remote.webelement.WebElement (session=\"02d038be2cb11ac64c80ee1300d0c5a7\", element=\"287066bd-4d4a-4474-a227-f0e5b7f022db\")>,\n",
       " <selenium.webdriver.remote.webelement.WebElement (session=\"02d038be2cb11ac64c80ee1300d0c5a7\", element=\"a0b316e2-f7ab-4a2b-b406-2813cf98f727\")>,\n",
       " <selenium.webdriver.remote.webelement.WebElement (session=\"02d038be2cb11ac64c80ee1300d0c5a7\", element=\"90e4531f-8401-41a0-98c4-d1ab05c3791f\")>,\n",
       " <selenium.webdriver.remote.webelement.WebElement (session=\"02d038be2cb11ac64c80ee1300d0c5a7\", element=\"d74da1d4-5827-4709-ba61-ef3f6201e77b\")>,\n",
       " <selenium.webdriver.remote.webelement.WebElement (session=\"02d038be2cb11ac64c80ee1300d0c5a7\", element=\"81250499-d5a9-4637-b0f6-e9b8302fc7a9\")>,\n",
       " <selenium.webdriver.remote.webelement.WebElement (session=\"02d038be2cb11ac64c80ee1300d0c5a7\", element=\"b437e962-b89f-4696-88d2-c62e0eacc194\")>]"
      ]
     },
     "execution_count": 12,
     "metadata": {},
     "output_type": "execute_result"
    }
   ],
   "source": [
    "#loc_tags = driver.find_elements_by_xpath(\"//span[@class='ellipsis fleft fs12 lh16']/span[3]\")\n",
    "loc_tags = driver.find_elements_by_xpath(\"//li[@class='fleft grey-text br2 placeHolderLi location']/span\")\n",
    "loc_tags[0:10]"
   ]
  },
  {
   "cell_type": "code",
   "execution_count": 13,
   "metadata": {},
   "outputs": [
    {
     "data": {
      "text/plain": [
       "['Hyderabad/Secunderabad, Pune, Chennai, Bangalore/Bengaluru',\n",
       " 'Bangalore/Bengaluru',\n",
       " 'Bangalore/Bengaluru(Devalapur)',\n",
       " 'Bangalore/Bengaluru',\n",
       " 'Bangalore/Bengaluru',\n",
       " 'Bangalore/Bengaluru',\n",
       " 'Bangalore/Bengaluru',\n",
       " 'Bangalore/Bengaluru',\n",
       " 'Bangalore/Bengaluru',\n",
       " 'Bangalore/Bengaluru']"
      ]
     },
     "execution_count": 13,
     "metadata": {},
     "output_type": "execute_result"
    }
   ],
   "source": [
    "for i in loc_tags:\n",
    "    locs= i.text\n",
    "    job_loc.append(locs)\n",
    "    \n",
    "job_loc[0:10]"
   ]
  },
  {
   "cell_type": "code",
   "execution_count": 14,
   "metadata": {},
   "outputs": [
    {
     "data": {
      "text/plain": [
       "[<selenium.webdriver.remote.webelement.WebElement (session=\"02d038be2cb11ac64c80ee1300d0c5a7\", element=\"46906a86-fe3a-4598-98f5-5c06c066749b\")>,\n",
       " <selenium.webdriver.remote.webelement.WebElement (session=\"02d038be2cb11ac64c80ee1300d0c5a7\", element=\"a7ace5fa-2082-4a5a-8564-75c68a7d270a\")>,\n",
       " <selenium.webdriver.remote.webelement.WebElement (session=\"02d038be2cb11ac64c80ee1300d0c5a7\", element=\"896a84b8-ed48-44a8-bb0b-d70aca25bac0\")>,\n",
       " <selenium.webdriver.remote.webelement.WebElement (session=\"02d038be2cb11ac64c80ee1300d0c5a7\", element=\"d2648e23-7b22-4613-8a66-dd23280229bb\")>,\n",
       " <selenium.webdriver.remote.webelement.WebElement (session=\"02d038be2cb11ac64c80ee1300d0c5a7\", element=\"60e01dc0-2cd8-4091-b8c2-0a60ac84ede6\")>,\n",
       " <selenium.webdriver.remote.webelement.WebElement (session=\"02d038be2cb11ac64c80ee1300d0c5a7\", element=\"8b01b735-1602-43c8-ab43-904cce1887c7\")>,\n",
       " <selenium.webdriver.remote.webelement.WebElement (session=\"02d038be2cb11ac64c80ee1300d0c5a7\", element=\"b2a25462-3c8e-435e-a4c6-1c5178397a0b\")>,\n",
       " <selenium.webdriver.remote.webelement.WebElement (session=\"02d038be2cb11ac64c80ee1300d0c5a7\", element=\"681ae925-5d2d-438a-acf5-843d73cb448f\")>,\n",
       " <selenium.webdriver.remote.webelement.WebElement (session=\"02d038be2cb11ac64c80ee1300d0c5a7\", element=\"b1c221c5-a657-4f07-89a1-c56365c90c9e\")>,\n",
       " <selenium.webdriver.remote.webelement.WebElement (session=\"02d038be2cb11ac64c80ee1300d0c5a7\", element=\"ef91fcbe-4d5b-4e32-8a29-64b6daaf8a3e\")>]"
      ]
     },
     "execution_count": 14,
     "metadata": {},
     "output_type": "execute_result"
    }
   ],
   "source": [
    "company_tags = driver.find_elements_by_xpath(\"//a[@class='subTitle ellipsis fleft']\")\n",
    "company_tags[0:10]"
   ]
  },
  {
   "cell_type": "code",
   "execution_count": 15,
   "metadata": {},
   "outputs": [
    {
     "data": {
      "text/plain": [
       "['Inflexion Analytix Private Limited',\n",
       " 'Capgemini Technology Services India Limited',\n",
       " 'Super India Tech Mark',\n",
       " 'Flipkart Internet Private Limited',\n",
       " 'CONDUENT BUSINESS SERVICES INDIA LLP',\n",
       " 'Schneider Electric',\n",
       " 'Myntra Designs Pvt. Ltd.',\n",
       " 'Myntra Designs Pvt. Ltd.',\n",
       " 'Myntra Designs Pvt. Ltd.',\n",
       " 'Myntra Designs Pvt. Ltd.']"
      ]
     },
     "execution_count": 15,
     "metadata": {},
     "output_type": "execute_result"
    }
   ],
   "source": [
    "for i in company_tags:\n",
    "    comp= i.text\n",
    "    company.append(comp)\n",
    "    \n",
    "company[0:10]"
   ]
  },
  {
   "cell_type": "code",
   "execution_count": 16,
   "metadata": {},
   "outputs": [
    {
     "data": {
      "text/plain": [
       "[<selenium.webdriver.remote.webelement.WebElement (session=\"02d038be2cb11ac64c80ee1300d0c5a7\", element=\"49daed62-ee1a-4b1b-9d78-ce44f068016e\")>,\n",
       " <selenium.webdriver.remote.webelement.WebElement (session=\"02d038be2cb11ac64c80ee1300d0c5a7\", element=\"97b30965-e4bb-48a3-8327-e534f9dc9730\")>,\n",
       " <selenium.webdriver.remote.webelement.WebElement (session=\"02d038be2cb11ac64c80ee1300d0c5a7\", element=\"0000d17b-8e28-40bc-979c-221ae18d7bd7\")>,\n",
       " <selenium.webdriver.remote.webelement.WebElement (session=\"02d038be2cb11ac64c80ee1300d0c5a7\", element=\"f2383d7b-7816-4caa-8534-77a296c0bfb4\")>,\n",
       " <selenium.webdriver.remote.webelement.WebElement (session=\"02d038be2cb11ac64c80ee1300d0c5a7\", element=\"008df0c0-0ebd-43e8-9cd8-f2d408d442cf\")>,\n",
       " <selenium.webdriver.remote.webelement.WebElement (session=\"02d038be2cb11ac64c80ee1300d0c5a7\", element=\"d89dbbe3-0b1a-4bb0-bf33-a69f76e9e58d\")>,\n",
       " <selenium.webdriver.remote.webelement.WebElement (session=\"02d038be2cb11ac64c80ee1300d0c5a7\", element=\"af6530ca-c4c4-4278-8912-8931cbbead31\")>,\n",
       " <selenium.webdriver.remote.webelement.WebElement (session=\"02d038be2cb11ac64c80ee1300d0c5a7\", element=\"a5ab7488-d362-4220-8de8-fad20b180e41\")>,\n",
       " <selenium.webdriver.remote.webelement.WebElement (session=\"02d038be2cb11ac64c80ee1300d0c5a7\", element=\"f12f6d95-af7d-41ae-9cc5-0ebbb9d19ae3\")>,\n",
       " <selenium.webdriver.remote.webelement.WebElement (session=\"02d038be2cb11ac64c80ee1300d0c5a7\", element=\"f31671fa-8eb8-42ac-bc02-b6e366545751\")>]"
      ]
     },
     "execution_count": 16,
     "metadata": {},
     "output_type": "execute_result"
    }
   ],
   "source": [
    "exp_tags = driver.find_elements_by_xpath(\"//li[@class='fleft grey-text br2 placeHolderLi experience']/span\")\n",
    "exp_tags[0:10]"
   ]
  },
  {
   "cell_type": "code",
   "execution_count": 17,
   "metadata": {},
   "outputs": [
    {
     "data": {
      "text/plain": [
       "['0-2 Yrs',\n",
       " '6-8 Yrs',\n",
       " '0-2 Yrs',\n",
       " '1-3 Yrs',\n",
       " '1-2 Yrs',\n",
       " '2-5 Yrs',\n",
       " '3-6 Yrs',\n",
       " '4-8 Yrs',\n",
       " '3-8 Yrs',\n",
       " '4-8 Yrs']"
      ]
     },
     "execution_count": 17,
     "metadata": {},
     "output_type": "execute_result"
    }
   ],
   "source": [
    "for i in exp_tags:\n",
    "    exp = i.text\n",
    "    experience.append(exp)\n",
    "    \n",
    "experience[0:10]"
   ]
  },
  {
   "cell_type": "code",
   "execution_count": 18,
   "metadata": {},
   "outputs": [
    {
     "name": "stdout",
     "output_type": "stream",
     "text": [
      "20 20 20 20\n"
     ]
    }
   ],
   "source": [
    "print(len(job_title),len(job_loc),len(company),len(experience))"
   ]
  },
  {
   "cell_type": "code",
   "execution_count": 19,
   "metadata": {},
   "outputs": [],
   "source": [
    "jobs= pd.DataFrame({})\n",
    "jobs['Title']=job_title[0:10]\n",
    "jobs['Location']=job_loc[0:10]\n",
    "jobs['Company']=company[0:10]\n",
    "jobs['Experience']=experience[0:10]"
   ]
  },
  {
   "cell_type": "code",
   "execution_count": 20,
   "metadata": {},
   "outputs": [
    {
     "data": {
      "text/html": [
       "<div>\n",
       "<style scoped>\n",
       "    .dataframe tbody tr th:only-of-type {\n",
       "        vertical-align: middle;\n",
       "    }\n",
       "\n",
       "    .dataframe tbody tr th {\n",
       "        vertical-align: top;\n",
       "    }\n",
       "\n",
       "    .dataframe thead th {\n",
       "        text-align: right;\n",
       "    }\n",
       "</style>\n",
       "<table border=\"1\" class=\"dataframe\">\n",
       "  <thead>\n",
       "    <tr style=\"text-align: right;\">\n",
       "      <th></th>\n",
       "      <th>Title</th>\n",
       "      <th>Location</th>\n",
       "      <th>Company</th>\n",
       "      <th>Experience</th>\n",
       "    </tr>\n",
       "  </thead>\n",
       "  <tbody>\n",
       "    <tr>\n",
       "      <th>0</th>\n",
       "      <td>Data Engineer/Data Analyst- Chennai</td>\n",
       "      <td>Hyderabad/Secunderabad, Pune, Chennai, Bangalo...</td>\n",
       "      <td>Inflexion Analytix Private Limited</td>\n",
       "      <td>0-2 Yrs</td>\n",
       "    </tr>\n",
       "    <tr>\n",
       "      <th>1</th>\n",
       "      <td>Azure Data Analyst</td>\n",
       "      <td>Bangalore/Bengaluru</td>\n",
       "      <td>Capgemini Technology Services India Limited</td>\n",
       "      <td>6-8 Yrs</td>\n",
       "    </tr>\n",
       "    <tr>\n",
       "      <th>2</th>\n",
       "      <td>Data Analyst</td>\n",
       "      <td>Bangalore/Bengaluru(Devalapur)</td>\n",
       "      <td>Super India Tech Mark</td>\n",
       "      <td>0-2 Yrs</td>\n",
       "    </tr>\n",
       "    <tr>\n",
       "      <th>3</th>\n",
       "      <td>Executive - Data Analyst</td>\n",
       "      <td>Bangalore/Bengaluru</td>\n",
       "      <td>Flipkart Internet Private Limited</td>\n",
       "      <td>1-3 Yrs</td>\n",
       "    </tr>\n",
       "    <tr>\n",
       "      <th>4</th>\n",
       "      <td>Data Analyst</td>\n",
       "      <td>Bangalore/Bengaluru</td>\n",
       "      <td>CONDUENT BUSINESS SERVICES INDIA LLP</td>\n",
       "      <td>1-2 Yrs</td>\n",
       "    </tr>\n",
       "    <tr>\n",
       "      <th>5</th>\n",
       "      <td>Data Analyst - Alteryx, Tableau and SQL</td>\n",
       "      <td>Bangalore/Bengaluru</td>\n",
       "      <td>Schneider Electric</td>\n",
       "      <td>2-5 Yrs</td>\n",
       "    </tr>\n",
       "    <tr>\n",
       "      <th>6</th>\n",
       "      <td>Data Analyst</td>\n",
       "      <td>Bangalore/Bengaluru</td>\n",
       "      <td>Myntra Designs Pvt. Ltd.</td>\n",
       "      <td>3-6 Yrs</td>\n",
       "    </tr>\n",
       "    <tr>\n",
       "      <th>7</th>\n",
       "      <td>Data Analyst</td>\n",
       "      <td>Bangalore/Bengaluru</td>\n",
       "      <td>Myntra Designs Pvt. Ltd.</td>\n",
       "      <td>4-8 Yrs</td>\n",
       "    </tr>\n",
       "    <tr>\n",
       "      <th>8</th>\n",
       "      <td>Data Analyst</td>\n",
       "      <td>Bangalore/Bengaluru</td>\n",
       "      <td>Myntra Designs Pvt. Ltd.</td>\n",
       "      <td>3-8 Yrs</td>\n",
       "    </tr>\n",
       "    <tr>\n",
       "      <th>9</th>\n",
       "      <td>Data Analyst</td>\n",
       "      <td>Bangalore/Bengaluru</td>\n",
       "      <td>Myntra Designs Pvt. Ltd.</td>\n",
       "      <td>4-8 Yrs</td>\n",
       "    </tr>\n",
       "  </tbody>\n",
       "</table>\n",
       "</div>"
      ],
      "text/plain": [
       "                                     Title  \\\n",
       "0      Data Engineer/Data Analyst- Chennai   \n",
       "1                       Azure Data Analyst   \n",
       "2                             Data Analyst   \n",
       "3                 Executive - Data Analyst   \n",
       "4                             Data Analyst   \n",
       "5  Data Analyst - Alteryx, Tableau and SQL   \n",
       "6                             Data Analyst   \n",
       "7                             Data Analyst   \n",
       "8                             Data Analyst   \n",
       "9                             Data Analyst   \n",
       "\n",
       "                                            Location  \\\n",
       "0  Hyderabad/Secunderabad, Pune, Chennai, Bangalo...   \n",
       "1                                Bangalore/Bengaluru   \n",
       "2                     Bangalore/Bengaluru(Devalapur)   \n",
       "3                                Bangalore/Bengaluru   \n",
       "4                                Bangalore/Bengaluru   \n",
       "5                                Bangalore/Bengaluru   \n",
       "6                                Bangalore/Bengaluru   \n",
       "7                                Bangalore/Bengaluru   \n",
       "8                                Bangalore/Bengaluru   \n",
       "9                                Bangalore/Bengaluru   \n",
       "\n",
       "                                       Company Experience  \n",
       "0           Inflexion Analytix Private Limited    0-2 Yrs  \n",
       "1  Capgemini Technology Services India Limited    6-8 Yrs  \n",
       "2                        Super India Tech Mark    0-2 Yrs  \n",
       "3            Flipkart Internet Private Limited    1-3 Yrs  \n",
       "4         CONDUENT BUSINESS SERVICES INDIA LLP    1-2 Yrs  \n",
       "5                           Schneider Electric    2-5 Yrs  \n",
       "6                     Myntra Designs Pvt. Ltd.    3-6 Yrs  \n",
       "7                     Myntra Designs Pvt. Ltd.    4-8 Yrs  \n",
       "8                     Myntra Designs Pvt. Ltd.    3-8 Yrs  \n",
       "9                     Myntra Designs Pvt. Ltd.    4-8 Yrs  "
      ]
     },
     "execution_count": 20,
     "metadata": {},
     "output_type": "execute_result"
    }
   ],
   "source": [
    "jobs"
   ]
  },
  {
   "cell_type": "code",
   "execution_count": 21,
   "metadata": {},
   "outputs": [],
   "source": [
    "driver.close()"
   ]
  },
  {
   "cell_type": "code",
   "execution_count": null,
   "metadata": {},
   "outputs": [],
   "source": []
  }
 ],
 "metadata": {
  "kernelspec": {
   "display_name": "Python 3",
   "language": "python",
   "name": "python3"
  },
  "language_info": {
   "codemirror_mode": {
    "name": "ipython",
    "version": 3
   },
   "file_extension": ".py",
   "mimetype": "text/x-python",
   "name": "python",
   "nbconvert_exporter": "python",
   "pygments_lexer": "ipython3",
   "version": "3.8.5"
  }
 },
 "nbformat": 4,
 "nbformat_minor": 4
}
