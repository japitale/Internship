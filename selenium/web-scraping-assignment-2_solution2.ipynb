{
 "cells": [
  {
   "cell_type": "code",
   "execution_count": 1,
   "metadata": {},
   "outputs": [],
   "source": [
    "import selenium\n",
    "import pandas as pd\n",
    "from selenium import webdriver \n",
    "import time\n",
    "from selenium.common.exceptions import NoSuchElementException"
   ]
  },
  {
   "cell_type": "code",
   "execution_count": 2,
   "metadata": {},
   "outputs": [],
   "source": [
    "driver = webdriver.Chrome(r\"C://chromedriver.exe\")"
   ]
  },
  {
   "cell_type": "code",
   "execution_count": 3,
   "metadata": {},
   "outputs": [],
   "source": [
    "driver.get('https://www.naukri.com/')"
   ]
  },
  {
   "cell_type": "code",
   "execution_count": 4,
   "metadata": {},
   "outputs": [],
   "source": [
    "search_job = driver.find_element_by_id('qsb-keyword-sugg')\n",
    "search_job.send_keys(\"Data Scientist\")\n",
    "search_loc = driver.find_element_by_id('qsb-location-sugg')\n",
    "search_loc.send_keys(\"Bangalore\")\n",
    "\n",
    "search_button = driver.find_element_by_xpath(\"//div[@class='search-btn']/button\")\n",
    "search_button.click()"
   ]
  },
  {
   "cell_type": "code",
   "execution_count": 5,
   "metadata": {},
   "outputs": [],
   "source": [
    "url = 'https://www.naukri.com/data-scientist-jobs-in-bangalore?k=data%20scientist&l=bangalore'"
   ]
  },
  {
   "cell_type": "code",
   "execution_count": 6,
   "metadata": {},
   "outputs": [],
   "source": [
    "driver.get(url)"
   ]
  },
  {
   "cell_type": "code",
   "execution_count": 7,
   "metadata": {},
   "outputs": [],
   "source": [
    "job_title = []\n",
    "job_loc = []\n",
    "company = []\n",
    "job_description = []"
   ]
  },
  {
   "cell_type": "code",
   "execution_count": 8,
   "metadata": {},
   "outputs": [
    {
     "data": {
      "text/plain": [
       "[<selenium.webdriver.remote.webelement.WebElement (session=\"c42a55fc452638614694c3e9fb7f8247\", element=\"1a6ac733-b17a-4d08-b46d-3c15ec5d1e55\")>,\n",
       " <selenium.webdriver.remote.webelement.WebElement (session=\"c42a55fc452638614694c3e9fb7f8247\", element=\"e3e58b14-8b69-4ae3-a3c7-cff64ca667e1\")>,\n",
       " <selenium.webdriver.remote.webelement.WebElement (session=\"c42a55fc452638614694c3e9fb7f8247\", element=\"e28f9dfd-597f-481f-a31e-4299af831ce2\")>,\n",
       " <selenium.webdriver.remote.webelement.WebElement (session=\"c42a55fc452638614694c3e9fb7f8247\", element=\"abd252ec-da78-4dc6-a45e-fa63c5aee50f\")>,\n",
       " <selenium.webdriver.remote.webelement.WebElement (session=\"c42a55fc452638614694c3e9fb7f8247\", element=\"c819e2ff-1050-4b76-b473-fbbede2a1d52\")>,\n",
       " <selenium.webdriver.remote.webelement.WebElement (session=\"c42a55fc452638614694c3e9fb7f8247\", element=\"95227f65-cac9-4764-839e-fa6c1e063d0f\")>,\n",
       " <selenium.webdriver.remote.webelement.WebElement (session=\"c42a55fc452638614694c3e9fb7f8247\", element=\"0b5012a0-c1d8-4850-b4ca-317ea1faf89e\")>,\n",
       " <selenium.webdriver.remote.webelement.WebElement (session=\"c42a55fc452638614694c3e9fb7f8247\", element=\"865a6eb4-9411-45c5-a5f9-a279a7f82be1\")>,\n",
       " <selenium.webdriver.remote.webelement.WebElement (session=\"c42a55fc452638614694c3e9fb7f8247\", element=\"bbdfd830-c08c-4a90-a863-950dc3dca293\")>,\n",
       " <selenium.webdriver.remote.webelement.WebElement (session=\"c42a55fc452638614694c3e9fb7f8247\", element=\"4a61d02e-e450-4214-82e3-31a114745240\")>,\n",
       " <selenium.webdriver.remote.webelement.WebElement (session=\"c42a55fc452638614694c3e9fb7f8247\", element=\"27e45ed9-4252-412d-85a3-f30221fe9d63\")>]"
      ]
     },
     "execution_count": 8,
     "metadata": {},
     "output_type": "execute_result"
    }
   ],
   "source": [
    "title_tags = driver.find_elements_by_xpath(\"//a[@class='title fw500 ellipsis']\")\n",
    "title_tags[0:11]"
   ]
  },
  {
   "cell_type": "code",
   "execution_count": 9,
   "metadata": {},
   "outputs": [
    {
     "data": {
      "text/plain": [
       "['Data Scientist',\n",
       " 'Data Scientist - Machine Learning',\n",
       " 'Data Scientist - IBM Garage',\n",
       " 'GAMMA Lead Data Scientist',\n",
       " 'DBCG IND - GAMMA Senior Data Scientist',\n",
       " 'Data Scientist/Senior Data Scientist',\n",
       " 'Senior Data Scientist | CES IT LTD | CMMI Level 5',\n",
       " 'Data Scientist',\n",
       " 'Associate Data Scientist - CRM & Loyalty',\n",
       " 'Data Scientist - Business Analytics']"
      ]
     },
     "execution_count": 9,
     "metadata": {},
     "output_type": "execute_result"
    }
   ],
   "source": [
    "for i in title_tags:\n",
    "    titles = i.text\n",
    "    job_title.append(titles)\n",
    "\n",
    "job_title[0:10]"
   ]
  },
  {
   "cell_type": "code",
   "execution_count": 10,
   "metadata": {},
   "outputs": [
    {
     "data": {
      "text/plain": [
       "[<selenium.webdriver.remote.webelement.WebElement (session=\"c42a55fc452638614694c3e9fb7f8247\", element=\"cab1961b-21b0-4159-9d0a-47f9e8951d4c\")>,\n",
       " <selenium.webdriver.remote.webelement.WebElement (session=\"c42a55fc452638614694c3e9fb7f8247\", element=\"5426887c-4f63-45c8-9dc3-8bb1a3cde4eb\")>,\n",
       " <selenium.webdriver.remote.webelement.WebElement (session=\"c42a55fc452638614694c3e9fb7f8247\", element=\"be9792ff-e3da-457c-b227-d8b2f03e170b\")>,\n",
       " <selenium.webdriver.remote.webelement.WebElement (session=\"c42a55fc452638614694c3e9fb7f8247\", element=\"5a8cd68c-fe24-4142-9980-720a4edca9d6\")>,\n",
       " <selenium.webdriver.remote.webelement.WebElement (session=\"c42a55fc452638614694c3e9fb7f8247\", element=\"185100b6-d6af-4176-b10d-b52b025c103a\")>,\n",
       " <selenium.webdriver.remote.webelement.WebElement (session=\"c42a55fc452638614694c3e9fb7f8247\", element=\"2d11c5a1-8038-4dae-8bad-9ce31fbddce4\")>,\n",
       " <selenium.webdriver.remote.webelement.WebElement (session=\"c42a55fc452638614694c3e9fb7f8247\", element=\"c87bf034-2e6f-4213-aff0-dd8840386fab\")>,\n",
       " <selenium.webdriver.remote.webelement.WebElement (session=\"c42a55fc452638614694c3e9fb7f8247\", element=\"0caf91b7-74ab-4307-bfab-e2526e34fb2f\")>,\n",
       " <selenium.webdriver.remote.webelement.WebElement (session=\"c42a55fc452638614694c3e9fb7f8247\", element=\"2f48f32f-db9d-4099-9b14-0276c86869bc\")>,\n",
       " <selenium.webdriver.remote.webelement.WebElement (session=\"c42a55fc452638614694c3e9fb7f8247\", element=\"274102e5-518f-47d4-b2ab-ad70835e456d\")>]"
      ]
     },
     "execution_count": 10,
     "metadata": {},
     "output_type": "execute_result"
    }
   ],
   "source": [
    "loc_tags = driver.find_elements_by_xpath(\"//li[@class='fleft grey-text br2 placeHolderLi location']/span\")\n",
    "loc_tags[0:10]"
   ]
  },
  {
   "cell_type": "code",
   "execution_count": 11,
   "metadata": {},
   "outputs": [
    {
     "data": {
      "text/plain": [
       "['Bangalore/Bengaluru',\n",
       " 'Bangalore/Bengaluru',\n",
       " 'Noida, Hyderabad/Secunderabad, Bangalore/Bengaluru',\n",
       " 'Mumbai, New Delhi, Chennai, Bangalore/Bengaluru',\n",
       " 'Mumbai, New Delhi, Chennai, Bangalore/Bengaluru',\n",
       " 'Hyderabad/Secunderabad, Pune, Chennai, Bangalore/Bengaluru, Mumbai (All Areas)',\n",
       " 'Kolkata, Mumbai, Hyderabad/Secunderabad, Pune, Chennai, Bangalore/Bengaluru, Delhi / NCR',\n",
       " 'Bangalore/Bengaluru',\n",
       " 'Bangalore/Bengaluru',\n",
       " 'Bangalore/Bengaluru']"
      ]
     },
     "execution_count": 11,
     "metadata": {},
     "output_type": "execute_result"
    }
   ],
   "source": [
    "for i in loc_tags:\n",
    "    locs= i.text\n",
    "    job_loc.append(locs)\n",
    "    \n",
    "job_loc[0:10]"
   ]
  },
  {
   "cell_type": "code",
   "execution_count": 12,
   "metadata": {},
   "outputs": [
    {
     "data": {
      "text/plain": [
       "[<selenium.webdriver.remote.webelement.WebElement (session=\"c42a55fc452638614694c3e9fb7f8247\", element=\"f9e62413-9c97-443a-a9c4-4a65693cb4dc\")>,\n",
       " <selenium.webdriver.remote.webelement.WebElement (session=\"c42a55fc452638614694c3e9fb7f8247\", element=\"01ec89fb-ccaa-49d9-af3c-057521806822\")>,\n",
       " <selenium.webdriver.remote.webelement.WebElement (session=\"c42a55fc452638614694c3e9fb7f8247\", element=\"c1511453-3ef9-44b3-8a5e-f13fd57a6d62\")>,\n",
       " <selenium.webdriver.remote.webelement.WebElement (session=\"c42a55fc452638614694c3e9fb7f8247\", element=\"5aa78bfb-a503-43d5-978a-093affc6a337\")>,\n",
       " <selenium.webdriver.remote.webelement.WebElement (session=\"c42a55fc452638614694c3e9fb7f8247\", element=\"9539309b-b16b-455f-86d5-7bb16e21de27\")>,\n",
       " <selenium.webdriver.remote.webelement.WebElement (session=\"c42a55fc452638614694c3e9fb7f8247\", element=\"4bc8b03d-b7bd-490e-bd70-61f385f2bf93\")>,\n",
       " <selenium.webdriver.remote.webelement.WebElement (session=\"c42a55fc452638614694c3e9fb7f8247\", element=\"e1943197-70ab-4da0-900d-77338c7f01dc\")>,\n",
       " <selenium.webdriver.remote.webelement.WebElement (session=\"c42a55fc452638614694c3e9fb7f8247\", element=\"74558293-c47d-422c-b850-42b8482a46cd\")>,\n",
       " <selenium.webdriver.remote.webelement.WebElement (session=\"c42a55fc452638614694c3e9fb7f8247\", element=\"3d49fd31-646e-4415-94d3-96035b4d2a4a\")>,\n",
       " <selenium.webdriver.remote.webelement.WebElement (session=\"c42a55fc452638614694c3e9fb7f8247\", element=\"9426e482-93c6-4ff1-bdd4-d7b91e7998a6\")>]"
      ]
     },
     "execution_count": 12,
     "metadata": {},
     "output_type": "execute_result"
    }
   ],
   "source": [
    "company_tags = driver.find_elements_by_xpath(\"//a[@class='subTitle ellipsis fleft']\")\n",
    "company_tags[0:10]"
   ]
  },
  {
   "cell_type": "code",
   "execution_count": 13,
   "metadata": {},
   "outputs": [
    {
     "data": {
      "text/plain": [
       "['CronJ IT Technologies Private Limited',\n",
       " 'AugmatrixGo',\n",
       " 'IBM India Pvt. Limited',\n",
       " 'Boston Consulting Group',\n",
       " 'Boston Consulting Group',\n",
       " 'GANIT BUSINESS SOLUTIONS PRIVATE LIMITED',\n",
       " 'CES Ltd.',\n",
       " 'Schneider Electric India Pvt. Ltd.',\n",
       " 'Shell India Markets Private Limited',\n",
       " 'Philips India Limited']"
      ]
     },
     "execution_count": 13,
     "metadata": {},
     "output_type": "execute_result"
    }
   ],
   "source": [
    "for i in company_tags:\n",
    "    comp= i.text\n",
    "    company.append(comp)\n",
    "    \n",
    "company[0:10]"
   ]
  },
  {
   "cell_type": "code",
   "execution_count": 14,
   "metadata": {},
   "outputs": [
    {
     "data": {
      "text/plain": [
       "['https://www.naukri.com/job-listings-data-scientist-cronj-it-technologies-private-limited-bangalore-bengaluru-0-to-1-years-310321002339?src=jobsearchDesk&sid=16181516060014315&xp=1&px=1',\n",
       " 'https://www.naukri.com/job-listings-data-scientist-machine-learning-augmatrixgo-bangalore-bengaluru-2-to-5-years-140121905423?src=jobsearchDesk&sid=16181516060014315&xp=2&px=1',\n",
       " 'https://www.naukri.com/job-listings-data-scientist-ibm-garage-ibm-india-pvt-limited-noida-hyderabad-secunderabad-bangalore-bengaluru-5-to-8-years-060421902058?src=jobsearchDesk&sid=16181516060014315&xp=3&px=1',\n",
       " 'https://www.naukri.com/job-listings-gamma-lead-data-scientist-boston-consulting-group-mumbai-new-delhi-chennai-bangalore-bengaluru-7-to-12-years-070421500217?src=jobsearchDesk&sid=16181516060014315&xp=4&px=1',\n",
       " 'https://www.naukri.com/job-listings-dbcg-ind-gamma-senior-data-scientist-boston-consulting-group-mumbai-new-delhi-chennai-bangalore-bengaluru-6-to-10-years-020421500121?src=jobsearchDesk&sid=16181516060014315&xp=5&px=1',\n",
       " 'https://www.naukri.com/job-listings-data-scientist-senior-data-scientist-ganit-business-solutions-private-limited-hyderabad-secunderabad-pune-chennai-bangalore-bengaluru-mumbai-all-areas-4-to-8-years-290321001979?src=jobsearchDesk&sid=16181516060014315&xp=6&px=1',\n",
       " 'https://www.naukri.com/job-listings-senior-data-scientist-ces-it-ltd-cmmi-level-5-ces-ltd-kolkata-mumbai-hyderabad-secunderabad-pune-chennai-bangalore-bengaluru-delhi-ncr-2-to-7-years-151220006902?src=jobsearchDesk&sid=16181516060014315&xp=7&px=1',\n",
       " 'https://www.naukri.com/job-listings-data-scientist-schneider-electric-india-pvt-ltd-bangalore-bengaluru-4-to-5-years-090421500642?src=jobsearchDesk&sid=16181516060014315&xp=8&px=1',\n",
       " 'https://www.naukri.com/job-listings-associate-data-scientist-crm-loyalty-shell-india-markets-private-limited-bangalore-bengaluru-3-to-5-years-010421904445?src=jobsearchDesk&sid=16181516060014315&xp=9&px=1',\n",
       " 'https://www.naukri.com/job-listings-data-scientist-business-analytics-philips-india-limited-bangalore-bengaluru-8-to-10-years-090421500479?src=jobsearchDesk&sid=16181516060014315&xp=10&px=1']"
      ]
     },
     "execution_count": 14,
     "metadata": {},
     "output_type": "execute_result"
    }
   ],
   "source": [
    "final_link=[]\n",
    "title_url = driver.find_elements_by_xpath(\"//a[@class='title fw500 ellipsis']\")[0:10]\n",
    "\n",
    "for i in title_url:\n",
    "    links = i.get_attribute('href')\n",
    "    final_link.append(links)\n",
    "\n",
    "final_link\n",
    "\n",
    "#.get_attribute('href')s\n",
    "#uuuu = title_url[0:10]\n",
    "#uuuu\n",
    "#for i in title_tags:\n",
    "#    titles_url = i.get\n",
    "#    job_title.append(titles)"
   ]
  },
  {
   "cell_type": "code",
   "execution_count": 15,
   "metadata": {},
   "outputs": [],
   "source": [
    "for i in final_link:\n",
    "    driver.get(i)\n",
    "    try:\n",
    "        desc_tags = driver.find_element_by_xpath(\"//section[@class='job-desc']\").text\n",
    "        job_description.append(desc_tags)\n",
    "    except NoSuchElementException as e:\n",
    "        job_description.append(\"No Job Description\")"
   ]
  },
  {
   "cell_type": "code",
   "execution_count": 16,
   "metadata": {},
   "outputs": [
    {
     "data": {
      "text/plain": [
       "['Job description\\nResponsibilities and Duties\\nCreate innovative solutions using data across sales, health care and related fields for building object detection models, classification models, recommendation engine, sentiment analysis etc.\\nFamiliarity with deep learning algorithms and frameworks like TensorFlow, Pytorch, Keras.\\nGood to go with NLP and NLTK\\nDay-to-day responsibilities include use, customize and create algorithms/models for specific tasks in data science.\\nGet exposed to and work on cutting-edge products based on ML and AI to create innovative industry solutions.\\nWork on real-life projects involving Computer Vision, NLP and other AI techniques,\\nUsing innovative ideas to collect, curate or synthesize data.\\nModel the problem into an ML/DL framework.\\nDeploy models to real time staging servers.\\nFlexibility in working independently and do needful research whenever required.\\nRequired Experience, Skills and Qualifications\\nKnowledge of Python\\nKnowledge in libraries like OpenCV, Scikit Learn, NumPy etc.\\nScripting\\nUnderstanding of different frameworks like Pytorch, TensorFlow, Keras etc.\\nKnowledge on NLP\\nGood Knowledge on OOP and programing in python adapting to requirement\\nUnderstanding of AWS.\\nUnderstanding of any annotation tool.\\nAbility to write robust and testable code.\\nStrong knowledge in computer science fundamentals, algorithms, mathematics, linear algebra, probability and statistics.\\nStrong communication skills.\\nAn analytical mind with problem-solving abilities.\\nDegree in Computer Science, Mathematics, Computational Linguistics or similar field.\\nRoleTrainee\\nIndustry TypeIT-Software, Software Services\\nFunctional AreaIT Software - Application Programming, Maintenance\\nEmployment TypeFull Time, Permanent\\nRole CategoryOther\\nEducation\\nUG :Any Graduate in Any Specialization\\nPG :Any Postgraduate in Any Specialization\\nKey Skills\\nTensorflowJavaC++CphythonData StructuresArtificial IntelligenceMachine LearningMATLABsoftware DeveloperNLPAlgorithmsFresherComputer VisionLinear Algebra',\n",
       " 'Job description\\nRoles and Responsibilities\\n\\n\\n- Selecting features, building and optimizing classifiers using machine learning techniques\\n\\n- Data mining using state-of-the-art methods\\n\\n- Enhancing data collection procedures to include information that is relevant for building analytic systems\\n\\n- Processing, cleansing, and verifying the integrity of data used for analysis\\n\\n- Doing ad-hoc analysis and presenting results in a clear manner\\n\\n- Creating automated anomaly detection systems and constant tracking of its performance\\n\\nSkills Required :\\n\\n- Excellent understanding of machine learning techniques and algorithms, such as k-NN, Naive Bayes, SVM, Decision Forests, etc.\\n\\n- Experiences with one or more of the following is highly desirable: HPC/Parallelization, operationalizing ML models; cloud computing (e.g. Google Cloud, AWS, etc.); familiarity with ML frameworks such as Tensorflow, Theano, MXNet, etc\\n\\n- Good experience in a few of the following areas: deep neural networks, reinforcement learning, Markov Random Fields, Bayesian networks, semi-supervised learning, computer vision, image processing, signal processing, distributed computing, and/or numerical optimization\\n\\n- 2+ years of experience with computer vision and deep learning solutions, including image classification, object detection, segmentation, and equivalent computer vision-based vision tasks\\n\\n- Experience with common data science toolkits, such as R, Weka, NumPy, etc . Excellence in at least one of these is highly desirable\\n\\n- Proficiency in using query languages such as SQL, Hive, Pig\\n\\n- Good applied statistics skills, such as distributions, statistical testing, regression, etc.\\n\\n- Good scripting and programming skills\\n\\n- Data-oriented personality\\n\\n- B.Tech/M.Tech degree in from reputed institutes like IIT / NIT / BITS\\nRoleData Analyst\\nIndustry TypeIT-Software, Software Services\\nFunctional AreaAnalytics & Business Intelligence\\nEmployment TypeFull Time, Permanent\\nRole CategoryAnalytics & BI\\nEducation\\nUG :B.Tech/B.E. in Any Specialization\\nPG :M.Tech in Any Specialization\\nDoctorate :Doctorate Not Required\\nKey Skills\\nHiveRCloud ComputingData ScientistComputer VisionMachine LearningDeep LearningSQLPig',\n",
       " 'No Job Description',\n",
       " 'Job description\\n  Practice Area Profile\\nBCG GAMMA combines innovative skills in computer science, artificial intelligence, statistics, and machine learning with deep industry expertise. The BCG GAMMA team is comprised of world-class data scientists and business consultants who specialize in the use of advanced analytics to get breakthrough business results. Our teams own the full analytics value-chain end to end: framing new business challenges, building fact-bases, designing innovative algorithms, creating scale through designing tools and apps, and training colleagues and clients in new solutions. Here at BCG GAMMA, you ll have the chance to work with clients in every BCG region and every industry area. We are also a core member of a rapidly growing analytics enterprise at BCG - a constellation of teams focused on driving practical results for BCG clients by applying leading edge analytics approaches, data, and technology.\\nWhat Youll Do\\nWe are seeking a strong candidate with advanced analytics experience to fill an exciting Lead Data Scientist (LDS) position within BCG Gamma. The LDS is a valuable expert in Data Science and Analytics and will design and build analytics methodologies, solutions, and products to deliver value to BCGs clients in collaboration with case teams. Exceptional candidates will also show an analytical curiosity, going beyond the immediate requirements of the project to find deep insights that others have missed. They will ask questions about outliers, seek to understand the fundamental drivers of advantage and look for clues that may change the basis of competition.\\nThe LDS will be involved in all aspects of advanced analytics, from helping to create relevant products and service offerings by working with priority global Practice Areas, to leading and executing analytics work and continuing to expand the analytical foundation and competitive value proposition. The LDS will collaborate directly client and wider BCG case teams and will manage the analytics components of client deliverables. The LDS is responsible for clarifying initial objectives, setting up analytics work plan and methodology, organizing the data scientist members of the team, quality assurance, and managing scope and work planning throughout the project.\\nThe LDS is expected to provide mentoring, coaching, and career development to (senior) analytics associate and data scientist team members on both a formal and informal basis.\\nAs the field of advanced analytics is rapidly evolving, the LDS is responsible for staying current on leading-edge business applications, tools and approaches, proactively working with the Analytics\\nLeadership to enhance offerings that deliver competitive advantage to BCG.\\n\\nKEY COMPETENCIES:\\nDeep Technical and Data Science Expertise : The successful candidate will have a wealth of experience with applying advanced analytics to a variety of business situations, such that they can efficiently and effectively advise multiple teams on the best path to uncovering critical insights for clients.\\nExperience in core analytics methods (one or more of the following): Statistics (t-tests, ANOVA), variable reduction (FA, PCA), Segmentation/clustering techniques , Geographic cluster recognition and manipulation techniques, Predictive modeling: e.g. logistic regression, linear regression, Network analysis (location-allocation, travelling sales person, vehicle routing problem), Time series analysis: e.g. ARIMA, VAR, etc., Machine learning: e.g. LCA, Random Forest, neural networks, Spatio-temporal analysis, Time series analysis (ARIMA, VAR, etc.), Text mining unstructured data analytics, Simulation: e.g. MC, dynamic, discrete event, Optimization: e.g. linear programming, heuristic\\nFamiliarity with a broad base of analytics tools (one or more of the following): Data management: e.g. Excel, SQL, PostGRESql, Hadoop/Hive, Alteryx, Analytics platforms: e.g. SAS, R, RapidMiner, SPSS, Data visualization: e.g. Tableau, GIS toolkits (ESRI, Quantum GIS, MapInfo or similar), ESRI Network Analyst, RouteSmart, RoadNet or similar, GPS data analysis a plus, Programming and/or scripting experience: e.g. Python, C#, VBA, Java, Perl, etc.\\nExperience in applied analytics for business problem solving : Eg. Extensive experience building analytical solutions for (one or more of the following), Pricing and promotional effectiveness, Delivery fleet consolidation, Loyalty program effectiveness, Network real estate reorganization, Customer segmentation and targeting, Delivery footprint/territory expansion (or reduction), Customer LTV maximization, Cost modeling of transportation logistics operations, Churn prevention, Strong project management skills, Others a plus\\nAnalytical and Conceptual thinking: A successful candidate will be able to conceptualize business problems and drive frameworks. The LDS will produce leading edge business models and must be able to work in a hypothesis-based environment where inductive rather than deductive thinking is the norm.\\nEngagement Management and Work with Case Teams: The successful candidate will have demonstrated ability to manage engagements, client relationships, provide thought leadership to teams and able to act as a full member of a BCG project team. They must own analytical modules from work planning to creating impact. He/she must scope, manage and lead work for data science teams, providing expertise on methodology of advanced analytics. Strong presence, strong collaborator and leadership skills and ability to operate effectively in a matrix organization are a must.\\nClient Relationship Management: The candidate with have a demonstrated ability to communicate effectively and professionally with clients, delivering impactful solutions and presenting work in a concise and thoughtful manner, while demonstrating technical expertise (fluency in English is required). Strong business focus with experience with 80/20 approaches.\\nAnalytics Innovation: Must be an autonomous self starter with a passion for analytics and problem solving. He/she will help build new Analytics service offerings that grow our portfolio of products and will captures proprietary content as well as analytics insights to the knowledge infrastructure. The candidate will support the creation of proposal/selling documents and provide perspective on relevant Analytics value propositions.\\n\\nPersonnel Development: The successful candidate will have demonstrated ability to guide junior data scientists in their consulting skill sets, motivate them, and build the company s foundation for future growth. This will take place in both formal and ad-hoc settings.\\n\\n\\n7 years of relevant industry work experience in a field linked to business analytics, statistics or geo- statistics, operations research, geography, applied mathematics, computer science, engineering, or related field Looking for individuals with deep technical and data science expertise, acute strategic and analytical skills, ability to lead and persuade, drive and energy, and desire to work in a project based environment on strategic issues. Strong record of professional accomplishment and leadership. Demonstrated ability to lead and manage projects and teams.\\nRoleSoftware Developer\\nIndustry TypeStrategy, Management Consulting Firms\\nFunctional AreaIT Software - Application Programming, Maintenance\\nEmployment TypeFull Time, Permanent\\nRole CategoryProgramming & Design\\nEducation\\nUG :Any Graduate in Any Specialization\\nPG :Post Graduation Not Required\\nKey Skills\\nData analysisOperations researchdata scienceData managementBusiness analyticsConsultingManagement consultingBusiness strategySPSSSQL',\n",
       " 'Job description\\n    What Youll Do\\n\\nWe re looking for a passionate and talented Senior Data Scientist to join our rapidly growing team.\\nIn this role, you ll have the chance to roll up your sleeves and apply data science methods and analytics to real-world business situations across a variety of industries.\\nAs the field of advanced analytics is rapidly evolving, the SDS is responsible for staying current on leading-edge business applications, tools and approaches, proactively working with the Analytics Leadership to enhance offerings that\\ndeliver competitive advantage to BCG.\\nSuccessful candidates are intellectually curious builders who are biased toward action, scrappy, and communicative.\\nYou will also get the chance to travel: we have clients across the globe Make sure your passport is ready to go!\\n \\n\\n\\nWHO YOU ARE. YOU:\\nHave deep technical and Data Science expertise: The successful candidate will have a wealth of experience with applying advanced analytics to a variety of business situations, such that they can efficiently and effectively advise multiple teams on the best path to uncovering critical insights for clients.\\nAre an autonomous self-starter with a passion for analytics and problem solving. You will help build new Analytics service offerings that grow our portfolio of products and will captures proprietary content, and support the creation of proposal/selling documents.\\nAre comfortable managing engagements, client relationships, and acting as a thought Leader. Strong presence, strong collaborator and leadership skills and ability to operate effectively in a matrix organization are a must.\\nLove building things and are comfortable working with modern development tools and writing code collaboratively (bonus points if you have a software development or DevOps experience)\\nHave significant experience applying advanced analytics to a variety of business situations and a proven ability to synthesize complex data; as well as a deep understanding of modern machine learning techniques and their mathematical underpinnings, and are able to translate this into business implications for our clients\\nHave strong project management skills\\nMaster s Degree with significant relevant experience providing advanced analytics solutions, or relevant PhD in computer science, applied mathematics, statistics, machine learning, or a related data centric field.\\nDemonstrated deep technical and data science expertise, acute strategic and analytical skills, ability to lead and persuade, drive and energy, and desire to work in a project based environment on strategic issues.\\nStrong record of professional accomplishment and leadership.\\nFluency in at least one scripting language (e.g. Python, R)\\nFluency in English and local office language are required\\nFast-paced, intellectually intense, service-oriented environment\\nPosition is located in either Chennai, Mumbai, Delhi-NCR or Bengaluru\\nExpect up to 60-80% of time spent traveling\\nRoleSoftware Developer\\nIndustry TypeStrategy, Management Consulting Firms\\nFunctional AreaIT Software - Application Programming, Maintenance\\nEmployment TypeFull Time, Permanent\\nRole CategoryProgramming & Design\\nEducation\\nUG :Any Graduate in Any Specialization\\nPG :Post Graduation Not Required\\nKey Skills\\nComputer scienceadvanced analyticsSDSdata scienceArtificial IntelligenceProject managementMachine learningManagement consultingBusiness strategyPython',\n",
       " 'Job description\\n\\nAbout Ganit Inc\\n\\nFounded by senior industry experts, Ganit is the fastest-growing data science company in Chennai with offices in Bengaluru, Mumbai & New Jersey.\\nGanit has flipped the data science value chain as we do not start with a technique but for us, consumption comes first. With this philosophy, we have successfully scaled from being a small start-up to a 200 resource company with clients in the US, Singapore, Africa, UAE, and India.\\nWe are looking for experienced data enthusiasts who can make the data talk to them.\\n\\nWhat you will be doing.\\n\\nUnderstand business problems and translate business requirements into technical requirements.\\n\\nConduct complex data analysis to ensure data quality & reliability i.e., make the data talk by extracting, preparing, and transforming it.\\n\\nIdentify, develop and implement statistical techniques and algorithms to address business challenges and add value to the organization.\\n\\nGather requirements and communicate findings in the form of a meaningful story with the Stakeholders.\\n\\nBuild & implement data models using predictive modeling techniques. Interact with clients and provide support for queries and delivery adoption.\\n\\nLead and mentor data analysts.\\n\\nWhat we are looking for:\\nApart from your love for data and ability to code even while sleeping you would need the following.\\n\\nMinimum of 04 years of experience in designing and delivery of data science solutions.\\n\\nYou should have successful projects in Manufacturing in your kitty to show-off. (Experience on manufacturing analytics is a MUST)\\n\\nDeep understanding of various statistical techniques, mathematical models, and algorithms to start the conversation with the data in hand.\\n\\nAbility to choose the right model for the data and translate that into a code using R, Python, VBA, SQL, etc.\\n\\nBachelors/Masters degree in Engineering/Technology or\\nMBA from Tier-1 B School or\\nMSc. in Statistics or Mathematics\\n\\nWhat is in it for you:\\n\\nBe a part of building the biggest brand in Data science.\\nAn opportunity to be a part of a young and energetic team with a strong pedigree.\\nWork on awesome projects across industries and learn from the best in the industry, while growing at a hyper rate.\\nRoleData Analyst\\nIndustry TypeAutomobile, Auto Anciliary, Auto Components\\nFunctional AreaAnalytics & Business Intelligence\\nEmployment TypeFull Time, Permanent\\nRole CategoryAnalytics & BI\\nEducation\\nUG :Any Graduate in Any Specialization\\nKey Skills\\nPredictive ModelingManufacturing AnalyticsPython\\nData ScienceRData QualityAlgorithmsVBAData AnalysisAnamoly detectionStatisticsSQL\\nSkills highlighted with ‘‘ are preferred keyskills',\n",
       " 'Job description\\nRoles and Responsibilities\\n\\nMust have strong Python Programming Skills\\nStrong analytical & algorithm development skills\\nLogical and Analytical skills must be really strong\\nMust have worked in DeepLearning Efforts - Especially computer vision.\\nMust have experinece with Object Detection - Custom model training for Object detection\\nShould have experience with atleast one or more of these - Tensorflow, Keras, PyTorch\\n\\nPrimary Skills - Python + tensorflow - Keras / PyTorch, OpenCV\\nPerks and Benefits\\n\\nKindly share your resume to kandavelkumar.lakshmanan @cesltd.com\\n\\nRoleTechnical Architect\\nIndustry TypeIT-Software, Software Services\\nFunctional AreaIT Software - Application Programming, Maintenance\\nEmployment TypeFull Time, Permanent\\nRole CategoryProgramming & Design\\nEducation\\nUG :Any Graduate in Any Specialization\\nKey Skills\\nTensorflowObject DetectionAlgorithm DevelopmentAnalytical SkillsProgrammingMachine LearningDeep LearningPytorchData ScienceROpencvKerasComputer VisionPython',\n",
       " 'Job description\\n  Responsibilities\\nResearches, develops and maintains machine learning and statistical models for business requirements\\nPartners with lines of business to translate business analytic problems into technical solutions and actionable recommendations across the organization\\nWork across the spectrum of statistical modelling including supervised, unsupervised, deep learning techniques to apply the right level of solution to the right problem\\nBuild frameworks leveraging APIs to industrialize AI models across the organization\\nCoordinate with different functional teams to monitor outcomes and refine/ improve the machine learning models\\nBuild frameworks leveraging APIs to industrialize AI models across the organization\\nCollaborate with data and software engineers to enable deployment of models that will scale across the company s ecosystem\\nAdhere to stringent quality assurance and documentation standards using version control and code repositories (e.g., Git, GitHub, Markdown)\\nRequirements and Skills\\nYou should have Bachelor s or Master s degree in Computer Science, Statistics or Mathematics, Informatics, Information Systems or another quantitative field\\nYou should have 4 to 5 years of experience in solving real life complex business problems using machine learning. Having experience in taking at least on machine learning solution to production is required.\\nIn-depth understanding and modeling experience in supervised, unsupervised, reinforcement and deep learning models\\nKnowledge of vector algebra, statistical and probabilistic modelling is highly desirable\\nExploratory data analysis and hypothesis testing to identify ML opportunities is a plus\\nExperience in major machine learning frameworks such as Pytorch, Scikit-Learn, Tensorflow, Pandas, SparkML etc.\\nFluency in programming skills such as Python, R, or other equivalent languages\\nFamiliarity with databases like MySQL, Oracle, SQL Server, NoSQL, etc. is desirable\\nExperience working with Amazon SageMaker or Azure ML Studio for deployments is a plus\\nStrong analytical and critical thinking skills\\nEffective communication skills (written and verbal) to properly articulate complicated statistical models/ reports to management and other IT development partners\\nRoleResearch Scientist\\nIndustry TypeElectricals, Switchgears\\nFunctional AreaMedical, Healthcare, R&D, Pharmaceuticals, Biotechnology\\nEmployment TypeFull Time, Permanent\\nRole CategoryR&D\\nEducation\\nUG :Any Graduate in Any Specialization\\nPG :Any Postgraduate in Any Specialization\\nKey Skills\\nComputer scienceData analysisAutomationManager Quality AssuranceArtificial IntelligenceAnalyticalMySQLMachine learningOperationsPython',\n",
       " 'Job description\\nThe Role\\nGeneral Position Definition\\nThis role will drive analytics and insights for the Global CRM & Loyalty teams\\nThe ideal candidate is passionate about customer analytics - specifically CRM and Loyalty\\nThe candidate will have strong quantitative skills (like statistics, mathematics, machine learning) and has applied those skills in solving real world problems in marketing\\nIncumbent is responsible for working on a range of technologies and tools collaborating directly with the marketing stakeholders & other partners\\nPurpose\\nLeverage analytics, data and deep customer insights to identify and execute innovative programs that continually push CRM initiatives to the next level\\nBuild and maintain a test and learn roadmap (A/B Testing) and work to continually iterate and optimize CRM efforts in order to increase the effectiveness of all channels\\nMeasure impact of customer engagement initiatives across all channels (email, SMS, push notifications, direct mail, etc.) and optimize campaign spends\\nSupport development of the contact strategy with ad-hoc analysis and projects.\\nSupport design and development of CRM reporting dashboards; establish templates and processes for regularly sharing out CRM progress and results with key stakeholders\\nDevelop and evolve advanced segmentation strategies for targeted campaigns driving incremental revenues\\nSkills\\nIndustry / Functional Expertise\\nProvide deep business expertise in:CRM, Loyalty Analytics: Strong Campaign Analytics experience in both online & offline. Must have worked with Campaign, Loyalty and CRM data. Understands campaign effectiveness study and experienced in planning/targeting for CRM activities based on learning from previous activities\\nMarketing / Customer Analytics: Campaign design and effectiveness testing, churn prediction, cross-sell / up-sell, Market Basket Analysis, Customer segmentation, propensity analysis, customer lifetime value\\nPreferably worked in the past in Retail companies\\nPaid Media Experience is also preferable and will be an added advantage\\nProficiency Level: Mastery\\nStakeholder Engagement Skills\\nWorking collaboratively across multiple sets of stakeholders – business SMEs, IT, Data teams, Analytics resources, etc. to deliver on project deliverables and tasks\\nIdentify actionable insights that directly address marketing challenges / opportunities\\nArticulate business insights and recommendations (based on model output) to respective stakeholders\\nUnderstanding business KPIs, frameworks and drivers for performance\\nProficiency Level: Mastery\\nTechnology Skills\\nExperience in specialized analytics tools and technologies (including, but not limited to)Azure Databricks, Alteryx\\nPower BI, Spotfire or other visualization tools\\nPython, R\\nAdobe Analytics (good to have)\\nStatistics / Mathematics: Data Quality Analysis, Data identification, Hypothesis testing, Univariate / Multivariate Analysis, Cluster Analysis, Classification/PCA, Factor Analysis, Linear Modeling, Affinity & Association, Time Series\\nIdentify the right approach(es) for given scenario and articulate why the approach fits\\nAssess data availability and modeling feasibility\\nProficiency Level: Skill-to-Mastery\\nSpecial Challenges\\nMust have Skills:Knowledge of Direct marketing and CRM principles (segmentation, lifecycle management, etc.).\\nFamiliarity with the marketing funnel and customer journey frameworks to guide strategy.\\nEasily analyzes, draws and synthesizes important insights from complex data.\\ncurious and self-driven to understand business performance through data.\\nAbility to translate a business or marketing question into a well-defined analytical plan that includes data requirements for technical resources to extract the necessary data.\\nRapid onboarding on projects, understanding analytics goal and working with ill-defined datasets\\nCommunicating technical jargon in plain English to colleagues within Data Science team and outside\\nVirtual working with network of colleagues located throughout the globe\\nDimensions\\nSupport design and delivery of analytics projects, within Retail business unit in Shell\\nExperience\\nMinimum 3-5 years of relevant experience in Marketing / Customer Analytics\\nPreferred experience in Retail or E-commerce managing CRM and Loyalty Data\\nGood interpersonal communication skills and influencing skills\\nEagerness to learn and ability to work with limited supervision\\nAdvanced university degree in Mathematics, Statistics, Engineering, Economics, OR, etc.\\nRoleData Analyst\\nIndustry TypeChemicals, PetroChemical, Plastic, Rubber\\nFunctional AreaAnalytics & Business Intelligence\\nEmployment TypeFull Time, Permanent\\nRole CategoryAnalytics & BI\\nEducation\\nUG :Any Graduate in Any Specialization\\nPG :Any Postgraduate in Any Specialization\\nKey Skills\\nDirect MarketingMultivariate AnalysisR Data ScientistFactor AnalysisCustomer AnalyticsTime SeriesMarket Basket AnalysisMachine LearningStatisticsCluster Analysis',\n",
       " 'Job description\\n  Support business in their decision making needs (Operational/ Strategic) by providing insights from Data.\\nAssess solutions for business opportunities by leveraging data (Transactional Data/ Big Data, External and Internal Data, Structured and Unstructured Data) and analytics methods.\\nProvide consulting, advice, training and support in analytics. Furthermore, will build the application related part of analytics knowledge base in the organization domain.\\nDeliver high impact Business insights enabled by Analytics to various functions under the Philips Group Operations. (Markets/ BGs/ Functions would also be consumers of the related Insights from Group Operations)\\nDrive Digital Innovation and deliver Value services to enable the Group Operations Transformation agenda. Enable improvement programs across Philips Sites- using levers such as process automation, digital technologies, analytics, artificial intelligence, etc\\nHarmonize and optimize various Analytics efforts happening under the wider Group Operations to maximize ROI from data analytics for Philips\\nKey Areas of Responsibilities\\nExpertise in analytics techniques/ methods and tools; Expertise in translating business requirements in to analytics and vice versa; strong execution and drive for results; focus on customers; change management skills; E2E operational excellence.\\nAnalytical bent of mind\\nExpertize in analytics solutions design, development and deployment\\nExpertize in predictive analytics techniques, and data mining\\nExperience in the areas of analytics, exposure to emerging digital technologies/ landscape. (eg Cloud computing, designing and embedding predictive analytics models into workflows/ processes)\\nExpertize in R, Python tools\\nExpertize in Machine learning AI techniques\\nAbility to manage stakeholders within the organisation\\nAbility to present facts based on data and in working with very large quantum of data\\nHave Business context across the multiple functions in an Organization - accelerating the ability to connect the dots across the breadth depth of large Organizations to enable Business results\\nExperience Qualifications\\nAbility to communicate clearly (oral, written and remote) to remote audience with clear business articulation\\nExpertise in multiple tools and techniques\\nUnderstands and supports many business processes with analytics solutions/ deliveries\\nManaging direct and indirect stakeholders (support functions) like Finance, IT etc.\\nCollaborates and influences with known stakeholders\\nIdentify and replicate best practices across the domain/tools techniques\\nKeep abreast with latest develop in analytics domain, emerging technology\\nAdvises business champions in the domain where analytics can contribute\\nYear of industry Exp: 8 - 10 Years; Relevant Exp in analytics domain: 5+ years\\nRolePharmacist/Chemist/Bio Chemist\\nIndustry TypeMedical, Healthcare, Hospitals\\nFunctional AreaMedical, Healthcare, R&D, Pharmaceuticals, Biotechnology\\nEmployment TypeFull Time, Permanent\\nRole CategoryR&D\\nEducation\\nUG :Any Graduate in Any Specialization\\nPG :Post Graduation Not Required\\nKey Skills\\nProcess automationCloud computingChange managementOperational excellenceBusiness analyticsAnalyticalConsultingData miningPredictive analyticsAnalytics']"
      ]
     },
     "execution_count": 16,
     "metadata": {},
     "output_type": "execute_result"
    }
   ],
   "source": [
    "job_description"
   ]
  },
  {
   "cell_type": "code",
   "execution_count": 17,
   "metadata": {},
   "outputs": [
    {
     "name": "stdout",
     "output_type": "stream",
     "text": [
      "10\n"
     ]
    }
   ],
   "source": [
    "print(len(job_description))"
   ]
  },
  {
   "cell_type": "code",
   "execution_count": 18,
   "metadata": {},
   "outputs": [],
   "source": [
    "#driver.quit()"
   ]
  },
  {
   "cell_type": "code",
   "execution_count": 19,
   "metadata": {},
   "outputs": [],
   "source": [
    "#import modin.pandas as pd\n",
    "jobs= pd.DataFrame({})\n",
    "jobs['Title']=job_title[0:10]\n",
    "jobs['Location']=job_loc[0:10]\n",
    "jobs['Company']=company[0:10]\n",
    "jobs['Job Description']=job_description[0:10]"
   ]
  },
  {
   "cell_type": "code",
   "execution_count": 20,
   "metadata": {},
   "outputs": [
    {
     "data": {
      "text/html": [
       "<div>\n",
       "<style scoped>\n",
       "    .dataframe tbody tr th:only-of-type {\n",
       "        vertical-align: middle;\n",
       "    }\n",
       "\n",
       "    .dataframe tbody tr th {\n",
       "        vertical-align: top;\n",
       "    }\n",
       "\n",
       "    .dataframe thead th {\n",
       "        text-align: right;\n",
       "    }\n",
       "</style>\n",
       "<table border=\"1\" class=\"dataframe\">\n",
       "  <thead>\n",
       "    <tr style=\"text-align: right;\">\n",
       "      <th></th>\n",
       "      <th>Title</th>\n",
       "      <th>Location</th>\n",
       "      <th>Company</th>\n",
       "      <th>Job Description</th>\n",
       "    </tr>\n",
       "  </thead>\n",
       "  <tbody>\n",
       "    <tr>\n",
       "      <th>0</th>\n",
       "      <td>Data Scientist</td>\n",
       "      <td>Bangalore/Bengaluru</td>\n",
       "      <td>CronJ IT Technologies Private Limited</td>\n",
       "      <td>Job description\\nResponsibilities and Duties\\n...</td>\n",
       "    </tr>\n",
       "    <tr>\n",
       "      <th>1</th>\n",
       "      <td>Data Scientist - Machine Learning</td>\n",
       "      <td>Bangalore/Bengaluru</td>\n",
       "      <td>AugmatrixGo</td>\n",
       "      <td>Job description\\nRoles and Responsibilities\\n\\...</td>\n",
       "    </tr>\n",
       "    <tr>\n",
       "      <th>2</th>\n",
       "      <td>Data Scientist - IBM Garage</td>\n",
       "      <td>Noida, Hyderabad/Secunderabad, Bangalore/Benga...</td>\n",
       "      <td>IBM India Pvt. Limited</td>\n",
       "      <td>No Job Description</td>\n",
       "    </tr>\n",
       "    <tr>\n",
       "      <th>3</th>\n",
       "      <td>GAMMA Lead Data Scientist</td>\n",
       "      <td>Mumbai, New Delhi, Chennai, Bangalore/Bengaluru</td>\n",
       "      <td>Boston Consulting Group</td>\n",
       "      <td>Job description\\n  Practice Area Profile\\nBCG ...</td>\n",
       "    </tr>\n",
       "    <tr>\n",
       "      <th>4</th>\n",
       "      <td>DBCG IND - GAMMA Senior Data Scientist</td>\n",
       "      <td>Mumbai, New Delhi, Chennai, Bangalore/Bengaluru</td>\n",
       "      <td>Boston Consulting Group</td>\n",
       "      <td>Job description\\n    What Youll Do\\n\\nWe re lo...</td>\n",
       "    </tr>\n",
       "    <tr>\n",
       "      <th>5</th>\n",
       "      <td>Data Scientist/Senior Data Scientist</td>\n",
       "      <td>Hyderabad/Secunderabad, Pune, Chennai, Bangalo...</td>\n",
       "      <td>GANIT BUSINESS SOLUTIONS PRIVATE LIMITED</td>\n",
       "      <td>Job description\\n\\nAbout Ganit Inc\\n\\nFounded ...</td>\n",
       "    </tr>\n",
       "    <tr>\n",
       "      <th>6</th>\n",
       "      <td>Senior Data Scientist | CES IT LTD | CMMI Level 5</td>\n",
       "      <td>Kolkata, Mumbai, Hyderabad/Secunderabad, Pune,...</td>\n",
       "      <td>CES Ltd.</td>\n",
       "      <td>Job description\\nRoles and Responsibilities\\n\\...</td>\n",
       "    </tr>\n",
       "    <tr>\n",
       "      <th>7</th>\n",
       "      <td>Data Scientist</td>\n",
       "      <td>Bangalore/Bengaluru</td>\n",
       "      <td>Schneider Electric India Pvt. Ltd.</td>\n",
       "      <td>Job description\\n  Responsibilities\\nResearche...</td>\n",
       "    </tr>\n",
       "    <tr>\n",
       "      <th>8</th>\n",
       "      <td>Associate Data Scientist - CRM &amp; Loyalty</td>\n",
       "      <td>Bangalore/Bengaluru</td>\n",
       "      <td>Shell India Markets Private Limited</td>\n",
       "      <td>Job description\\nThe Role\\nGeneral Position De...</td>\n",
       "    </tr>\n",
       "    <tr>\n",
       "      <th>9</th>\n",
       "      <td>Data Scientist - Business Analytics</td>\n",
       "      <td>Bangalore/Bengaluru</td>\n",
       "      <td>Philips India Limited</td>\n",
       "      <td>Job description\\n  Support business in their d...</td>\n",
       "    </tr>\n",
       "  </tbody>\n",
       "</table>\n",
       "</div>"
      ],
      "text/plain": [
       "                                               Title  \\\n",
       "0                                     Data Scientist   \n",
       "1                  Data Scientist - Machine Learning   \n",
       "2                        Data Scientist - IBM Garage   \n",
       "3                          GAMMA Lead Data Scientist   \n",
       "4             DBCG IND - GAMMA Senior Data Scientist   \n",
       "5               Data Scientist/Senior Data Scientist   \n",
       "6  Senior Data Scientist | CES IT LTD | CMMI Level 5   \n",
       "7                                     Data Scientist   \n",
       "8           Associate Data Scientist - CRM & Loyalty   \n",
       "9                Data Scientist - Business Analytics   \n",
       "\n",
       "                                            Location  \\\n",
       "0                                Bangalore/Bengaluru   \n",
       "1                                Bangalore/Bengaluru   \n",
       "2  Noida, Hyderabad/Secunderabad, Bangalore/Benga...   \n",
       "3    Mumbai, New Delhi, Chennai, Bangalore/Bengaluru   \n",
       "4    Mumbai, New Delhi, Chennai, Bangalore/Bengaluru   \n",
       "5  Hyderabad/Secunderabad, Pune, Chennai, Bangalo...   \n",
       "6  Kolkata, Mumbai, Hyderabad/Secunderabad, Pune,...   \n",
       "7                                Bangalore/Bengaluru   \n",
       "8                                Bangalore/Bengaluru   \n",
       "9                                Bangalore/Bengaluru   \n",
       "\n",
       "                                    Company  \\\n",
       "0     CronJ IT Technologies Private Limited   \n",
       "1                               AugmatrixGo   \n",
       "2                    IBM India Pvt. Limited   \n",
       "3                   Boston Consulting Group   \n",
       "4                   Boston Consulting Group   \n",
       "5  GANIT BUSINESS SOLUTIONS PRIVATE LIMITED   \n",
       "6                                  CES Ltd.   \n",
       "7        Schneider Electric India Pvt. Ltd.   \n",
       "8       Shell India Markets Private Limited   \n",
       "9                     Philips India Limited   \n",
       "\n",
       "                                     Job Description  \n",
       "0  Job description\\nResponsibilities and Duties\\n...  \n",
       "1  Job description\\nRoles and Responsibilities\\n\\...  \n",
       "2                                 No Job Description  \n",
       "3  Job description\\n  Practice Area Profile\\nBCG ...  \n",
       "4  Job description\\n    What Youll Do\\n\\nWe re lo...  \n",
       "5  Job description\\n\\nAbout Ganit Inc\\n\\nFounded ...  \n",
       "6  Job description\\nRoles and Responsibilities\\n\\...  \n",
       "7  Job description\\n  Responsibilities\\nResearche...  \n",
       "8  Job description\\nThe Role\\nGeneral Position De...  \n",
       "9  Job description\\n  Support business in their d...  "
      ]
     },
     "execution_count": 20,
     "metadata": {},
     "output_type": "execute_result"
    }
   ],
   "source": [
    "jobs"
   ]
  },
  {
   "cell_type": "code",
   "execution_count": 21,
   "metadata": {},
   "outputs": [],
   "source": [
    "driver.quit()"
   ]
  }
 ],
 "metadata": {
  "kernelspec": {
   "display_name": "Python 3",
   "language": "python",
   "name": "python3"
  },
  "language_info": {
   "codemirror_mode": {
    "name": "ipython",
    "version": 3
   },
   "file_extension": ".py",
   "mimetype": "text/x-python",
   "name": "python",
   "nbconvert_exporter": "python",
   "pygments_lexer": "ipython3",
   "version": "3.8.5"
  }
 },
 "nbformat": 4,
 "nbformat_minor": 4
}
