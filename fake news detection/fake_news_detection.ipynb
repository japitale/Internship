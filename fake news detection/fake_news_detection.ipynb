{
 "cells": [
  {
   "cell_type": "code",
   "execution_count": 86,
   "metadata": {},
   "outputs": [],
   "source": [
    "import numpy as np\n",
    "import pandas as pd\n",
    "import sklearn\n",
    "import seaborn as sns\n",
    "import matplotlib.pyplot as plt\n",
    "import warnings\n",
    "warnings.filterwarnings('ignore')"
   ]
  },
  {
   "cell_type": "code",
   "execution_count": 87,
   "metadata": {},
   "outputs": [],
   "source": [
    "raw_train_data = pd.read_csv(\"D:\\\\fliprobo\\\\Fake news project\\\\train_news.csv\")"
   ]
  },
  {
   "cell_type": "code",
   "execution_count": 88,
   "metadata": {},
   "outputs": [
    {
     "data": {
      "text/html": [
       "<div>\n",
       "<style scoped>\n",
       "    .dataframe tbody tr th:only-of-type {\n",
       "        vertical-align: middle;\n",
       "    }\n",
       "\n",
       "    .dataframe tbody tr th {\n",
       "        vertical-align: top;\n",
       "    }\n",
       "\n",
       "    .dataframe thead th {\n",
       "        text-align: right;\n",
       "    }\n",
       "</style>\n",
       "<table border=\"1\" class=\"dataframe\">\n",
       "  <thead>\n",
       "    <tr style=\"text-align: right;\">\n",
       "      <th></th>\n",
       "      <th>Unnamed: 0</th>\n",
       "      <th>id</th>\n",
       "      <th>headline</th>\n",
       "      <th>written_by</th>\n",
       "      <th>news</th>\n",
       "      <th>label</th>\n",
       "    </tr>\n",
       "  </thead>\n",
       "  <tbody>\n",
       "    <tr>\n",
       "      <th>0</th>\n",
       "      <td>0</td>\n",
       "      <td>9653</td>\n",
       "      <td>Ethics Questions Dogged Agriculture Nominee as...</td>\n",
       "      <td>Eric Lipton and Steve Eder</td>\n",
       "      <td>WASHINGTON  —   In Sonny Perdue’s telling, Geo...</td>\n",
       "      <td>0</td>\n",
       "    </tr>\n",
       "    <tr>\n",
       "      <th>1</th>\n",
       "      <td>1</td>\n",
       "      <td>10041</td>\n",
       "      <td>U.S. Must Dig Deep to Stop Argentina’s Lionel ...</td>\n",
       "      <td>David Waldstein</td>\n",
       "      <td>HOUSTON  —   Venezuela had a plan. It was a ta...</td>\n",
       "      <td>0</td>\n",
       "    </tr>\n",
       "    <tr>\n",
       "      <th>2</th>\n",
       "      <td>2</td>\n",
       "      <td>19113</td>\n",
       "      <td>Cotton to House: ’Do Not Walk the Plank and Vo...</td>\n",
       "      <td>Pam Key</td>\n",
       "      <td>Sunday on ABC’s “This Week,” while discussing ...</td>\n",
       "      <td>0</td>\n",
       "    </tr>\n",
       "    <tr>\n",
       "      <th>3</th>\n",
       "      <td>3</td>\n",
       "      <td>6868</td>\n",
       "      <td>Paul LePage, Besieged Maine Governor, Sends Co...</td>\n",
       "      <td>Jess Bidgood</td>\n",
       "      <td>AUGUSTA, Me.  —   The beleaguered Republican g...</td>\n",
       "      <td>0</td>\n",
       "    </tr>\n",
       "    <tr>\n",
       "      <th>4</th>\n",
       "      <td>4</td>\n",
       "      <td>7596</td>\n",
       "      <td>A Digital 9/11 If Trump Wins</td>\n",
       "      <td>Finian Cunningham</td>\n",
       "      <td>Finian Cunningham has written extensively on...</td>\n",
       "      <td>1</td>\n",
       "    </tr>\n",
       "  </tbody>\n",
       "</table>\n",
       "</div>"
      ],
      "text/plain": [
       "   Unnamed: 0     id                                           headline  \\\n",
       "0           0   9653  Ethics Questions Dogged Agriculture Nominee as...   \n",
       "1           1  10041  U.S. Must Dig Deep to Stop Argentina’s Lionel ...   \n",
       "2           2  19113  Cotton to House: ’Do Not Walk the Plank and Vo...   \n",
       "3           3   6868  Paul LePage, Besieged Maine Governor, Sends Co...   \n",
       "4           4   7596                       A Digital 9/11 If Trump Wins   \n",
       "\n",
       "                   written_by  \\\n",
       "0  Eric Lipton and Steve Eder   \n",
       "1             David Waldstein   \n",
       "2                     Pam Key   \n",
       "3                Jess Bidgood   \n",
       "4           Finian Cunningham   \n",
       "\n",
       "                                                news  label  \n",
       "0  WASHINGTON  —   In Sonny Perdue’s telling, Geo...      0  \n",
       "1  HOUSTON  —   Venezuela had a plan. It was a ta...      0  \n",
       "2  Sunday on ABC’s “This Week,” while discussing ...      0  \n",
       "3  AUGUSTA, Me.  —   The beleaguered Republican g...      0  \n",
       "4    Finian Cunningham has written extensively on...      1  "
      ]
     },
     "execution_count": 88,
     "metadata": {},
     "output_type": "execute_result"
    }
   ],
   "source": [
    "raw_train_data.head(5)"
   ]
  },
  {
   "cell_type": "code",
   "execution_count": 89,
   "metadata": {},
   "outputs": [
    {
     "data": {
      "text/plain": [
       "Unnamed: 0       0\n",
       "id               0\n",
       "headline       558\n",
       "written_by    1957\n",
       "news            39\n",
       "label            0\n",
       "dtype: int64"
      ]
     },
     "execution_count": 89,
     "metadata": {},
     "output_type": "execute_result"
    }
   ],
   "source": [
    "raw_train_data.isnull().sum()"
   ]
  },
  {
   "cell_type": "code",
   "execution_count": 90,
   "metadata": {},
   "outputs": [],
   "source": [
    "#We can see news column has 39 records where there is no data in column. We will have to work on this null data."
   ]
  },
  {
   "cell_type": "code",
   "execution_count": 91,
   "metadata": {},
   "outputs": [
    {
     "data": {
      "text/plain": [
       "Index(['Unnamed: 0', 'id', 'headline', 'written_by', 'news', 'label'], dtype='object')"
      ]
     },
     "execution_count": 91,
     "metadata": {},
     "output_type": "execute_result"
    }
   ],
   "source": [
    "raw_train_data.columns"
   ]
  },
  {
   "cell_type": "code",
   "execution_count": 92,
   "metadata": {},
   "outputs": [],
   "source": [
    "raw_train_data.drop('id',axis=1,inplace=True)\n",
    "raw_train_data.drop('Unnamed: 0',axis=1,inplace=True)\n",
    "raw_train_data.drop('headline',axis=1,inplace=True)\n",
    "raw_train_data.drop('written_by',axis=1,inplace=True)"
   ]
  },
  {
   "cell_type": "code",
   "execution_count": 93,
   "metadata": {},
   "outputs": [],
   "source": [
    "#since we are interested in news and label column whether is it fake news or not, we are deleting other columns from dataset."
   ]
  },
  {
   "cell_type": "code",
   "execution_count": 94,
   "metadata": {},
   "outputs": [],
   "source": [
    "raw_train_data.news.fillna(\"IGNORE TEXT\", inplace = True)\n",
    "\n",
    "#Here we are replacing NULL/ missing values with 'IGNORE TEXT' hard coded value."
   ]
  },
  {
   "cell_type": "code",
   "execution_count": 95,
   "metadata": {},
   "outputs": [
    {
     "data": {
      "text/plain": [
       "news     0\n",
       "label    0\n",
       "dtype: int64"
      ]
     },
     "execution_count": 95,
     "metadata": {},
     "output_type": "execute_result"
    }
   ],
   "source": [
    "raw_train_data.isnull().sum()"
   ]
  },
  {
   "cell_type": "code",
   "execution_count": 96,
   "metadata": {},
   "outputs": [
    {
     "data": {
      "text/plain": [
       "<AxesSubplot:>"
      ]
     },
     "execution_count": 96,
     "metadata": {},
     "output_type": "execute_result"
    },
    {
     "data": {
      "image/png": "[encoded data removed]",
      "text/plain": [
       "<Figure size 432x288 with 2 Axes>"
      ]
     },
     "metadata": {
      "needs_background": "light"
     },
     "output_type": "display_data"
    }
   ],
   "source": [
    "sns.heatmap(raw_train_data.isnull()) #Heatmap also indicates that now there are no more null vallues in our dataset."
   ]
  },
  {
   "cell_type": "code",
   "execution_count": 97,
   "metadata": {},
   "outputs": [],
   "source": [
    "#raw_train_data.describe()"
   ]
  },
  {
   "cell_type": "code",
   "execution_count": 98,
   "metadata": {},
   "outputs": [],
   "source": [
    "from nltk.stem import WordNetLemmatizer\n",
    "import nltk\n",
    "from nltk.corpus import  stopwords\n",
    "import string"
   ]
  },
  {
   "cell_type": "code",
   "execution_count": 99,
   "metadata": {},
   "outputs": [],
   "source": [
    "raw_train_data['news_length'] = raw_train_data['news'].str.len() # Here we have added 'news_lenth' column at end of our dataset "
   ]
  },
  {
   "cell_type": "code",
   "execution_count": 100,
   "metadata": {},
   "outputs": [
    {
     "data": {
      "text/html": [
       "<div>\n",
       "<style scoped>\n",
       "    .dataframe tbody tr th:only-of-type {\n",
       "        vertical-align: middle;\n",
       "    }\n",
       "\n",
       "    .dataframe tbody tr th {\n",
       "        vertical-align: top;\n",
       "    }\n",
       "\n",
       "    .dataframe thead th {\n",
       "        text-align: right;\n",
       "    }\n",
       "</style>\n",
       "<table border=\"1\" class=\"dataframe\">\n",
       "  <thead>\n",
       "    <tr style=\"text-align: right;\">\n",
       "      <th></th>\n",
       "      <th>news</th>\n",
       "      <th>label</th>\n",
       "      <th>news_length</th>\n",
       "    </tr>\n",
       "  </thead>\n",
       "  <tbody>\n",
       "    <tr>\n",
       "      <th>0</th>\n",
       "      <td>WASHINGTON  —   In Sonny Perdue’s telling, Geo...</td>\n",
       "      <td>0</td>\n",
       "      <td>7936</td>\n",
       "    </tr>\n",
       "    <tr>\n",
       "      <th>1</th>\n",
       "      <td>HOUSTON  —   Venezuela had a plan. It was a ta...</td>\n",
       "      <td>0</td>\n",
       "      <td>6112</td>\n",
       "    </tr>\n",
       "    <tr>\n",
       "      <th>2</th>\n",
       "      <td>Sunday on ABC’s “This Week,” while discussing ...</td>\n",
       "      <td>0</td>\n",
       "      <td>425</td>\n",
       "    </tr>\n",
       "    <tr>\n",
       "      <th>3</th>\n",
       "      <td>AUGUSTA, Me.  —   The beleaguered Republican g...</td>\n",
       "      <td>0</td>\n",
       "      <td>6516</td>\n",
       "    </tr>\n",
       "    <tr>\n",
       "      <th>4</th>\n",
       "      <td>Finian Cunningham has written extensively on...</td>\n",
       "      <td>1</td>\n",
       "      <td>9164</td>\n",
       "    </tr>\n",
       "  </tbody>\n",
       "</table>\n",
       "</div>"
      ],
      "text/plain": [
       "                                                news  label  news_length\n",
       "0  WASHINGTON  —   In Sonny Perdue’s telling, Geo...      0         7936\n",
       "1  HOUSTON  —   Venezuela had a plan. It was a ta...      0         6112\n",
       "2  Sunday on ABC’s “This Week,” while discussing ...      0          425\n",
       "3  AUGUSTA, Me.  —   The beleaguered Republican g...      0         6516\n",
       "4    Finian Cunningham has written extensively on...      1         9164"
      ]
     },
     "execution_count": 100,
     "metadata": {},
     "output_type": "execute_result"
    }
   ],
   "source": [
    "raw_train_data.head(5)"
   ]
  },
  {
   "cell_type": "code",
   "execution_count": 101,
   "metadata": {},
   "outputs": [],
   "source": [
    "# Convert all messages to lower case\n",
    "raw_train_data['news'] = raw_train_data['news'].str.lower()\n",
    "\n",
    "# Replace email addresses with 'email'\n",
    "raw_train_data['news'] = raw_train_data['news'].str.replace(r'^.+@[^\\.].*\\.[a-z]{2,}$','emailaddress')\n",
    "\n",
    "# Replace URLs with 'webaddress'\n",
    "raw_train_data['news'] = raw_train_data['news'].str.replace(r'^http\\://[a-zA-Z0-9\\-\\.]+\\.[a-zA-Z]{2,3}(/\\S*)?$',\n",
    "                                                                            'webaddress')\n",
    "\n",
    "# Replace money symbols with 'moneysymb' (£ can by typed with ALT key + 156)\n",
    "raw_train_data['news'] = raw_train_data['news'].str.replace(r'£|\\$', 'dollers')\n",
    "    \n",
    "# Replace 10 digit phone numbers (formats include paranthesis, spaces, no spaces, dashes) with 'phonenumber'\n",
    "raw_train_data['news'] = raw_train_data['news'].str.replace(r'^\\(?[\\d]{3}\\)?[\\s-]?[\\d]{3}[\\s-]?[\\d]{4}$',\n",
    "                                                                            'phonenumber')\n",
    "\n",
    "    \n",
    "# Replace numbers with 'numbr'\n",
    "raw_train_data['news'] = raw_train_data['news'].str.replace(r'\\d+(\\.\\d+)?', 'numbr')\n",
    "\n",
    "\n",
    "raw_train_data['news'] = raw_train_data['news'].apply(lambda x: ' '.join(\n",
    "    term for term in x.split() if term not in string.punctuation))\n",
    "#Here we are removing punctation characters from our dataset.\n",
    "\n",
    "stop_words = set(stopwords.words('english') + ['u', 'ü', 'ur', '4', '2', 'im', 'dont', 'doin', 'ure'])\n",
    "raw_train_data['news'] = raw_train_data['news'].apply(lambda x: ' '.join(\n",
    "    term for term in x.split() if term not in stop_words))\n",
    "#Here we are removing stop words from our dataset to clean our data.\n",
    "\n",
    "lem=WordNetLemmatizer()\n",
    "raw_train_data['news'] = raw_train_data['news'].apply(lambda x: ' '.join(\n",
    "    lem.lemmatize(t) for t in x.split()))\n",
    "\n",
    "#here we are using WordNetLemmatizer to break entries in colum 'news' into seperate meaningful words"
   ]
  },
  {
   "cell_type": "code",
   "execution_count": 102,
   "metadata": {},
   "outputs": [
    {
     "data": {
      "text/html": [
       "<div>\n",
       "<style scoped>\n",
       "    .dataframe tbody tr th:only-of-type {\n",
       "        vertical-align: middle;\n",
       "    }\n",
       "\n",
       "    .dataframe tbody tr th {\n",
       "        vertical-align: top;\n",
       "    }\n",
       "\n",
       "    .dataframe thead th {\n",
       "        text-align: right;\n",
       "    }\n",
       "</style>\n",
       "<table border=\"1\" class=\"dataframe\">\n",
       "  <thead>\n",
       "    <tr style=\"text-align: right;\">\n",
       "      <th></th>\n",
       "      <th>news</th>\n",
       "      <th>label</th>\n",
       "      <th>news_length</th>\n",
       "      <th>news_clean_length</th>\n",
       "    </tr>\n",
       "  </thead>\n",
       "  <tbody>\n",
       "    <tr>\n",
       "      <th>0</th>\n",
       "      <td>washington — sonny perdue’s telling, georgian ...</td>\n",
       "      <td>0</td>\n",
       "      <td>7936</td>\n",
       "      <td>5846</td>\n",
       "    </tr>\n",
       "    <tr>\n",
       "      <th>1</th>\n",
       "      <td>houston — venezuela plan. tactical approach, d...</td>\n",
       "      <td>0</td>\n",
       "      <td>6112</td>\n",
       "      <td>4463</td>\n",
       "    </tr>\n",
       "    <tr>\n",
       "      <th>2</th>\n",
       "      <td>sunday abc’s “this week,” discussing republica...</td>\n",
       "      <td>0</td>\n",
       "      <td>425</td>\n",
       "      <td>301</td>\n",
       "    </tr>\n",
       "    <tr>\n",
       "      <th>3</th>\n",
       "      <td>augusta, me. — beleaguered republican governor...</td>\n",
       "      <td>0</td>\n",
       "      <td>6516</td>\n",
       "      <td>4744</td>\n",
       "    </tr>\n",
       "    <tr>\n",
       "      <th>4</th>\n",
       "      <td>finian cunningham written extensively internat...</td>\n",
       "      <td>1</td>\n",
       "      <td>9164</td>\n",
       "      <td>6914</td>\n",
       "    </tr>\n",
       "  </tbody>\n",
       "</table>\n",
       "</div>"
      ],
      "text/plain": [
       "                                                news  label  news_length  \\\n",
       "0  washington — sonny perdue’s telling, georgian ...      0         7936   \n",
       "1  houston — venezuela plan. tactical approach, d...      0         6112   \n",
       "2  sunday abc’s “this week,” discussing republica...      0          425   \n",
       "3  augusta, me. — beleaguered republican governor...      0         6516   \n",
       "4  finian cunningham written extensively internat...      1         9164   \n",
       "\n",
       "   news_clean_length  \n",
       "0               5846  \n",
       "1               4463  \n",
       "2                301  \n",
       "3               4744  \n",
       "4               6914  "
      ]
     },
     "execution_count": 102,
     "metadata": {},
     "output_type": "execute_result"
    }
   ],
   "source": [
    "raw_train_data['news_clean_length'] = raw_train_data.news.str.len()\n",
    "raw_train_data.head()"
   ]
  },
  {
   "cell_type": "code",
   "execution_count": 103,
   "metadata": {},
   "outputs": [],
   "source": [
    "#Now we can see after cleaning and transforming news data, length of this column has reduce to good extent. "
   ]
  },
  {
   "cell_type": "code",
   "execution_count": 104,
   "metadata": {},
   "outputs": [
    {
     "name": "stdout",
     "output_type": "stream",
     "text": [
      "Origian Length 94519353\n",
      "Clean Length 69447513\n"
     ]
    }
   ],
   "source": [
    "# Total length removal\n",
    "print ('Origian Length', raw_train_data.news_length.sum())\n",
    "print ('Clean Length', raw_train_data.news_clean_length.sum())"
   ]
  },
  {
   "cell_type": "code",
   "execution_count": 105,
   "metadata": {},
   "outputs": [],
   "source": [
    "# From above length removal count we can see around 26.5% of data is reduced which formed part of data noise/ non-required data\n",
    "#like stop words, punctation, etc. This will be very helpful to optimize and increase the performance of our model."
   ]
  },
  {
   "cell_type": "code",
   "execution_count": 106,
   "metadata": {},
   "outputs": [],
   "source": [
    "from sklearn.model_selection import train_test_split\n",
    "from sklearn.metrics import accuracy_score,classification_report,confusion_matrix,f1_score,roc_curve,roc_auc_score,auc\n",
    "from sklearn.linear_model import LogisticRegression\n",
    "from sklearn.model_selection import cross_val_score,GridSearchCV\n",
    "from sklearn.naive_bayes import MultinomialNB\n",
    "from sklearn.tree import DecisionTreeClassifier\n",
    "from sklearn.neighbors import KNeighborsClassifier\n",
    "from sklearn.ensemble import RandomForestClassifier,AdaBoostClassifier,GradientBoostingClassifier\n",
    "from sklearn.naive_bayes import GaussianNB\n",
    "from sklearn.linear_model import LogisticRegression\n",
    "from sklearn.svm import SVC\n",
    "from sklearn.tree import DecisionTreeClassifier"
   ]
  },
  {
   "cell_type": "code",
   "execution_count": 107,
   "metadata": {},
   "outputs": [],
   "source": [
    "#  Convert text into vectors using TF-IDF\n",
    "from sklearn.feature_extraction.text import TfidfVectorizer\n",
    "tf_vec = TfidfVectorizer(max_features = 10000, stop_words='english')\n",
    "features = tf_vec.fit_transform(raw_train_data['news'])\n",
    "x = features"
   ]
  },
  {
   "cell_type": "code",
   "execution_count": 108,
   "metadata": {},
   "outputs": [
    {
     "data": {
      "text/plain": [
       "(20800, 4)"
      ]
     },
     "execution_count": 108,
     "metadata": {},
     "output_type": "execute_result"
    }
   ],
   "source": [
    "raw_train_data.shape"
   ]
  },
  {
   "cell_type": "code",
   "execution_count": 109,
   "metadata": {},
   "outputs": [
    {
     "data": {
      "text/html": [
       "<div>\n",
       "<style scoped>\n",
       "    .dataframe tbody tr th:only-of-type {\n",
       "        vertical-align: middle;\n",
       "    }\n",
       "\n",
       "    .dataframe tbody tr th {\n",
       "        vertical-align: top;\n",
       "    }\n",
       "\n",
       "    .dataframe thead th {\n",
       "        text-align: right;\n",
       "    }\n",
       "</style>\n",
       "<table border=\"1\" class=\"dataframe\">\n",
       "  <thead>\n",
       "    <tr style=\"text-align: right;\">\n",
       "      <th></th>\n",
       "      <th>news</th>\n",
       "      <th>label</th>\n",
       "      <th>news_length</th>\n",
       "      <th>news_clean_length</th>\n",
       "    </tr>\n",
       "  </thead>\n",
       "  <tbody>\n",
       "    <tr>\n",
       "      <th>0</th>\n",
       "      <td>washington — sonny perdue’s telling, georgian ...</td>\n",
       "      <td>0</td>\n",
       "      <td>7936</td>\n",
       "      <td>5846</td>\n",
       "    </tr>\n",
       "    <tr>\n",
       "      <th>1</th>\n",
       "      <td>houston — venezuela plan. tactical approach, d...</td>\n",
       "      <td>0</td>\n",
       "      <td>6112</td>\n",
       "      <td>4463</td>\n",
       "    </tr>\n",
       "    <tr>\n",
       "      <th>2</th>\n",
       "      <td>sunday abc’s “this week,” discussing republica...</td>\n",
       "      <td>0</td>\n",
       "      <td>425</td>\n",
       "      <td>301</td>\n",
       "    </tr>\n",
       "    <tr>\n",
       "      <th>3</th>\n",
       "      <td>augusta, me. — beleaguered republican governor...</td>\n",
       "      <td>0</td>\n",
       "      <td>6516</td>\n",
       "      <td>4744</td>\n",
       "    </tr>\n",
       "  </tbody>\n",
       "</table>\n",
       "</div>"
      ],
      "text/plain": [
       "                                                news  label  news_length  \\\n",
       "0  washington — sonny perdue’s telling, georgian ...      0         7936   \n",
       "1  houston — venezuela plan. tactical approach, d...      0         6112   \n",
       "2  sunday abc’s “this week,” discussing republica...      0          425   \n",
       "3  augusta, me. — beleaguered republican governor...      0         6516   \n",
       "\n",
       "   news_clean_length  \n",
       "0               5846  \n",
       "1               4463  \n",
       "2                301  \n",
       "3               4744  "
      ]
     },
     "execution_count": 109,
     "metadata": {},
     "output_type": "execute_result"
    }
   ],
   "source": [
    "raw_train_data.head(4)"
   ]
  },
  {
   "cell_type": "code",
   "execution_count": 110,
   "metadata": {},
   "outputs": [],
   "source": [
    "y = raw_train_data['label']"
   ]
  },
  {
   "cell_type": "code",
   "execution_count": 111,
   "metadata": {},
   "outputs": [],
   "source": [
    "x_train,x_test,y_train,y_test=train_test_split(x,y,random_state=56,test_size=.30)"
   ]
  },
  {
   "cell_type": "code",
   "execution_count": 112,
   "metadata": {},
   "outputs": [
    {
     "data": {
      "text/plain": [
       "((14560,), (14560, 10000))"
      ]
     },
     "execution_count": 112,
     "metadata": {},
     "output_type": "execute_result"
    }
   ],
   "source": [
    "y_train.shape, x_train.shape"
   ]
  },
  {
   "cell_type": "code",
   "execution_count": 113,
   "metadata": {},
   "outputs": [
    {
     "data": {
      "text/plain": [
       "((6240,), (6240, 10000))"
      ]
     },
     "execution_count": 113,
     "metadata": {},
     "output_type": "execute_result"
    }
   ],
   "source": [
    "y_test.shape, x_test.shape"
   ]
  },
  {
   "cell_type": "code",
   "execution_count": 114,
   "metadata": {},
   "outputs": [
    {
     "name": "stdout",
     "output_type": "stream",
     "text": [
      "LogisticRegression()\n",
      "Test accuracy of: LogisticRegression() is 0.9479166666666666\n",
      "DecisionTreeClassifier()\n",
      "Test accuracy of: DecisionTreeClassifier() is 0.8878205128205128\n",
      "KNeighborsClassifier()\n",
      "Test accuracy of: KNeighborsClassifier() is 0.6065705128205128\n",
      "RandomForestClassifier()\n",
      "Test accuracy of: RandomForestClassifier() is 0.9439102564102564\n"
     ]
    }
   ],
   "source": [
    "models = [LogisticRegression(),DecisionTreeClassifier(),KNeighborsClassifier(),RandomForestClassifier()]\n",
    "\n",
    "for i in models:\n",
    "    print(i)\n",
    "    #i.fit(x_train, y_train)\n",
    "    i.fit(x_train, y_train)\n",
    "    y_pred_test = i.predict(x_test)\n",
    "    print('Test accuracy of:',i,'is {}'.format(accuracy_score(y_test,y_pred_test)))"
   ]
  },
  {
   "cell_type": "code",
   "execution_count": 115,
   "metadata": {},
   "outputs": [],
   "source": [
    "# From above model accuracy scores, we can see Logistic Regression and Random ForrestClassifier algorithmns have almost similar\n",
    "# score and it is also quite good to be considered in terms of model performance."
   ]
  },
  {
   "cell_type": "code",
   "execution_count": 116,
   "metadata": {},
   "outputs": [
    {
     "name": "stdout",
     "output_type": "stream",
     "text": [
      "Cross validation score= [0.94423077 0.93413462 0.94254808 0.946875   0.94399038]\n",
      "Cross validation mean score= 0.9423557692307692\n",
      "Cross validation standard deviation score= 0.0043413221951805045\n"
     ]
    }
   ],
   "source": [
    "#Here we use cross validation technique wuth Logistic regression to rotate entire dataset in train and test mode with 5 rounds \n",
    "cross_score=cross_val_score(RandomForestClassifier(),x,y,cv=5)\n",
    "print(\"Cross validation score=\", cross_score)\n",
    "print(\"Cross validation mean score=\", cross_score.mean())\n",
    "print(\"Cross validation standard deviation score=\", cross_score.std())"
   ]
  },
  {
   "cell_type": "code",
   "execution_count": 117,
   "metadata": {},
   "outputs": [],
   "source": [
    "#Here we can see cross validation mean score is also 94.04% which indicated that our model performance is also good."
   ]
  },
  {
   "cell_type": "code",
   "execution_count": 118,
   "metadata": {},
   "outputs": [],
   "source": [
    "from sklearn.ensemble import AdaBoostClassifier, GradientBoostingClassifier"
   ]
  },
  {
   "cell_type": "code",
   "execution_count": 119,
   "metadata": {},
   "outputs": [
    {
     "name": "stdout",
     "output_type": "stream",
     "text": [
      "Accuracy score: 0.9432692307692307\n",
      "Predicted values using AdaBoostClassifier model:\n",
      " [0 0 1 ... 1 1 0]\n"
     ]
    }
   ],
   "source": [
    "abc = AdaBoostClassifier(n_estimators=50,base_estimator=RandomForestClassifier(),learning_rate=1,algorithm='SAMME')\n",
    "lr=RandomForestClassifier()\n",
    "x_train,x_test,y_train,y_test=train_test_split(x,y,test_size=.20,random_state=56)\n",
    "abc.fit(x_train,y_train)\n",
    "predlr = abc.predict(x_test)\n",
    "print(\"Accuracy score:\",accuracy_score(predlr,y_test))\n",
    "print(\"Predicted values using AdaBoostClassifier model:\\n\",predlr)"
   ]
  },
  {
   "cell_type": "code",
   "execution_count": 120,
   "metadata": {},
   "outputs": [
    {
     "name": "stdout",
     "output_type": "stream",
     "text": [
      "Best learnin rate is: 1\n",
      "Best learning score is: 0.6658653846153846\n"
     ]
    }
   ],
   "source": [
    "lr_list = [0.05, 0.075, 0.1, 0.25, 0.5, 0.75, 1]\n",
    "temp_score = 0\n",
    "temp_rate = 0\n",
    "for i in lr_list:\n",
    "    gb_clf = GradientBoostingClassifier(n_estimators=50, learning_rate=i, max_features=2, max_depth=2, random_state=56)\n",
    "    gb_clf.fit(x_train,y_train)   \n",
    "    score = gb_clf.score(x_test, y_test)\n",
    "    if score > temp_score:\n",
    "        temp_score = score\n",
    "        temp_rate = i\n",
    "print(\"Best learnin rate is:\",temp_rate)\n",
    "print(\"Best learning score is:\",temp_score)"
   ]
  },
  {
   "cell_type": "code",
   "execution_count": 121,
   "metadata": {},
   "outputs": [],
   "source": [
    "#gb_clf = GradientBoostingClassifier(n_estimators=50, learning_rate=temp_rate, max_features=2, max_depth=2, random_state=56)\n",
    "#gb_clf.fit(x_train,y_train)\n",
    "#predgb = gb_clf.predict(x_test)\n",
    "#score = gb_clf.score(x_test, y_test)\n",
    "#print(\"Accuracy score of GradientBoostingClassifier is:\",accuracy_score(predgb,y_test))"
   ]
  },
  {
   "cell_type": "code",
   "execution_count": 122,
   "metadata": {},
   "outputs": [
    {
     "data": {
      "image/png": "[encoded data removed]",
      "text/plain": [
       "<Figure size 432x288 with 1 Axes>"
      ]
     },
     "metadata": {
      "needs_background": "light"
     },
     "output_type": "display_data"
    }
   ],
   "source": [
    "rfc = RandomForestClassifier().fit(x_train, y_train)\n",
    "probability = rfc.predict_proba(x_test)[:,1]\n",
    "probability\n",
    "fpr,tpr,threshold = roc_curve(y_test,probability,pos_label=True)\n",
    "#print(fpr)\n",
    "#print(tpr)\n",
    "#print(threshold)\n",
    "plt.plot([0,1],[1,0],'k--')\n",
    "plt.plot(fpr,tpr,label = \"RandomForestClassifier\")\n",
    "plt.xlabel(\"False Positive rate\")\n",
    "plt.ylabel(\"True Positive rate\")\n",
    "plt.show()"
   ]
  },
  {
   "cell_type": "code",
   "execution_count": 123,
   "metadata": {},
   "outputs": [],
   "source": [
    "#By looking at accuracy score, cross validation mean score and AUC_ROC curve of RandomForestClassifier algorithm, we can infer\n",
    "#that this model gives a good performance and hence we will use RandomForestClassifier in our final model. "
   ]
  },
  {
   "cell_type": "code",
   "execution_count": 124,
   "metadata": {},
   "outputs": [
    {
     "name": "stdout",
     "output_type": "stream",
     "text": [
      "Predicted values using RandomForestClassifier model:\n",
      " [0 0 1 ... 1 1 0]\n"
     ]
    }
   ],
   "source": [
    "rfc_final = RandomForestClassifier()\n",
    "rfc_final.fit(x_train, y_train)\n",
    "rfc_pred_test = rfc_final.predict(x_test)\n",
    "print(\"Predicted values using RandomForestClassifier model:\\n\",rfc_pred_test)"
   ]
  },
  {
   "cell_type": "code",
   "execution_count": 125,
   "metadata": {},
   "outputs": [],
   "source": [
    "fake_news_prediction_file = pd.DataFrame(rfc_pred_test)"
   ]
  },
  {
   "cell_type": "code",
   "execution_count": 126,
   "metadata": {},
   "outputs": [],
   "source": [
    "fake_news_prediction_file.to_csv(\"D:\\\\fliprobo\\\\Fake news project\\\\fake_news_prediction.csv\",header=0)"
   ]
  },
  {
   "cell_type": "code",
   "execution_count": 127,
   "metadata": {},
   "outputs": [],
   "source": [
    "import pickle\n",
    "filename = 'D:\\\\fliprobo\\\\Fake news project\\\\fake_news_prediction.pkl'\n",
    "pickle.dump(rfc,open(filename,'wb'))"
   ]
  },
  {
   "cell_type": "code",
   "execution_count": null,
   "metadata": {},
   "outputs": [],
   "source": []
  }
 ],
 "metadata": {
  "kernelspec": {
   "display_name": "Python 3",
   "language": "python",
   "name": "python3"
  },
  "language_info": {
   "codemirror_mode": {
    "name": "ipython",
    "version": 3
   },
   "file_extension": ".py",
   "mimetype": "text/x-python",
   "name": "python",
   "nbconvert_exporter": "python",
   "pygments_lexer": "ipython3",
   "version": "3.8.5"
  }
 },
 "nbformat": 4,
 "nbformat_minor": 4
}
