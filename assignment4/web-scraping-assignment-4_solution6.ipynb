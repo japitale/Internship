{
 "cells": [
  {
   "cell_type": "code",
   "execution_count": 1,
   "metadata": {},
   "outputs": [],
   "source": [
    "import selenium\n",
    "import pandas as pd\n",
    "from selenium import webdriver \n",
    "import time\n",
    "from selenium.common.exceptions import NoSuchElementException\n",
    "from selenium.webdriver.support.ui import WebDriverWait\n",
    "from selenium.webdriver.support import expected_conditions as EC\n",
    "from selenium.webdriver.common.by import By\n",
    "from selenium.webdriver.common.keys import Keys"
   ]
  },
  {
   "cell_type": "code",
   "execution_count": 2,
   "metadata": {},
   "outputs": [],
   "source": [
    "driver = webdriver.Chrome(r\"C://chromedriver.exe\")\n",
    "driver.get('https://www.billboard.com/')"
   ]
  },
  {
   "cell_type": "code",
   "execution_count": 3,
   "metadata": {},
   "outputs": [
    {
     "data": {
      "text/plain": [
       "<selenium.webdriver.remote.webelement.WebElement (session=\"67df901d0a0cbbb28663befcc4ff36b0\", element=\"6197e35f-eb6f-4df7-90ee-ac79f7c78ac7\")>"
      ]
     },
     "execution_count": 3,
     "metadata": {},
     "output_type": "execute_result"
    }
   ],
   "source": [
    "delay = 5\n",
    "WebDriverWait(driver, delay).until(EC.presence_of_element_located((By.CLASS_NAME,'header__submenu__list__element')))"
   ]
  },
  {
   "cell_type": "code",
   "execution_count": 4,
   "metadata": {},
   "outputs": [],
   "source": [
    "top100 = driver.find_element_by_xpath(\"//li[@class = 'header__submenu__list__element'][1]//a\")\n",
    "link = top100.get_attribute('href')\n",
    "#link\n",
    "\n",
    "driver.get(link)"
   ]
  },
  {
   "cell_type": "code",
   "execution_count": 5,
   "metadata": {},
   "outputs": [],
   "source": [
    "Song_name = []\n",
    "Artist_name = []\n",
    "Last_week_rank = []\n",
    "Peak_rank = []\n",
    "Weeks_on_board = []"
   ]
  },
  {
   "cell_type": "code",
   "execution_count": 6,
   "metadata": {},
   "outputs": [],
   "source": [
    "sname = driver.find_elements_by_xpath(\"//span[@class = 'chart-element__information__song text--truncate color--primary']\")\n",
    "\n",
    "for i in sname:\n",
    "    s_name = i.text\n",
    "    Song_name.append(s_name)\n",
    "\n",
    "#Song_name"
   ]
  },
  {
   "cell_type": "code",
   "execution_count": 7,
   "metadata": {},
   "outputs": [],
   "source": [
    "aname = driver.find_elements_by_xpath(\"//span[@class = 'chart-element__information__artist text--truncate color--secondary']\")\n",
    "\n",
    "for i in aname:\n",
    "    a_name = i.text\n",
    "    Artist_name.append(a_name)\n",
    "\n",
    "#Artist_name"
   ]
  },
  {
   "cell_type": "code",
   "execution_count": 8,
   "metadata": {},
   "outputs": [],
   "source": [
    "lwrank = driver.find_elements_by_xpath(\"//div[@class = 'chart-element__meta text--center color--secondary text--last']\")\n",
    "\n",
    "for i in lwrank:\n",
    "    last_rank = i.text\n",
    "    Last_week_rank.append(last_rank)\n",
    "\n",
    "#Last_week_rank"
   ]
  },
  {
   "cell_type": "code",
   "execution_count": 9,
   "metadata": {},
   "outputs": [],
   "source": [
    "prank = driver.find_elements_by_xpath(\"//div[@class = 'chart-element__meta text--center color--secondary text--peak']\")\n",
    "\n",
    "for i in prank:\n",
    "    p_rank = i.text\n",
    "    Peak_rank.append(p_rank)\n",
    "\n",
    "#Peak_rank"
   ]
  },
  {
   "cell_type": "code",
   "execution_count": 10,
   "metadata": {},
   "outputs": [],
   "source": [
    "onboard = driver.find_elements_by_xpath(\"//div[@class = 'chart-element__meta text--center color--secondary text--week']\")\n",
    "\n",
    "for i in onboard:\n",
    "    wboard = i.text\n",
    "    Weeks_on_board.append(wboard)\n",
    "\n",
    "#Weeks_on_board"
   ]
  },
  {
   "cell_type": "code",
   "execution_count": 11,
   "metadata": {},
   "outputs": [
    {
     "data": {
      "text/html": [
       "<div>\n",
       "<style scoped>\n",
       "    .dataframe tbody tr th:only-of-type {\n",
       "        vertical-align: middle;\n",
       "    }\n",
       "\n",
       "    .dataframe tbody tr th {\n",
       "        vertical-align: top;\n",
       "    }\n",
       "\n",
       "    .dataframe thead th {\n",
       "        text-align: right;\n",
       "    }\n",
       "</style>\n",
       "<table border=\"1\" class=\"dataframe\">\n",
       "  <thead>\n",
       "    <tr style=\"text-align: right;\">\n",
       "      <th></th>\n",
       "      <th>Song Name</th>\n",
       "      <th>Artist Name</th>\n",
       "      <th>Last Week Rank</th>\n",
       "      <th>Peak Rank</th>\n",
       "      <th>Weeks on Board</th>\n",
       "    </tr>\n",
       "  </thead>\n",
       "  <tbody>\n",
       "    <tr>\n",
       "      <th>0</th>\n",
       "      <td>Save Your Tears</td>\n",
       "      <td>The Weeknd &amp; Ariana Grande</td>\n",
       "      <td>6</td>\n",
       "      <td>1</td>\n",
       "      <td>20</td>\n",
       "    </tr>\n",
       "    <tr>\n",
       "      <th>1</th>\n",
       "      <td>Leave The Door Open</td>\n",
       "      <td>Silk Sonic (Bruno Mars &amp; Anderson .Paak)</td>\n",
       "      <td>2</td>\n",
       "      <td>1</td>\n",
       "      <td>8</td>\n",
       "    </tr>\n",
       "    <tr>\n",
       "      <th>2</th>\n",
       "      <td>Peaches</td>\n",
       "      <td>Justin Bieber Featuring Daniel Caesar &amp; Giveon</td>\n",
       "      <td>3</td>\n",
       "      <td>1</td>\n",
       "      <td>6</td>\n",
       "    </tr>\n",
       "    <tr>\n",
       "      <th>3</th>\n",
       "      <td>Rapstar</td>\n",
       "      <td>Polo G</td>\n",
       "      <td>1</td>\n",
       "      <td>1</td>\n",
       "      <td>3</td>\n",
       "    </tr>\n",
       "    <tr>\n",
       "      <th>4</th>\n",
       "      <td>Levitating</td>\n",
       "      <td>Dua Lipa Featuring DaBaby</td>\n",
       "      <td>5</td>\n",
       "      <td>5</td>\n",
       "      <td>30</td>\n",
       "    </tr>\n",
       "    <tr>\n",
       "      <th>...</th>\n",
       "      <td>...</td>\n",
       "      <td>...</td>\n",
       "      <td>...</td>\n",
       "      <td>...</td>\n",
       "      <td>...</td>\n",
       "    </tr>\n",
       "    <tr>\n",
       "      <th>95</th>\n",
       "      <td>4 Da Gang</td>\n",
       "      <td>42 Dugg &amp; Roddy Ricch</td>\n",
       "      <td>100</td>\n",
       "      <td>67</td>\n",
       "      <td>4</td>\n",
       "    </tr>\n",
       "    <tr>\n",
       "      <th>96</th>\n",
       "      <td>Blame It On You</td>\n",
       "      <td>Jason Aldean</td>\n",
       "      <td>-</td>\n",
       "      <td>97</td>\n",
       "      <td>1</td>\n",
       "    </tr>\n",
       "    <tr>\n",
       "      <th>97</th>\n",
       "      <td>Wasted On You</td>\n",
       "      <td>Morgan Wallen</td>\n",
       "      <td>92</td>\n",
       "      <td>9</td>\n",
       "      <td>16</td>\n",
       "    </tr>\n",
       "    <tr>\n",
       "      <th>98</th>\n",
       "      <td>Way Less Sad</td>\n",
       "      <td>AJR</td>\n",
       "      <td>-</td>\n",
       "      <td>99</td>\n",
       "      <td>1</td>\n",
       "    </tr>\n",
       "    <tr>\n",
       "      <th>99</th>\n",
       "      <td>Clear Da Air</td>\n",
       "      <td>Moneybagg Yo</td>\n",
       "      <td>-</td>\n",
       "      <td>100</td>\n",
       "      <td>1</td>\n",
       "    </tr>\n",
       "  </tbody>\n",
       "</table>\n",
       "<p>100 rows × 5 columns</p>\n",
       "</div>"
      ],
      "text/plain": [
       "              Song Name                                     Artist Name  \\\n",
       "0       Save Your Tears                      The Weeknd & Ariana Grande   \n",
       "1   Leave The Door Open        Silk Sonic (Bruno Mars & Anderson .Paak)   \n",
       "2               Peaches  Justin Bieber Featuring Daniel Caesar & Giveon   \n",
       "3               Rapstar                                          Polo G   \n",
       "4            Levitating                       Dua Lipa Featuring DaBaby   \n",
       "..                  ...                                             ...   \n",
       "95            4 Da Gang                           42 Dugg & Roddy Ricch   \n",
       "96      Blame It On You                                    Jason Aldean   \n",
       "97        Wasted On You                                   Morgan Wallen   \n",
       "98         Way Less Sad                                             AJR   \n",
       "99         Clear Da Air                                    Moneybagg Yo   \n",
       "\n",
       "   Last Week Rank Peak Rank Weeks on Board  \n",
       "0               6         1             20  \n",
       "1               2         1              8  \n",
       "2               3         1              6  \n",
       "3               1         1              3  \n",
       "4               5         5             30  \n",
       "..            ...       ...            ...  \n",
       "95            100        67              4  \n",
       "96              -        97              1  \n",
       "97             92         9             16  \n",
       "98              -        99              1  \n",
       "99              -       100              1  \n",
       "\n",
       "[100 rows x 5 columns]"
      ]
     },
     "execution_count": 11,
     "metadata": {},
     "output_type": "execute_result"
    }
   ],
   "source": [
    "Songs= pd.DataFrame({})\n",
    "Songs['Song Name']= Song_name\n",
    "Songs['Artist Name']= Artist_name\n",
    "Songs['Last Week Rank']= Last_week_rank\n",
    "Songs['Peak Rank']= Peak_rank\n",
    "Songs['Weeks on Board']= Weeks_on_board\n",
    "\n",
    "Songs"
   ]
  },
  {
   "cell_type": "code",
   "execution_count": 12,
   "metadata": {},
   "outputs": [],
   "source": [
    "driver.quit()"
   ]
  },
  {
   "cell_type": "code",
   "execution_count": null,
   "metadata": {},
   "outputs": [],
   "source": []
  }
 ],
 "metadata": {
  "kernelspec": {
   "display_name": "Python 3",
   "language": "python",
   "name": "python3"
  },
  "language_info": {
   "codemirror_mode": {
    "name": "ipython",
    "version": 3
   },
   "file_extension": ".py",
   "mimetype": "text/x-python",
   "name": "python",
   "nbconvert_exporter": "python",
   "pygments_lexer": "ipython3",
   "version": "3.8.5"
  }
 },
 "nbformat": 4,
 "nbformat_minor": 4
}
