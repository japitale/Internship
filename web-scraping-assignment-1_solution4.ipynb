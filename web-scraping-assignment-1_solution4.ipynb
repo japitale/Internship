{
 "cells": [
  {
   "cell_type": "code",
   "execution_count": 124,
   "metadata": {},
   "outputs": [],
   "source": [
    "from bs4 import BeautifulSoup\n",
    "import requests\n",
    "import pandas as pd\n",
    "import numpy as np\n",
    "from time import sleep\n",
    "from random import randint\n",
    "from requests import get"
   ]
  },
  {
   "cell_type": "code",
   "execution_count": 125,
   "metadata": {},
   "outputs": [],
   "source": [
    "titles = []\n",
    "author = []\n",
    "genre = []\n",
    "review = []"
   ]
  },
  {
   "cell_type": "code",
   "execution_count": 126,
   "metadata": {},
   "outputs": [],
   "source": [
    "page = requests.get('https://bookpage.com/')\n",
    "page\n",
    "soup = BeautifulSoup(page.text, 'html.parser')\n",
    "book_div = soup.find_all('div', class_='content')\n",
    "\n",
    "for i in book_div[0:5]:\n",
    "    name =i.h4.a.text\n",
    "    titles.append(name)\n",
    "    \n",
    "    writer = i.find('p',class_='sans bold')\n",
    "    author.append(writer)\n",
    "    \n",
    "    rev = i.find('p',class_='excerpt').text\n",
    "    review.append(rev)\n",
    "    \n",
    "    #typ = i.find('p',class_='excerpt').text\n",
    "    typ = i.find('p', class_='genre-links hidden-phone')\n",
    "    genre.append(typ)"
   ]
  },
  {
   "cell_type": "code",
   "execution_count": 127,
   "metadata": {},
   "outputs": [],
   "source": [
    "books = pd.DataFrame({'Book name:':titles,\n",
    "                      'Author':author,\n",
    "                      'Genre':genre,\n",
    "                      'Review':review\n",
    "})"
   ]
  },
  {
   "cell_type": "code",
   "execution_count": 128,
   "metadata": {},
   "outputs": [
    {
     "data": {
      "text/html": [
       "<div>\n",
       "<style scoped>\n",
       "    .dataframe tbody tr th:only-of-type {\n",
       "        vertical-align: middle;\n",
       "    }\n",
       "\n",
       "    .dataframe tbody tr th {\n",
       "        vertical-align: top;\n",
       "    }\n",
       "\n",
       "    .dataframe thead th {\n",
       "        text-align: right;\n",
       "    }\n",
       "</style>\n",
       "<table border=\"1\" class=\"dataframe\">\n",
       "  <thead>\n",
       "    <tr style=\"text-align: right;\">\n",
       "      <th></th>\n",
       "      <th>Book name:</th>\n",
       "      <th>Author</th>\n",
       "      <th>Genre</th>\n",
       "      <th>Review</th>\n",
       "    </tr>\n",
       "  </thead>\n",
       "  <tbody>\n",
       "    <tr>\n",
       "      <th>0</th>\n",
       "      <td>Desire is supposed to burn</td>\n",
       "      <td>[\\nBehind the Book by Laekan Zea Kemp\\n]</td>\n",
       "      <td>[\\n, [YA], \\n / \\n, [YA Fiction], \\n]</td>\n",
       "      <td>\\nDebut YA novelist Laekan Zea Kemp reflects o...</td>\n",
       "    </tr>\n",
       "    <tr>\n",
       "      <th>1</th>\n",
       "      <td>Make every day Earth Day</td>\n",
       "      <td>[\\nFeature by Alice Cary\\n]</td>\n",
       "      <td>[\\n, [Children's], \\n / \\n, [Children's Pictur...</td>\n",
       "      <td>\\nSix books for young readers convey the marve...</td>\n",
       "    </tr>\n",
       "    <tr>\n",
       "      <th>2</th>\n",
       "      <td>★ Watercress</td>\n",
       "      <td>[\\nReview by Julie Danielson\\n]</td>\n",
       "      <td>[\\n, [Children's], \\n / \\n, [Children's Pictur...</td>\n",
       "      <td>\\nAndrea Wang’s childhood memory of picking wa...</td>\n",
       "    </tr>\n",
       "    <tr>\n",
       "      <th>3</th>\n",
       "      <td>Raft of Stars</td>\n",
       "      <td>[\\nReview by Grace Lichtenstein\\n]</td>\n",
       "      <td>[\\n, [Fiction], \\n / \\n, [Coming of Age], \\n]</td>\n",
       "      <td>\\nAndrew J. Graff’s fine debut novel begins ge...</td>\n",
       "    </tr>\n",
       "    <tr>\n",
       "      <th>4</th>\n",
       "      <td>Until Justice Be Done</td>\n",
       "      <td>[\\nReview by Deborah Mason\\n]</td>\n",
       "      <td>[\\n, [Nonfiction], \\n / \\n, [History], \\n / \\n...</td>\n",
       "      <td>\\nKate Masur’s scholarly but accessible histor...</td>\n",
       "    </tr>\n",
       "  </tbody>\n",
       "</table>\n",
       "</div>"
      ],
      "text/plain": [
       "                   Book name:                                    Author  \\\n",
       "0  Desire is supposed to burn  [\\nBehind the Book by Laekan Zea Kemp\\n]   \n",
       "1    Make every day Earth Day               [\\nFeature by Alice Cary\\n]   \n",
       "2                ★ Watercress           [\\nReview by Julie Danielson\\n]   \n",
       "3               Raft of Stars        [\\nReview by Grace Lichtenstein\\n]   \n",
       "4       Until Justice Be Done             [\\nReview by Deborah Mason\\n]   \n",
       "\n",
       "                                               Genre  \\\n",
       "0              [\\n, [YA], \\n / \\n, [YA Fiction], \\n]   \n",
       "1  [\\n, [Children's], \\n / \\n, [Children's Pictur...   \n",
       "2  [\\n, [Children's], \\n / \\n, [Children's Pictur...   \n",
       "3      [\\n, [Fiction], \\n / \\n, [Coming of Age], \\n]   \n",
       "4  [\\n, [Nonfiction], \\n / \\n, [History], \\n / \\n...   \n",
       "\n",
       "                                              Review  \n",
       "0  \\nDebut YA novelist Laekan Zea Kemp reflects o...  \n",
       "1  \\nSix books for young readers convey the marve...  \n",
       "2  \\nAndrea Wang’s childhood memory of picking wa...  \n",
       "3  \\nAndrew J. Graff’s fine debut novel begins ge...  \n",
       "4  \\nKate Masur’s scholarly but accessible histor...  "
      ]
     },
     "execution_count": 128,
     "metadata": {},
     "output_type": "execute_result"
    }
   ],
   "source": [
    "books"
   ]
  },
  {
   "cell_type": "code",
   "execution_count": null,
   "metadata": {},
   "outputs": [],
   "source": []
  }
 ],
 "metadata": {
  "kernelspec": {
   "display_name": "Python 3",
   "language": "python",
   "name": "python3"
  },
  "language_info": {
   "codemirror_mode": {
    "name": "ipython",
    "version": 3
   },
   "file_extension": ".py",
   "mimetype": "text/x-python",
   "name": "python",
   "nbconvert_exporter": "python",
   "pygments_lexer": "ipython3",
   "version": "3.8.5"
  }
 },
 "nbformat": 4,
 "nbformat_minor": 4
}
