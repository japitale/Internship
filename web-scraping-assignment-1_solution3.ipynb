{
 "cells": [
  {
   "cell_type": "code",
   "execution_count": 20,
   "metadata": {},
   "outputs": [],
   "source": [
    "from bs4 import BeautifulSoup\n",
    "import requests\n",
    "import pandas as pd\n",
    "import numpy as np\n",
    "from time import sleep\n",
    "from random import randint\n",
    "from requests import get"
   ]
  },
  {
   "cell_type": "code",
   "execution_count": 21,
   "metadata": {},
   "outputs": [],
   "source": [
    "titles = []\n",
    "years = []\n",
    "imdb_ratings = []"
   ]
  },
  {
   "cell_type": "code",
   "execution_count": 22,
   "metadata": {},
   "outputs": [],
   "source": [
    "page = requests.get('https://www.imdb.com/list/ls063915608/')\n",
    "soup = BeautifulSoup(page.text, 'html.parser')\n",
    "movie_div = soup.find_all('div', class_='lister-item mode-detail')\n",
    "\n",
    "for i in movie_div:\n",
    "    name =i.h3.a.text\n",
    "    titles.append(name)\n",
    "    \n",
    "    year = i.h3.find('span', class_='lister-item-year').text\n",
    "    years.append(year)\n",
    "    \n",
    "   # imdb = float(i.strong.text)\n",
    "   # imdb_ratings.append(imdb)\n",
    "\n",
    "rating_div = soup.find_all('div',class_='ipl-rating-widget')\n",
    "\n",
    "for j in rating_div:\n",
    "    imdb = j.find('span', class_='ipl-rating-star__rating').text\n",
    "    imdb_ratings.append(imdb)\n",
    "    "
   ]
  },
  {
   "cell_type": "code",
   "execution_count": 23,
   "metadata": {},
   "outputs": [
    {
     "data": {
      "text/html": [
       "<div>\n",
       "<style scoped>\n",
       "    .dataframe tbody tr th:only-of-type {\n",
       "        vertical-align: middle;\n",
       "    }\n",
       "\n",
       "    .dataframe tbody tr th {\n",
       "        vertical-align: top;\n",
       "    }\n",
       "\n",
       "    .dataframe thead th {\n",
       "        text-align: right;\n",
       "    }\n",
       "</style>\n",
       "<table border=\"1\" class=\"dataframe\">\n",
       "  <thead>\n",
       "    <tr style=\"text-align: right;\">\n",
       "      <th></th>\n",
       "      <th>movie</th>\n",
       "      <th>year</th>\n",
       "      <th>imdb_rating</th>\n",
       "    </tr>\n",
       "  </thead>\n",
       "  <tbody>\n",
       "    <tr>\n",
       "      <th>0</th>\n",
       "      <td>Rang De Basanti</td>\n",
       "      <td>(2006)</td>\n",
       "      <td>8.2</td>\n",
       "    </tr>\n",
       "    <tr>\n",
       "      <th>1</th>\n",
       "      <td>Lagaan: Once Upon a Time in India</td>\n",
       "      <td>(2001)</td>\n",
       "      <td>8.1</td>\n",
       "    </tr>\n",
       "    <tr>\n",
       "      <th>2</th>\n",
       "      <td>Dil Chahta Hai</td>\n",
       "      <td>(2001)</td>\n",
       "      <td>8.1</td>\n",
       "    </tr>\n",
       "    <tr>\n",
       "      <th>3</th>\n",
       "      <td>Gangs of Wasseypur</td>\n",
       "      <td>(2012)</td>\n",
       "      <td>8.2</td>\n",
       "    </tr>\n",
       "    <tr>\n",
       "      <th>4</th>\n",
       "      <td>Zindagi Na Milegi Dobara</td>\n",
       "      <td>(2011)</td>\n",
       "      <td>8.2</td>\n",
       "    </tr>\n",
       "    <tr>\n",
       "      <th>...</th>\n",
       "      <td>...</td>\n",
       "      <td>...</td>\n",
       "      <td>...</td>\n",
       "    </tr>\n",
       "    <tr>\n",
       "      <th>95</th>\n",
       "      <td>Kuch Kuch Hota Hai</td>\n",
       "      <td>(1998)</td>\n",
       "      <td>7.6</td>\n",
       "    </tr>\n",
       "    <tr>\n",
       "      <th>96</th>\n",
       "      <td>Dhamaal</td>\n",
       "      <td>(2007)</td>\n",
       "      <td>7.3</td>\n",
       "    </tr>\n",
       "    <tr>\n",
       "      <th>97</th>\n",
       "      <td>Golmaal: Fun Unlimited</td>\n",
       "      <td>(2006)</td>\n",
       "      <td>7.4</td>\n",
       "    </tr>\n",
       "    <tr>\n",
       "      <th>98</th>\n",
       "      <td>Aligarh</td>\n",
       "      <td>(2015)</td>\n",
       "      <td>7.8</td>\n",
       "    </tr>\n",
       "    <tr>\n",
       "      <th>99</th>\n",
       "      <td>Earth</td>\n",
       "      <td>(1998)</td>\n",
       "      <td>7.7</td>\n",
       "    </tr>\n",
       "  </tbody>\n",
       "</table>\n",
       "<p>100 rows × 3 columns</p>\n",
       "</div>"
      ],
      "text/plain": [
       "                                movie    year imdb_rating\n",
       "0                     Rang De Basanti  (2006)         8.2\n",
       "1   Lagaan: Once Upon a Time in India  (2001)         8.1\n",
       "2                      Dil Chahta Hai  (2001)         8.1\n",
       "3                  Gangs of Wasseypur  (2012)         8.2\n",
       "4            Zindagi Na Milegi Dobara  (2011)         8.2\n",
       "..                                ...     ...         ...\n",
       "95                 Kuch Kuch Hota Hai  (1998)         7.6\n",
       "96                            Dhamaal  (2007)         7.3\n",
       "97             Golmaal: Fun Unlimited  (2006)         7.4\n",
       "98                            Aligarh  (2015)         7.8\n",
       "99                              Earth  (1998)         7.7\n",
       "\n",
       "[100 rows x 3 columns]"
      ]
     },
     "execution_count": 23,
     "metadata": {},
     "output_type": "execute_result"
    }
   ],
   "source": [
    "movies = pd.DataFrame({'movie':titles,\n",
    "                       'year':years,\n",
    "                       'imdb_rating':imdb_ratings,\n",
    "                       })\n",
    "\n",
    "movies"
   ]
  },
  {
   "cell_type": "code",
   "execution_count": 24,
   "metadata": {},
   "outputs": [],
   "source": [
    "movies.to_csv(\"E:\\\\python\\\\internship\\\\Web scrapping 1\\\\imdb_top100_Indian_movies.csv\",header=0)"
   ]
  },
  {
   "cell_type": "code",
   "execution_count": null,
   "metadata": {},
   "outputs": [],
   "source": []
  }
 ],
 "metadata": {
  "kernelspec": {
   "display_name": "Python 3",
   "language": "python",
   "name": "python3"
  },
  "language_info": {
   "codemirror_mode": {
    "name": "ipython",
    "version": 3
   },
   "file_extension": ".py",
   "mimetype": "text/x-python",
   "name": "python",
   "nbconvert_exporter": "python",
   "pygments_lexer": "ipython3",
   "version": "3.8.5"
  }
 },
 "nbformat": 4,
 "nbformat_minor": 4
}
