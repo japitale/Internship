{
 "cells": [
  {
   "cell_type": "code",
   "execution_count": 1,
   "metadata": {},
   "outputs": [],
   "source": [
    "import selenium\n",
    "import pandas as pd\n",
    "from selenium import webdriver \n",
    "import time\n",
    "from selenium.common.exceptions import NoSuchElementException\n",
    "from selenium.webdriver.support.ui import WebDriverWait\n",
    "from selenium.webdriver.support import expected_conditions as EC\n",
    "from selenium.webdriver.common.by import By\n",
    "from selenium.webdriver.common.keys import Keys"
   ]
  },
  {
   "cell_type": "code",
   "execution_count": 2,
   "metadata": {},
   "outputs": [],
   "source": [
    "driver = webdriver.Chrome(r\"C://chromedriver.exe\")\n",
    "driver.get('https://www.digit.in/')"
   ]
  },
  {
   "cell_type": "code",
   "execution_count": 3,
   "metadata": {},
   "outputs": [],
   "source": [
    "search = driver.find_element_by_xpath(\"//div[@class = 'search']\")\n",
    "search.click()"
   ]
  },
  {
   "cell_type": "code",
   "execution_count": 4,
   "metadata": {},
   "outputs": [],
   "source": [
    "search_text = driver.find_element_by_xpath(\"//input[@id='globalPageSearchText']\")\n",
    "search_text.clear()\n",
    "search_text.send_keys('gaming laptops')\n",
    "search_text.send_keys(Keys.ENTER)"
   ]
  },
  {
   "cell_type": "code",
   "execution_count": 5,
   "metadata": {},
   "outputs": [],
   "source": [
    "select_radio = driver.find_element_by_id('content_top10')\n",
    "select_radio.click()"
   ]
  },
  {
   "cell_type": "code",
   "execution_count": 6,
   "metadata": {},
   "outputs": [],
   "source": [
    "select_top10 = driver.find_element_by_xpath(\"//div[@class = 'searchProduct-desc']\")\n",
    "select_top10.click()"
   ]
  },
  {
   "cell_type": "code",
   "execution_count": 7,
   "metadata": {},
   "outputs": [],
   "source": [
    "price = []\n",
    "product_name = []\n",
    "seller = []\n",
    "OS = []\n",
    "display = []\n",
    "processor = []\n",
    "memory = []\n",
    "weight = []\n",
    "dimension = []\n",
    "graphics = []"
   ]
  },
  {
   "cell_type": "code",
   "execution_count": 8,
   "metadata": {},
   "outputs": [
    {
     "data": {
      "text/plain": [
       "['MSI GT76 TITAN DT 9SG',\n",
       " 'Alienware 17 Area-51m',\n",
       " 'HP Omen 15 2020',\n",
       " 'Asus Zephyrus G14',\n",
       " 'Lenovo Legion Y540',\n",
       " 'Asus ROG Zephyrus G GA502',\n",
       " 'Asus ROG Zephyrus S GX531',\n",
       " 'MSI GT83VR 7RE Titan SLI',\n",
       " 'ASUS ROG ZEPHYRUS DUO 15',\n",
       " 'Dell G3']"
      ]
     },
     "execution_count": 8,
     "metadata": {},
     "output_type": "execute_result"
    }
   ],
   "source": [
    "name  = driver.find_elements_by_xpath(\"//div[@class = 'Top10-Seller']//tr//td[1]\")\n",
    "#name\n",
    "\n",
    "for i in name:\n",
    "    names = i.text\n",
    "    product_name.append(names)\n",
    "\n",
    "product_name"
   ]
  },
  {
   "cell_type": "code",
   "execution_count": 9,
   "metadata": {},
   "outputs": [
    {
     "data": {
      "text/plain": [
       "['N/A',\n",
       " 'amazon',\n",
       " 'Tatacliq',\n",
       " 'amazon',\n",
       " 'flipkart',\n",
       " 'flipkart',\n",
       " 'flipkart',\n",
       " 'N/A',\n",
       " 'amazon',\n",
       " 'amazon']"
      ]
     },
     "execution_count": 9,
     "metadata": {},
     "output_type": "execute_result"
    }
   ],
   "source": [
    "dealer = driver.find_elements_by_xpath(\"//td[@class ='smmerchant']\")\n",
    "\n",
    "for i in dealer:\n",
    "    dealers = i.text\n",
    "    seller.append(dealers)\n",
    "\n",
    "seller"
   ]
  },
  {
   "cell_type": "code",
   "execution_count": 10,
   "metadata": {},
   "outputs": [
    {
     "data": {
      "text/plain": [
       "['₹379990',\n",
       " '₹422000',\n",
       " '₹117790',\n",
       " '₹164990',\n",
       " '₹79990',\n",
       " '₹79990',\n",
       " '₹239990',\n",
       " '₹349990',\n",
       " '₹244990',\n",
       " '₹61990']"
      ]
     },
     "execution_count": 10,
     "metadata": {},
     "output_type": "execute_result"
    }
   ],
   "source": [
    "cost = driver.find_elements_by_xpath(\"//td[@class ='smprice']\")\n",
    "\n",
    "for i in cost:\n",
    "    costs = i.text\n",
    "    price.append(costs)\n",
    "\n",
    "price"
   ]
  },
  {
   "cell_type": "code",
   "execution_count": 11,
   "metadata": {},
   "outputs": [
    {
     "data": {
      "text/plain": [
       "['Windows 10 Pro',\n",
       " 'Windows 10 Pro',\n",
       " 'Windows 10 Home',\n",
       " 'Windows 10 Home',\n",
       " 'Windows 10 Home',\n",
       " 'Windows 10 Home',\n",
       " 'Windows 10 Home',\n",
       " 'Windows 10 Home 64 bit',\n",
       " 'Windows 10',\n",
       " 'Windows 10 Home Plus']"
      ]
     },
     "execution_count": 11,
     "metadata": {},
     "output_type": "execute_result"
    }
   ],
   "source": [
    "operating  = driver.find_elements_by_xpath(\"//div[@class = 'Spcs-details']//tr[3]//td[3]\")\n",
    "#name\n",
    "\n",
    "for i in operating:\n",
    "    oper = i.text\n",
    "    OS.append(oper)\n",
    "\n",
    "OS"
   ]
  },
  {
   "cell_type": "code",
   "execution_count": 12,
   "metadata": {},
   "outputs": [
    {
     "data": {
      "text/plain": [
       "['17.3\" (UHD 3840x2160)',\n",
       " '17.3\" (FHD (1920 x 1080))',\n",
       " '15.6\" (1920 x 1080)',\n",
       " '14\" (1920 x 1080)',\n",
       " '15.6\" (1920 X 1080)',\n",
       " '15.6\" (1920 x 1080)',\n",
       " '15.6\" (1920 X 1080)',\n",
       " '18.4\" (1920 x 1080)',\n",
       " '15.6\" (3840 x 1100)',\n",
       " '15.6 MP | NA']"
      ]
     },
     "execution_count": 12,
     "metadata": {},
     "output_type": "execute_result"
    }
   ],
   "source": [
    "disp  = driver.find_elements_by_xpath(\"//div[@class = 'Spcs-details']//tr[4]//td[3]\")\n",
    "#name\n",
    "\n",
    "for i in disp:\n",
    "    disps = i.text\n",
    "    display.append(disps)\n",
    "\n",
    "display"
   ]
  },
  {
   "cell_type": "code",
   "execution_count": 13,
   "metadata": {},
   "outputs": [
    {
     "data": {
      "text/plain": [
       "['Intel 9th Gen Core i9-9900K | 5000 MHz',\n",
       " 'Intel 9th Gen Core i9-9900K | 5000 MHz',\n",
       " 'Intel i7-10750H 10th Gen | 1.6GHz',\n",
       " 'AMD 3rd Generation Ryzen 9 | 3.3 GHz',\n",
       " '9th Generation Core Intel I7-9750H | 2.6 Ghz',\n",
       " 'AMD Ryzen 7 Quad Core 3750H | 2.3 GHz',\n",
       " '9th Gen Intel Core i7-8750H | 2.2 GHz',\n",
       " 'Intel CM238 Core i7-7820HK+CM238 7th Gen | 3.5GHz',\n",
       " 'Intel Core i7 10th Gen 10875H | NA',\n",
       " '8th Gen Intel core i5-8300H | 2.3GHz']"
      ]
     },
     "execution_count": 13,
     "metadata": {},
     "output_type": "execute_result"
    }
   ],
   "source": [
    "process  = driver.find_elements_by_xpath(\"//div[@class = 'Spcs-details']//tr[5]//td[3]\")\n",
    "#name\n",
    "\n",
    "for i in process:\n",
    "    processes = i.text\n",
    "    processor.append(processes)\n",
    "\n",
    "processor"
   ]
  },
  {
   "cell_type": "code",
   "execution_count": 14,
   "metadata": {},
   "outputs": [
    {
     "data": {
      "text/plain": [
       "['1 TB HDD/64 GBGB DDR4',\n",
       " '1 TB PCIe SSD/32GB DDR4',\n",
       " '512 GB SSD/16 GBGB DDR4',\n",
       " '1 TB SSD/16 GBGB DDR4',\n",
       " '1 TB SSD/8GB DDR4',\n",
       " '512 GB SSD/16GB DDR4',\n",
       " '512GB SSD/16 GBGB DDR4',\n",
       " '1.5 TB SATA/64GB DDR4',\n",
       " '512 GB SSD/4 GBGB DDR4',\n",
       " '1TB HDD/8GB DDR4']"
      ]
     },
     "execution_count": 14,
     "metadata": {},
     "output_type": "execute_result"
    }
   ],
   "source": [
    "mem  = driver.find_elements_by_xpath(\"//div[@class = 'Spcs-details']//tr[6]//td[3]\")\n",
    "#name\n",
    "\n",
    "for i in mem:\n",
    "    memo = i.text\n",
    "    memory.append(memo)\n",
    "\n",
    "memory"
   ]
  },
  {
   "cell_type": "code",
   "execution_count": 15,
   "metadata": {},
   "outputs": [
    {
     "data": {
      "text/plain": [
       "['4.2 kg',\n",
       " '3.87 Kg',\n",
       " '5.40',\n",
       " '1.65',\n",
       " '2.3',\n",
       " '2.2',\n",
       " '2.1',\n",
       " '5.5',\n",
       " '2.4',\n",
       " '2.53']"
      ]
     },
     "execution_count": 15,
     "metadata": {},
     "output_type": "execute_result"
    }
   ],
   "source": [
    "wgt  = driver.find_elements_by_xpath(\"//div[@class = 'Spcs-details']//tr[7]//td[3]\")\n",
    "#name\n",
    "\n",
    "for i in wgt:\n",
    "    wgts = i.text\n",
    "    weight.append(wgts)\n",
    "\n",
    "weight"
   ]
  },
  {
   "cell_type": "code",
   "execution_count": 16,
   "metadata": {},
   "outputs": [
    {
     "data": {
      "text/plain": [
       "['397 x 330 x 33~42 mm',\n",
       " '42 mm x 402.6 mm x 319.14 mm',\n",
       " '14.09 x 9.44 x 0.89',\n",
       " '32.5 x 22.1 x 1.8',\n",
       " '365mm x 260mm x 25.9mm',\n",
       " '360 x 252 x 20.4',\n",
       " '360 (W) x 268 (D) x 15.35~16.15 (H) mm',\n",
       " '458 x 339 x 69',\n",
       " '268.30 x 360.00 x 20.90',\n",
       " '22.7 X 380 X 258']"
      ]
     },
     "execution_count": 16,
     "metadata": {},
     "output_type": "execute_result"
    }
   ],
   "source": [
    "dim  = driver.find_elements_by_xpath(\"//div[@class = 'Spcs-details']//tr[8]//td[3]\")\n",
    "#name\n",
    "\n",
    "for i in dim:\n",
    "    dims = i.text\n",
    "    dimension.append(dims)\n",
    "\n",
    "dimension"
   ]
  },
  {
   "cell_type": "code",
   "execution_count": 17,
   "metadata": {},
   "outputs": [
    {
     "data": {
      "text/plain": [
       "['397 x 330 x 33~42 mm',\n",
       " '42 mm x 402.6 mm x 319.14 mm',\n",
       " '14.09 x 9.44 x 0.89',\n",
       " '32.5 x 22.1 x 1.8',\n",
       " '365mm x 260mm x 25.9mm',\n",
       " '360 x 252 x 20.4',\n",
       " '360 (W) x 268 (D) x 15.35~16.15 (H) mm',\n",
       " '458 x 339 x 69',\n",
       " '268.30 x 360.00 x 20.90',\n",
       " '22.7 X 380 X 258']"
      ]
     },
     "execution_count": 17,
     "metadata": {},
     "output_type": "execute_result"
    }
   ],
   "source": [
    "gph  = driver.find_elements_by_xpath(\"//div[@class = 'Spcs-details']//tr[8]//td[3]\")\n",
    "#name\n",
    "\n",
    "for i in gph:\n",
    "    gphs = i.text\n",
    "    graphics.append(gphs)\n",
    "\n",
    "graphics"
   ]
  },
  {
   "cell_type": "code",
   "execution_count": 18,
   "metadata": {},
   "outputs": [
    {
     "data": {
      "text/html": [
       "<div>\n",
       "<style scoped>\n",
       "    .dataframe tbody tr th:only-of-type {\n",
       "        vertical-align: middle;\n",
       "    }\n",
       "\n",
       "    .dataframe tbody tr th {\n",
       "        vertical-align: top;\n",
       "    }\n",
       "\n",
       "    .dataframe thead th {\n",
       "        text-align: right;\n",
       "    }\n",
       "</style>\n",
       "<table border=\"1\" class=\"dataframe\">\n",
       "  <thead>\n",
       "    <tr style=\"text-align: right;\">\n",
       "      <th></th>\n",
       "      <th>Product Name</th>\n",
       "      <th>Seller</th>\n",
       "      <th>Price</th>\n",
       "      <th>OS</th>\n",
       "      <th>Display Screen</th>\n",
       "      <th>Processor</th>\n",
       "      <th>Memory</th>\n",
       "      <th>Weight</th>\n",
       "      <th>Dimension</th>\n",
       "      <th>Graphics Processor</th>\n",
       "    </tr>\n",
       "  </thead>\n",
       "  <tbody>\n",
       "    <tr>\n",
       "      <th>0</th>\n",
       "      <td>MSI GT76 TITAN DT 9SG</td>\n",
       "      <td>N/A</td>\n",
       "      <td>₹379990</td>\n",
       "      <td>Windows 10 Pro</td>\n",
       "      <td>17.3\" (UHD 3840x2160)</td>\n",
       "      <td>Intel 9th Gen Core i9-9900K | 5000 MHz</td>\n",
       "      <td>1 TB HDD/64 GBGB DDR4</td>\n",
       "      <td>4.2 kg</td>\n",
       "      <td>397 x 330 x 33~42 mm</td>\n",
       "      <td>397 x 330 x 33~42 mm</td>\n",
       "    </tr>\n",
       "    <tr>\n",
       "      <th>1</th>\n",
       "      <td>Alienware 17 Area-51m</td>\n",
       "      <td>amazon</td>\n",
       "      <td>₹422000</td>\n",
       "      <td>Windows 10 Pro</td>\n",
       "      <td>17.3\" (FHD (1920 x 1080))</td>\n",
       "      <td>Intel 9th Gen Core i9-9900K | 5000 MHz</td>\n",
       "      <td>1 TB PCIe SSD/32GB DDR4</td>\n",
       "      <td>3.87 Kg</td>\n",
       "      <td>42 mm x 402.6 mm x 319.14 mm</td>\n",
       "      <td>42 mm x 402.6 mm x 319.14 mm</td>\n",
       "    </tr>\n",
       "    <tr>\n",
       "      <th>2</th>\n",
       "      <td>HP Omen 15 2020</td>\n",
       "      <td>Tatacliq</td>\n",
       "      <td>₹117790</td>\n",
       "      <td>Windows 10 Home</td>\n",
       "      <td>15.6\" (1920 x 1080)</td>\n",
       "      <td>Intel i7-10750H 10th Gen | 1.6GHz</td>\n",
       "      <td>512 GB SSD/16 GBGB DDR4</td>\n",
       "      <td>5.40</td>\n",
       "      <td>14.09 x 9.44 x 0.89</td>\n",
       "      <td>14.09 x 9.44 x 0.89</td>\n",
       "    </tr>\n",
       "    <tr>\n",
       "      <th>3</th>\n",
       "      <td>Asus Zephyrus G14</td>\n",
       "      <td>amazon</td>\n",
       "      <td>₹164990</td>\n",
       "      <td>Windows 10 Home</td>\n",
       "      <td>14\" (1920 x 1080)</td>\n",
       "      <td>AMD 3rd Generation Ryzen 9 | 3.3 GHz</td>\n",
       "      <td>1 TB SSD/16 GBGB DDR4</td>\n",
       "      <td>1.65</td>\n",
       "      <td>32.5 x 22.1 x 1.8</td>\n",
       "      <td>32.5 x 22.1 x 1.8</td>\n",
       "    </tr>\n",
       "    <tr>\n",
       "      <th>4</th>\n",
       "      <td>Lenovo Legion Y540</td>\n",
       "      <td>flipkart</td>\n",
       "      <td>₹79990</td>\n",
       "      <td>Windows 10 Home</td>\n",
       "      <td>15.6\" (1920 X 1080)</td>\n",
       "      <td>9th Generation Core Intel I7-9750H | 2.6 Ghz</td>\n",
       "      <td>1 TB SSD/8GB DDR4</td>\n",
       "      <td>2.3</td>\n",
       "      <td>365mm x 260mm x 25.9mm</td>\n",
       "      <td>365mm x 260mm x 25.9mm</td>\n",
       "    </tr>\n",
       "    <tr>\n",
       "      <th>5</th>\n",
       "      <td>Asus ROG Zephyrus G GA502</td>\n",
       "      <td>flipkart</td>\n",
       "      <td>₹79990</td>\n",
       "      <td>Windows 10 Home</td>\n",
       "      <td>15.6\" (1920 x 1080)</td>\n",
       "      <td>AMD Ryzen 7 Quad Core 3750H | 2.3 GHz</td>\n",
       "      <td>512 GB SSD/16GB DDR4</td>\n",
       "      <td>2.2</td>\n",
       "      <td>360 x 252 x 20.4</td>\n",
       "      <td>360 x 252 x 20.4</td>\n",
       "    </tr>\n",
       "    <tr>\n",
       "      <th>6</th>\n",
       "      <td>Asus ROG Zephyrus S GX531</td>\n",
       "      <td>flipkart</td>\n",
       "      <td>₹239990</td>\n",
       "      <td>Windows 10 Home</td>\n",
       "      <td>15.6\" (1920 X 1080)</td>\n",
       "      <td>9th Gen Intel Core i7-8750H | 2.2 GHz</td>\n",
       "      <td>512GB SSD/16 GBGB DDR4</td>\n",
       "      <td>2.1</td>\n",
       "      <td>360 (W) x 268 (D) x 15.35~16.15 (H) mm</td>\n",
       "      <td>360 (W) x 268 (D) x 15.35~16.15 (H) mm</td>\n",
       "    </tr>\n",
       "    <tr>\n",
       "      <th>7</th>\n",
       "      <td>MSI GT83VR 7RE Titan SLI</td>\n",
       "      <td>N/A</td>\n",
       "      <td>₹349990</td>\n",
       "      <td>Windows 10 Home 64 bit</td>\n",
       "      <td>18.4\" (1920 x 1080)</td>\n",
       "      <td>Intel CM238 Core i7-7820HK+CM238 7th Gen | 3.5GHz</td>\n",
       "      <td>1.5 TB SATA/64GB DDR4</td>\n",
       "      <td>5.5</td>\n",
       "      <td>458 x 339 x 69</td>\n",
       "      <td>458 x 339 x 69</td>\n",
       "    </tr>\n",
       "    <tr>\n",
       "      <th>8</th>\n",
       "      <td>ASUS ROG ZEPHYRUS DUO 15</td>\n",
       "      <td>amazon</td>\n",
       "      <td>₹244990</td>\n",
       "      <td>Windows 10</td>\n",
       "      <td>15.6\" (3840 x 1100)</td>\n",
       "      <td>Intel Core i7 10th Gen 10875H | NA</td>\n",
       "      <td>512 GB SSD/4 GBGB DDR4</td>\n",
       "      <td>2.4</td>\n",
       "      <td>268.30 x 360.00 x 20.90</td>\n",
       "      <td>268.30 x 360.00 x 20.90</td>\n",
       "    </tr>\n",
       "    <tr>\n",
       "      <th>9</th>\n",
       "      <td>Dell G3</td>\n",
       "      <td>amazon</td>\n",
       "      <td>₹61990</td>\n",
       "      <td>Windows 10 Home Plus</td>\n",
       "      <td>15.6 MP | NA</td>\n",
       "      <td>8th Gen Intel core i5-8300H | 2.3GHz</td>\n",
       "      <td>1TB HDD/8GB DDR4</td>\n",
       "      <td>2.53</td>\n",
       "      <td>22.7 X 380 X 258</td>\n",
       "      <td>22.7 X 380 X 258</td>\n",
       "    </tr>\n",
       "  </tbody>\n",
       "</table>\n",
       "</div>"
      ],
      "text/plain": [
       "                Product Name    Seller    Price                      OS  \\\n",
       "0      MSI GT76 TITAN DT 9SG       N/A  ₹379990          Windows 10 Pro   \n",
       "1      Alienware 17 Area-51m    amazon  ₹422000          Windows 10 Pro   \n",
       "2            HP Omen 15 2020  Tatacliq  ₹117790         Windows 10 Home   \n",
       "3          Asus Zephyrus G14    amazon  ₹164990         Windows 10 Home   \n",
       "4         Lenovo Legion Y540  flipkart   ₹79990         Windows 10 Home   \n",
       "5  Asus ROG Zephyrus G GA502  flipkart   ₹79990         Windows 10 Home   \n",
       "6  Asus ROG Zephyrus S GX531  flipkart  ₹239990         Windows 10 Home   \n",
       "7   MSI GT83VR 7RE Titan SLI       N/A  ₹349990  Windows 10 Home 64 bit   \n",
       "8   ASUS ROG ZEPHYRUS DUO 15    amazon  ₹244990              Windows 10   \n",
       "9                    Dell G3    amazon   ₹61990    Windows 10 Home Plus   \n",
       "\n",
       "              Display Screen  \\\n",
       "0      17.3\" (UHD 3840x2160)   \n",
       "1  17.3\" (FHD (1920 x 1080))   \n",
       "2        15.6\" (1920 x 1080)   \n",
       "3          14\" (1920 x 1080)   \n",
       "4        15.6\" (1920 X 1080)   \n",
       "5        15.6\" (1920 x 1080)   \n",
       "6        15.6\" (1920 X 1080)   \n",
       "7        18.4\" (1920 x 1080)   \n",
       "8        15.6\" (3840 x 1100)   \n",
       "9               15.6 MP | NA   \n",
       "\n",
       "                                           Processor                   Memory  \\\n",
       "0             Intel 9th Gen Core i9-9900K | 5000 MHz    1 TB HDD/64 GBGB DDR4   \n",
       "1             Intel 9th Gen Core i9-9900K | 5000 MHz  1 TB PCIe SSD/32GB DDR4   \n",
       "2                  Intel i7-10750H 10th Gen | 1.6GHz  512 GB SSD/16 GBGB DDR4   \n",
       "3               AMD 3rd Generation Ryzen 9 | 3.3 GHz    1 TB SSD/16 GBGB DDR4   \n",
       "4       9th Generation Core Intel I7-9750H | 2.6 Ghz        1 TB SSD/8GB DDR4   \n",
       "5              AMD Ryzen 7 Quad Core 3750H | 2.3 GHz     512 GB SSD/16GB DDR4   \n",
       "6              9th Gen Intel Core i7-8750H | 2.2 GHz   512GB SSD/16 GBGB DDR4   \n",
       "7  Intel CM238 Core i7-7820HK+CM238 7th Gen | 3.5GHz    1.5 TB SATA/64GB DDR4   \n",
       "8                 Intel Core i7 10th Gen 10875H | NA   512 GB SSD/4 GBGB DDR4   \n",
       "9               8th Gen Intel core i5-8300H | 2.3GHz         1TB HDD/8GB DDR4   \n",
       "\n",
       "    Weight                               Dimension  \\\n",
       "0   4.2 kg                    397 x 330 x 33~42 mm   \n",
       "1  3.87 Kg            42 mm x 402.6 mm x 319.14 mm   \n",
       "2     5.40                     14.09 x 9.44 x 0.89   \n",
       "3     1.65                       32.5 x 22.1 x 1.8   \n",
       "4      2.3                  365mm x 260mm x 25.9mm   \n",
       "5      2.2                        360 x 252 x 20.4   \n",
       "6      2.1  360 (W) x 268 (D) x 15.35~16.15 (H) mm   \n",
       "7      5.5                          458 x 339 x 69   \n",
       "8      2.4                 268.30 x 360.00 x 20.90   \n",
       "9     2.53                        22.7 X 380 X 258   \n",
       "\n",
       "                       Graphics Processor  \n",
       "0                    397 x 330 x 33~42 mm  \n",
       "1            42 mm x 402.6 mm x 319.14 mm  \n",
       "2                     14.09 x 9.44 x 0.89  \n",
       "3                       32.5 x 22.1 x 1.8  \n",
       "4                  365mm x 260mm x 25.9mm  \n",
       "5                        360 x 252 x 20.4  \n",
       "6  360 (W) x 268 (D) x 15.35~16.15 (H) mm  \n",
       "7                          458 x 339 x 69  \n",
       "8                 268.30 x 360.00 x 20.90  \n",
       "9                        22.7 X 380 X 258  "
      ]
     },
     "execution_count": 18,
     "metadata": {},
     "output_type": "execute_result"
    }
   ],
   "source": [
    "laptops= pd.DataFrame({})\n",
    "laptops['Product Name']=product_name\n",
    "laptops['Seller']=seller\n",
    "laptops['Price']=price\n",
    "laptops['OS']=OS\n",
    "laptops['Display Screen']=display\n",
    "laptops['Processor']=processor\n",
    "laptops['Memory']=memory\n",
    "laptops['Weight']=weight\n",
    "laptops['Dimension']=dimension\n",
    "laptops['Graphics Processor']=graphics\n",
    "\n",
    "\n",
    "laptops"
   ]
  },
  {
   "cell_type": "code",
   "execution_count": 19,
   "metadata": {},
   "outputs": [],
   "source": [
    "driver.quit()"
   ]
  },
  {
   "cell_type": "code",
   "execution_count": null,
   "metadata": {},
   "outputs": [],
   "source": []
  }
 ],
 "metadata": {
  "kernelspec": {
   "display_name": "Python 3",
   "language": "python",
   "name": "python3"
  },
  "language_info": {
   "codemirror_mode": {
    "name": "ipython",
    "version": 3
   },
   "file_extension": ".py",
   "mimetype": "text/x-python",
   "name": "python",
   "nbconvert_exporter": "python",
   "pygments_lexer": "ipython3",
   "version": "3.8.5"
  }
 },
 "nbformat": 4,
 "nbformat_minor": 4
}
